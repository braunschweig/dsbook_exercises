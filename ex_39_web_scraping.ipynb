{
 "cells": [
  {
   "cell_type": "markdown",
   "metadata": {},
   "source": [
    "## Exercises"
   ]
  },
  {
   "cell_type": "code",
   "execution_count": 1,
   "metadata": {},
   "outputs": [
    {
     "name": "stderr",
     "output_type": "stream",
     "text": [
      "── Attaching packages ─────────────────────────────────────── tidyverse 1.2.1 ──\n",
      "✔ ggplot2 2.2.1     ✔ purrr   0.2.5\n",
      "✔ tibble  1.4.2     ✔ dplyr   0.7.6\n",
      "✔ tidyr   0.8.1     ✔ stringr 1.3.1\n",
      "✔ readr   1.1.1     ✔ forcats 0.3.0\n",
      "── Conflicts ────────────────────────────────────────── tidyverse_conflicts() ──\n",
      "✖ dplyr::filter() masks stats::filter()\n",
      "✖ dplyr::lag()    masks stats::lag()\n",
      "Loading required package: xml2\n",
      "\n",
      "Attaching package: ‘rvest’\n",
      "\n",
      "The following object is masked from ‘package:purrr’:\n",
      "\n",
      "    pluck\n",
      "\n",
      "The following object is masked from ‘package:readr’:\n",
      "\n",
      "    guess_encoding\n",
      "\n"
     ]
    }
   ],
   "source": [
    "library(tidyverse)\n",
    "library(rvest)"
   ]
  },
  {
   "cell_type": "markdown",
   "metadata": {},
   "source": [
    ">1. Visit the following web page: [https://web.archive.org/web/20181024132313/http://www.stevetheump.com/Payrolls.htm](https://web.archive.org/web/20181024132313/http://www.stevetheump.com/Payrolls.htm)\n",
    ">    Notice there are several tables. Say we are interested in comparing the payrolls of teams across the years. The next few exercises take us through the steps needed to do this.\n",
    ">    Start by applying what you learned to read in the website into an object called `h`."
   ]
  },
  {
   "cell_type": "code",
   "execution_count": 13,
   "metadata": {},
   "outputs": [],
   "source": [
    "url <- \"https://web.archive.org/web/20181024132313/http://www.stevetheump.com/Payrolls.htm\""
   ]
  },
  {
   "cell_type": "code",
   "execution_count": 14,
   "metadata": {},
   "outputs": [],
   "source": [
    "h <- read_html(url)"
   ]
  },
  {
   "cell_type": "markdown",
   "metadata": {},
   "source": [
    ">2. Note that, although not very useful, we can actually see the content of the page by typing: `html_text(h)`\n",
    "\n",
    ">    The next step is to extract the tables. For this, we can use the `html_nodes` function. We learned that tables in html are associated with the `table` node.  Use the `html_nodes` function and the `table` node to extract the first table. Store it in an object `nodes`.\n",
    "\n"
   ]
  },
  {
   "cell_type": "code",
   "execution_count": 15,
   "metadata": {},
   "outputs": [],
   "source": [
    "nodes <- html_nodes(h,'table')"
   ]
  },
  {
   "cell_type": "markdown",
   "metadata": {},
   "source": [
    ">3. The `html_nodes` function returns a list of objects of class `xml_node`. We can see the content of each one using, for example, the `html_text` function. You can see the content for an arbitrarily picked component like this: `html_text(nodes[[8]])`\n",
    "\n",
    ">    If the content of this object is an html table, we can use the `html_table` function to convert it to a data frame. Use the `html_table` function to convert the 8th entry of `nodes` into a table.\n"
   ]
  },
  {
   "cell_type": "code",
   "execution_count": 16,
   "metadata": {},
   "outputs": [
    {
     "data": {
      "text/html": [
       "<table>\n",
       "<thead><tr><th scope=col>Team</th><th scope=col>Payroll</th><th scope=col>Averge</th><th scope=col>Median</th></tr></thead>\n",
       "<tbody>\n",
       "\t<tr><td>New York Yankees     </td><td>$ 197,962,289        </td><td>$ 6,186,321          </td><td>$ 1,937,500          </td></tr>\n",
       "\t<tr><td>Philadelphia Phillies</td><td>$ 174,538,938        </td><td>$ 5,817,964          </td><td>$ 1,875,000          </td></tr>\n",
       "</tbody>\n",
       "</table>\n"
      ],
      "text/latex": [
       "\\begin{tabular}{r|llll}\n",
       " Team & Payroll & Averge & Median\\\\\n",
       "\\hline\n",
       "\t New York Yankees      & \\$ 197,962,289       & \\$ 6,186,321         & \\$ 1,937,500        \\\\\n",
       "\t Philadelphia Phillies & \\$ 174,538,938       & \\$ 5,817,964         & \\$ 1,875,000        \\\\\n",
       "\\end{tabular}\n"
      ],
      "text/markdown": [
       "\n",
       "| Team | Payroll | Averge | Median |\n",
       "|---|---|---|---|\n",
       "| New York Yankees      | $ 197,962,289         | $ 6,186,321           | $ 1,937,500           |\n",
       "| Philadelphia Phillies | $ 174,538,938         | $ 5,817,964           | $ 1,875,000           |\n",
       "\n"
      ],
      "text/plain": [
       "  Team                  Payroll       Averge      Median     \n",
       "1 New York Yankees      $ 197,962,289 $ 6,186,321 $ 1,937,500\n",
       "2 Philadelphia Phillies $ 174,538,938 $ 5,817,964 $ 1,875,000"
      ]
     },
     "metadata": {},
     "output_type": "display_data"
    }
   ],
   "source": [
    "html_table(nodes[[8]]) %>% head(2)"
   ]
  },
  {
   "cell_type": "markdown",
   "metadata": {},
   "source": [
    ">4. Repeat the above for the first 4 components of `nodes`. Which of the following are payroll tables:\n",
    "\n",
    ">    A. All them.\n",
    "    \n",
    ">    B. 1\n",
    "    \n",
    ">    C. 2\n",
    "    \n",
    ">    __D__. 2-4\n"
   ]
  },
  {
   "cell_type": "code",
   "execution_count": 17,
   "metadata": {},
   "outputs": [
    {
     "data": {
      "text/html": [
       "<table>\n",
       "<thead><tr><th scope=col>X1</th><th scope=col>X2</th></tr></thead>\n",
       "<tbody>\n",
       "\t<tr><td>NA                                                                    </td><td>Salary Stats 1967-2019\n",
       "Top ML Player Salaries / Baseball's Luxury Tax</td></tr>\n",
       "</tbody>\n",
       "</table>\n"
      ],
      "text/latex": [
       "\\begin{tabular}{r|ll}\n",
       " X1 & X2\\\\\n",
       "\\hline\n",
       "\t NA                                                                     & Salary Stats 1967-2019\n",
       "Top ML Player Salaries / Baseball's Luxury Tax\\\\\n",
       "\\end{tabular}\n"
      ],
      "text/markdown": [
       "\n",
       "| X1 | X2 |\n",
       "|---|---|\n",
       "| NA                                                                     | Salary Stats 1967-2019\n",
       "Top ML Player Salaries / Baseball's Luxury Tax |\n",
       "\n"
      ],
      "text/plain": [
       "  X1 X2                                                                    \n",
       "1 NA Salary Stats 1967-2019\\nTop ML Player Salaries / Baseball's Luxury Tax"
      ]
     },
     "metadata": {},
     "output_type": "display_data"
    }
   ],
   "source": [
    "html_table(nodes[[1]]) %>% head(2)"
   ]
  },
  {
   "cell_type": "code",
   "execution_count": 18,
   "metadata": {},
   "outputs": [
    {
     "data": {
      "text/html": [
       "<table>\n",
       "<thead><tr><th scope=col>RANK</th><th scope=col>TEAM</th><th scope=col>Payroll</th></tr></thead>\n",
       "<tbody>\n",
       "\t<tr><td>1                   </td><td>Boston Red Sox      </td><td>$235.65M            </td></tr>\n",
       "\t<tr><td>2                   </td><td>San Francisco Giants</td><td>$208.51M            </td></tr>\n",
       "</tbody>\n",
       "</table>\n"
      ],
      "text/latex": [
       "\\begin{tabular}{r|lll}\n",
       " RANK & TEAM & Payroll\\\\\n",
       "\\hline\n",
       "\t 1                    & Boston Red Sox       & \\$235.65M          \\\\\n",
       "\t 2                    & San Francisco Giants & \\$208.51M          \\\\\n",
       "\\end{tabular}\n"
      ],
      "text/markdown": [
       "\n",
       "| RANK | TEAM | Payroll |\n",
       "|---|---|---|\n",
       "| 1                    | Boston Red Sox       | $235.65M             |\n",
       "| 2                    | San Francisco Giants | $208.51M             |\n",
       "\n"
      ],
      "text/plain": [
       "  RANK TEAM                 Payroll \n",
       "1 1    Boston Red Sox       $235.65M\n",
       "2 2    San Francisco Giants $208.51M"
      ]
     },
     "metadata": {},
     "output_type": "display_data"
    }
   ],
   "source": [
    "html_table(nodes[[2]]) %>% head(2)"
   ]
  },
  {
   "cell_type": "code",
   "execution_count": 19,
   "metadata": {},
   "outputs": [
    {
     "data": {
      "text/html": [
       "<table>\n",
       "<thead><tr><th scope=col>X1</th><th scope=col>X2</th><th scope=col>X3</th><th scope=col>X4</th><th scope=col>X5</th></tr></thead>\n",
       "<tbody>\n",
       "\t<tr><td>Rank               </td><td>Team               </td><td>25 Man             </td><td>Disabled List      </td><td>Total Payroll      </td></tr>\n",
       "\t<tr><td>1                  </td><td>Los Angeles Dodgers</td><td>$155,887,854       </td><td>$37,354,166        </td><td>$242,065,828       </td></tr>\n",
       "</tbody>\n",
       "</table>\n"
      ],
      "text/latex": [
       "\\begin{tabular}{r|lllll}\n",
       " X1 & X2 & X3 & X4 & X5\\\\\n",
       "\\hline\n",
       "\t Rank                & Team                & 25 Man              & Disabled List       & Total Payroll      \\\\\n",
       "\t 1                   & Los Angeles Dodgers & \\$155,887,854      & \\$37,354,166       & \\$242,065,828     \\\\\n",
       "\\end{tabular}\n"
      ],
      "text/markdown": [
       "\n",
       "| X1 | X2 | X3 | X4 | X5 |\n",
       "|---|---|---|---|---|\n",
       "| Rank                | Team                | 25 Man              | Disabled List       | Total Payroll       |\n",
       "| 1                   | Los Angeles Dodgers | $155,887,854        | $37,354,166         | $242,065,828        |\n",
       "\n"
      ],
      "text/plain": [
       "  X1   X2                  X3           X4            X5           \n",
       "1 Rank Team                25 Man       Disabled List Total Payroll\n",
       "2 1    Los Angeles Dodgers $155,887,854 $37,354,166   $242,065,828 "
      ]
     },
     "metadata": {},
     "output_type": "display_data"
    }
   ],
   "source": [
    "html_table(nodes[[3]]) %>% head(2)"
   ]
  },
  {
   "cell_type": "code",
   "execution_count": 20,
   "metadata": {},
   "outputs": [
    {
     "data": {
      "text/html": [
       "<table>\n",
       "<thead><tr><th scope=col>Rank</th><th scope=col>Team</th><th scope=col>Opening Day</th><th scope=col>Avg Salary</th><th scope=col>Median</th></tr></thead>\n",
       "<tbody>\n",
       "\t<tr><td>1            </td><td>Dodgers      </td><td>$ 223,352,402</td><td>$ 7,445,080  </td><td>$ 5,166,666  </td></tr>\n",
       "\t<tr><td>2            </td><td>Yankees      </td><td>$ 213,472,857</td><td>$ 7,361,133  </td><td>$ 3,300,000  </td></tr>\n",
       "</tbody>\n",
       "</table>\n"
      ],
      "text/latex": [
       "\\begin{tabular}{r|lllll}\n",
       " Rank & Team & Opening Day & Avg Salary & Median\\\\\n",
       "\\hline\n",
       "\t 1               & Dodgers         & \\$ 223,352,402 & \\$ 7,445,080   & \\$ 5,166,666  \\\\\n",
       "\t 2               & Yankees         & \\$ 213,472,857 & \\$ 7,361,133   & \\$ 3,300,000  \\\\\n",
       "\\end{tabular}\n"
      ],
      "text/markdown": [
       "\n",
       "| Rank | Team | Opening Day | Avg Salary | Median |\n",
       "|---|---|---|---|---|\n",
       "| 1             | Dodgers       | $ 223,352,402 | $ 7,445,080   | $ 5,166,666   |\n",
       "| 2             | Yankees       | $ 213,472,857 | $ 7,361,133   | $ 3,300,000   |\n",
       "\n"
      ],
      "text/plain": [
       "  Rank Team    Opening Day   Avg Salary  Median     \n",
       "1 1    Dodgers $ 223,352,402 $ 7,445,080 $ 5,166,666\n",
       "2 2    Yankees $ 213,472,857 $ 7,361,133 $ 3,300,000"
      ]
     },
     "metadata": {},
     "output_type": "display_data"
    }
   ],
   "source": [
    "html_table(nodes[[4]]) %>% head(2)"
   ]
  },
  {
   "cell_type": "markdown",
   "metadata": {},
   "source": [
    ">5. Repeat the above for the first __last__ 3 components of `nodes`. Which of the following is true:\n",
    "\n",
    ">    __A__. The last entry in `nodes` shows the average across all teams through time, not payroll per team.\n",
    "\n",
    ">    B. All three are payroll per team tables.\n",
    "\n",
    ">    C. All three are like the first entry, not a payroll table.   \n",
    "\n",
    ">    D. All of the above.\n"
   ]
  },
  {
   "cell_type": "code",
   "execution_count": 21,
   "metadata": {},
   "outputs": [
    {
     "data": {
      "text/html": [
       "<table>\n",
       "<thead><tr><th scope=col>X1</th><th scope=col>X2</th><th scope=col>X3</th><th scope=col>X4</th></tr></thead>\n",
       "<tbody>\n",
       "\t<tr><td>Year    </td><td>Minimum </td><td>Average </td><td>% Chg   </td></tr>\n",
       "\t<tr><td>2019    </td><td>$555,000</td><td>        </td><td>-       </td></tr>\n",
       "</tbody>\n",
       "</table>\n"
      ],
      "text/latex": [
       "\\begin{tabular}{r|llll}\n",
       " X1 & X2 & X3 & X4\\\\\n",
       "\\hline\n",
       "\t Year     & Minimum  & Average  & \\% Chg \\\\\n",
       "\t 2019       & \\$555,000 &            & -         \\\\\n",
       "\\end{tabular}\n"
      ],
      "text/markdown": [
       "\n",
       "| X1 | X2 | X3 | X4 |\n",
       "|---|---|---|---|\n",
       "| Year     | Minimum  | Average  | % Chg    |\n",
       "| 2019     | $555,000 |          | -        |\n",
       "\n"
      ],
      "text/plain": [
       "  X1   X2       X3      X4   \n",
       "1 Year Minimum  Average % Chg\n",
       "2 2019 $555,000         -    "
      ]
     },
     "metadata": {},
     "output_type": "display_data"
    }
   ],
   "source": [
    "html_table(nodes[[length(nodes)]])  %>% head(2)"
   ]
  },
  {
   "cell_type": "code",
   "execution_count": 22,
   "metadata": {},
   "outputs": [
    {
     "data": {
      "text/html": [
       "<table>\n",
       "<thead><tr><th scope=col>X1</th><th scope=col>X2</th><th scope=col>X3</th></tr></thead>\n",
       "<tbody>\n",
       "\t<tr><td>Team       </td><td>Payroll    </td><td>Average    </td></tr>\n",
       "\t<tr><td>NY Yankees </td><td>$92,538,260</td><td>$3,190,974 </td></tr>\n",
       "</tbody>\n",
       "</table>\n"
      ],
      "text/latex": [
       "\\begin{tabular}{r|lll}\n",
       " X1 & X2 & X3\\\\\n",
       "\\hline\n",
       "\t Team        & Payroll     & Average    \\\\\n",
       "\t NY Yankees    & \\$92,538,260 & \\$3,190,974 \\\\\n",
       "\\end{tabular}\n"
      ],
      "text/markdown": [
       "\n",
       "| X1 | X2 | X3 |\n",
       "|---|---|---|\n",
       "| Team        | Payroll     | Average     |\n",
       "| NY Yankees  | $92,538,260 | $3,190,974  |\n",
       "\n"
      ],
      "text/plain": [
       "  X1         X2          X3        \n",
       "1 Team       Payroll     Average   \n",
       "2 NY Yankees $92,538,260 $3,190,974"
      ]
     },
     "metadata": {},
     "output_type": "display_data"
    }
   ],
   "source": [
    "html_table(nodes[[length(nodes)-1]]) %>% head(2)"
   ]
  },
  {
   "cell_type": "code",
   "execution_count": 23,
   "metadata": {},
   "outputs": [
    {
     "data": {
      "text/html": [
       "<table>\n",
       "<thead><tr><th scope=col>X1</th><th scope=col>X2</th><th scope=col>X3</th></tr></thead>\n",
       "<tbody>\n",
       "\t<tr><td>Team        </td><td>Payroll     </td><td>Average     </td></tr>\n",
       "\t<tr><td>NY Yankees  </td><td>$109,791,893</td><td>$3,541,674  </td></tr>\n",
       "</tbody>\n",
       "</table>\n"
      ],
      "text/latex": [
       "\\begin{tabular}{r|lll}\n",
       " X1 & X2 & X3\\\\\n",
       "\\hline\n",
       "\t Team         & Payroll      & Average     \\\\\n",
       "\t NY Yankees     & \\$109,791,893 & \\$3,541,674  \\\\\n",
       "\\end{tabular}\n"
      ],
      "text/markdown": [
       "\n",
       "| X1 | X2 | X3 |\n",
       "|---|---|---|\n",
       "| Team         | Payroll      | Average      |\n",
       "| NY Yankees   | $109,791,893 | $3,541,674   |\n",
       "\n"
      ],
      "text/plain": [
       "  X1         X2           X3        \n",
       "1 Team       Payroll      Average   \n",
       "2 NY Yankees $109,791,893 $3,541,674"
      ]
     },
     "metadata": {},
     "output_type": "display_data"
    }
   ],
   "source": [
    "html_table(nodes[[length(nodes)-2]]) %>% head(2)"
   ]
  },
  {
   "cell_type": "markdown",
   "metadata": {},
   "source": [
    ">6. We have learned that the first and last entries of `nodes` are not payroll tables. Redefine `nodes` so that these two are removed."
   ]
  },
  {
   "cell_type": "code",
   "execution_count": 24,
   "metadata": {},
   "outputs": [],
   "source": [
    "del <- c(1,length(nodes))"
   ]
  },
  {
   "cell_type": "code",
   "execution_count": 25,
   "metadata": {},
   "outputs": [],
   "source": [
    "nodes <- nodes[-del]"
   ]
  },
  {
   "cell_type": "markdown",
   "metadata": {},
   "source": [
    ">7. We saw in the previous analysis that the first table node is not actually a table. This happens sometimes in html because tables are used to make text look a certain way, as opposed to storing numeric values. \n",
    "\n",
    ">    Remove the first component and then use `sapply` and `html_table` to covert each node in `nodes` into a table. Note that in this case, `sapply` will return a list of tables. You can also use `lapply` to assure that a list is applied."
   ]
  },
  {
   "cell_type": "code",
   "execution_count": 26,
   "metadata": {},
   "outputs": [],
   "source": [
    "nodes_tables <- nodes %>% lapply(html_table)"
   ]
  },
  {
   "cell_type": "code",
   "execution_count": 36,
   "metadata": {},
   "outputs": [
    {
     "data": {
      "text/html": [
       "<ol>\n",
       "\t<li><table>\n",
       "<thead><tr><th scope=col>X1</th><th scope=col>X2</th><th scope=col>X3</th></tr></thead>\n",
       "<tbody>\n",
       "\t<tr><td>Team                 </td><td>Payroll              </td><td>Average              </td></tr>\n",
       "\t<tr><td>1.                   </td><td>New York Yankees     </td><td>$205,938,439         </td></tr>\n",
       "\t<tr><td>2.                   </td><td>Boston Red Sox       </td><td>$121,311,945         </td></tr>\n",
       "\t<tr><td>3.                   </td><td>New York Mets        </td><td>$104,770,139         </td></tr>\n",
       "\t<tr><td>4.                   </td><td>Philadelphia Phillies</td><td>$95,337,908          </td></tr>\n",
       "\t<tr><td>5.                   </td><td>Los Angeles Angels   </td><td>$95,017,822          </td></tr>\n",
       "\t<tr><td>6.                   </td><td>St. Louis Cardinals  </td><td>$93,319,842          </td></tr>\n",
       "\t<tr><td>7.                   </td><td>San Francisco Giants </td><td>$89,487,842          </td></tr>\n",
       "\t<tr><td>8.                   </td><td>Chicago Cubs         </td><td>$87,210,933          </td></tr>\n",
       "\t<tr><td>9.                   </td><td>Seattle Mariners     </td><td>$85,883,333          </td></tr>\n",
       "\t<tr><td>10.                  </td><td>Atlanta Braves       </td><td>$85,148,582          </td></tr>\n",
       "\t<tr><td>11.                  </td><td>Los Angeles Dodgers  </td><td>$81,029,500          </td></tr>\n",
       "\t<tr><td>12.                  </td><td>Houston Astros       </td><td>$76,779,022          </td></tr>\n",
       "\t<tr><td>13.                  </td><td>Chicago White Sox    </td><td>$75,228,000          </td></tr>\n",
       "\t<tr><td>14.                  </td><td>Baltimore Orioles    </td><td>$74,570,539          </td></tr>\n",
       "\t<tr><td>15.                  </td><td>Detroit Tigers       </td><td>$68,998,183          </td></tr>\n",
       "\t<tr><td>16.                  </td><td>Arizona Diamondbacks </td><td>$63,015,834          </td></tr>\n",
       "\t<tr><td>17.                  </td><td>San Diego Padres     </td><td>$62,888,192          </td></tr>\n",
       "\t<tr><td>18.                  </td><td>Florida Marlins      </td><td>$60,375,961          </td></tr>\n",
       "\t<tr><td>19.                  </td><td>Cincinnati Reds      </td><td>$59,658,275          </td></tr>\n",
       "\t<tr><td>20.                  </td><td>Minnesota Twins      </td><td>$56,615,000          </td></tr>\n",
       "\t<tr><td>21.                  </td><td>Oakland Athletics    </td><td>$55,869,262          </td></tr>\n",
       "\t<tr><td>22.                  </td><td>Texas Rangers        </td><td>$55,307,258          </td></tr>\n",
       "\t<tr><td>23.                  </td><td>Washington Nationals </td><td>$48,581,500          </td></tr>\n",
       "\t<tr><td>24.                  </td><td>Colorado Rockies     </td><td>$47,789,000          </td></tr>\n",
       "\t<tr><td>25.                  </td><td>Toronto Blue Jays    </td><td>$45,336,500          </td></tr>\n",
       "\t<tr><td>26.                  </td><td>Cleveland Indians    </td><td>$41,830,400          </td></tr>\n",
       "\t<tr><td>27.                  </td><td>Milwaukee Brewers    </td><td>$40,234,833          </td></tr>\n",
       "\t<tr><td>28.                  </td><td>Pittsburgh Pirates   </td><td>$38,138,000          </td></tr>\n",
       "\t<tr><td>29.                  </td><td>Kansas City Royals   </td><td>$36,881,000          </td></tr>\n",
       "\t<tr><td>30.                  </td><td>Tampa Bay Devil Rays </td><td>$29,893,567          </td></tr>\n",
       "</tbody>\n",
       "</table>\n",
       "</li>\n",
       "</ol>\n"
      ],
      "text/latex": [
       "\\begin{enumerate}\n",
       "\\item \\begin{tabular}{r|lll}\n",
       " X1 & X2 & X3\\\\\n",
       "\\hline\n",
       "\t Team                  & Payroll               & Average              \\\\\n",
       "\t 1.                    & New York Yankees      & \\$205,938,439       \\\\\n",
       "\t 2.                    & Boston Red Sox        & \\$121,311,945       \\\\\n",
       "\t 3.                    & New York Mets         & \\$104,770,139       \\\\\n",
       "\t 4.                    & Philadelphia Phillies & \\$95,337,908        \\\\\n",
       "\t 5.                    & Los Angeles Angels    & \\$95,017,822        \\\\\n",
       "\t 6.                    & St. Louis Cardinals   & \\$93,319,842        \\\\\n",
       "\t 7.                    & San Francisco Giants  & \\$89,487,842        \\\\\n",
       "\t 8.                    & Chicago Cubs          & \\$87,210,933        \\\\\n",
       "\t 9.                    & Seattle Mariners      & \\$85,883,333        \\\\\n",
       "\t 10.                   & Atlanta Braves        & \\$85,148,582        \\\\\n",
       "\t 11.                   & Los Angeles Dodgers   & \\$81,029,500        \\\\\n",
       "\t 12.                   & Houston Astros        & \\$76,779,022        \\\\\n",
       "\t 13.                   & Chicago White Sox     & \\$75,228,000        \\\\\n",
       "\t 14.                   & Baltimore Orioles     & \\$74,570,539        \\\\\n",
       "\t 15.                   & Detroit Tigers        & \\$68,998,183        \\\\\n",
       "\t 16.                   & Arizona Diamondbacks  & \\$63,015,834        \\\\\n",
       "\t 17.                   & San Diego Padres      & \\$62,888,192        \\\\\n",
       "\t 18.                   & Florida Marlins       & \\$60,375,961        \\\\\n",
       "\t 19.                   & Cincinnati Reds       & \\$59,658,275        \\\\\n",
       "\t 20.                   & Minnesota Twins       & \\$56,615,000        \\\\\n",
       "\t 21.                   & Oakland Athletics     & \\$55,869,262        \\\\\n",
       "\t 22.                   & Texas Rangers         & \\$55,307,258        \\\\\n",
       "\t 23.                   & Washington Nationals  & \\$48,581,500        \\\\\n",
       "\t 24.                   & Colorado Rockies      & \\$47,789,000        \\\\\n",
       "\t 25.                   & Toronto Blue Jays     & \\$45,336,500        \\\\\n",
       "\t 26.                   & Cleveland Indians     & \\$41,830,400        \\\\\n",
       "\t 27.                   & Milwaukee Brewers     & \\$40,234,833        \\\\\n",
       "\t 28.                   & Pittsburgh Pirates    & \\$38,138,000        \\\\\n",
       "\t 29.                   & Kansas City Royals    & \\$36,881,000        \\\\\n",
       "\t 30.                   & Tampa Bay Devil Rays  & \\$29,893,567        \\\\\n",
       "\\end{tabular}\n",
       "\n",
       "\\end{enumerate}\n"
      ],
      "text/markdown": [
       "1. \n",
       "| X1 | X2 | X3 |\n",
       "|---|---|---|\n",
       "| Team                  | Payroll               | Average               |\n",
       "| 1.                    | New York Yankees      | $205,938,439          |\n",
       "| 2.                    | Boston Red Sox        | $121,311,945          |\n",
       "| 3.                    | New York Mets         | $104,770,139          |\n",
       "| 4.                    | Philadelphia Phillies | $95,337,908           |\n",
       "| 5.                    | Los Angeles Angels    | $95,017,822           |\n",
       "| 6.                    | St. Louis Cardinals   | $93,319,842           |\n",
       "| 7.                    | San Francisco Giants  | $89,487,842           |\n",
       "| 8.                    | Chicago Cubs          | $87,210,933           |\n",
       "| 9.                    | Seattle Mariners      | $85,883,333           |\n",
       "| 10.                   | Atlanta Braves        | $85,148,582           |\n",
       "| 11.                   | Los Angeles Dodgers   | $81,029,500           |\n",
       "| 12.                   | Houston Astros        | $76,779,022           |\n",
       "| 13.                   | Chicago White Sox     | $75,228,000           |\n",
       "| 14.                   | Baltimore Orioles     | $74,570,539           |\n",
       "| 15.                   | Detroit Tigers        | $68,998,183           |\n",
       "| 16.                   | Arizona Diamondbacks  | $63,015,834           |\n",
       "| 17.                   | San Diego Padres      | $62,888,192           |\n",
       "| 18.                   | Florida Marlins       | $60,375,961           |\n",
       "| 19.                   | Cincinnati Reds       | $59,658,275           |\n",
       "| 20.                   | Minnesota Twins       | $56,615,000           |\n",
       "| 21.                   | Oakland Athletics     | $55,869,262           |\n",
       "| 22.                   | Texas Rangers         | $55,307,258           |\n",
       "| 23.                   | Washington Nationals  | $48,581,500           |\n",
       "| 24.                   | Colorado Rockies      | $47,789,000           |\n",
       "| 25.                   | Toronto Blue Jays     | $45,336,500           |\n",
       "| 26.                   | Cleveland Indians     | $41,830,400           |\n",
       "| 27.                   | Milwaukee Brewers     | $40,234,833           |\n",
       "| 28.                   | Pittsburgh Pirates    | $38,138,000           |\n",
       "| 29.                   | Kansas City Royals    | $36,881,000           |\n",
       "| 30.                   | Tampa Bay Devil Rays  | $29,893,567           |\n",
       "\n",
       "\n",
       "\n",
       "\n"
      ],
      "text/plain": [
       "[[1]]\n",
       "     X1                    X2           X3\n",
       "1  Team               Payroll      Average\n",
       "2    1.      New York Yankees $205,938,439\n",
       "3    2.        Boston Red Sox $121,311,945\n",
       "4    3.         New York Mets $104,770,139\n",
       "5    4. Philadelphia Phillies  $95,337,908\n",
       "6    5.    Los Angeles Angels  $95,017,822\n",
       "7    6.   St. Louis Cardinals  $93,319,842\n",
       "8    7.  San Francisco Giants  $89,487,842\n",
       "9    8.          Chicago Cubs  $87,210,933\n",
       "10   9.      Seattle Mariners  $85,883,333\n",
       "11  10.        Atlanta Braves  $85,148,582\n",
       "12  11.   Los Angeles Dodgers  $81,029,500\n",
       "13  12.        Houston Astros  $76,779,022\n",
       "14  13.     Chicago White Sox  $75,228,000\n",
       "15  14.     Baltimore Orioles  $74,570,539\n",
       "16  15.        Detroit Tigers  $68,998,183\n",
       "17  16.  Arizona Diamondbacks  $63,015,834\n",
       "18  17.      San Diego Padres  $62,888,192\n",
       "19  18.       Florida Marlins  $60,375,961\n",
       "20  19.       Cincinnati Reds  $59,658,275\n",
       "21  20.       Minnesota Twins  $56,615,000\n",
       "22  21.     Oakland Athletics  $55,869,262\n",
       "23  22.         Texas Rangers  $55,307,258\n",
       "24  23.  Washington Nationals  $48,581,500\n",
       "25  24.      Colorado Rockies  $47,789,000\n",
       "26  25.     Toronto Blue Jays  $45,336,500\n",
       "27  26.     Cleveland Indians  $41,830,400\n",
       "28  27.     Milwaukee Brewers  $40,234,833\n",
       "29  28.    Pittsburgh Pirates  $38,138,000\n",
       "30  29.    Kansas City Royals  $36,881,000\n",
       "31  30.  Tampa Bay Devil Rays  $29,893,567\n"
      ]
     },
     "metadata": {},
     "output_type": "display_data"
    }
   ],
   "source": [
    "nodes_tables[14]"
   ]
  },
  {
   "cell_type": "markdown",
   "metadata": {},
   "source": [
    ">8. Look through the resulting tables. Are they all the same? Could we just join them with `bind_rows`? "
   ]
  },
  {
   "cell_type": "markdown",
   "metadata": {},
   "source": [
    "No, because table header names for the teams are different. The table headers for the tables 10-13 and 15-20 match and are called 'X1'."
   ]
  },
  {
   "cell_type": "code",
   "execution_count": 42,
   "metadata": {},
   "outputs": [
    {
     "data": {
      "text/html": [
       "<table>\n",
       "<thead><tr><th scope=col>X1</th><th scope=col>X2</th><th scope=col>X3</th></tr></thead>\n",
       "<tbody>\n",
       "\t<tr><td>Team              </td><td>Payroll           </td><td>NA                </td></tr>\n",
       "\t<tr><td>New York Yankees  </td><td>$ 194,663,079     </td><td>NA                </td></tr>\n",
       "\t<tr><td>Boston Red Sox    </td><td>$ 120,099,824     </td><td>NA                </td></tr>\n",
       "\t<tr><td>Los Angeles Angels</td><td>$ 103,472,000     </td><td>NA                </td></tr>\n",
       "\t<tr><td>Chicago White Sox </td><td>$ 102,750,667     </td><td>NA                </td></tr>\n",
       "\t<tr><td>New York Mets     </td><td>$ 101,084,963     </td><td>NA                </td></tr>\n",
       "</tbody>\n",
       "</table>\n"
      ],
      "text/latex": [
       "\\begin{tabular}{r|lll}\n",
       " X1 & X2 & X3\\\\\n",
       "\\hline\n",
       "\t Team               & Payroll            & NA                \\\\\n",
       "\t New York Yankees   & \\$ 194,663,079    & NA                \\\\\n",
       "\t Boston Red Sox     & \\$ 120,099,824    & NA                \\\\\n",
       "\t Los Angeles Angels & \\$ 103,472,000    & NA                \\\\\n",
       "\t Chicago White Sox  & \\$ 102,750,667    & NA                \\\\\n",
       "\t New York Mets      & \\$ 101,084,963    & NA                \\\\\n",
       "\\end{tabular}\n"
      ],
      "text/markdown": [
       "\n",
       "| X1 | X2 | X3 |\n",
       "|---|---|---|\n",
       "| Team               | Payroll            | NA                 |\n",
       "| New York Yankees   | $ 194,663,079      | NA                 |\n",
       "| Boston Red Sox     | $ 120,099,824      | NA                 |\n",
       "| Los Angeles Angels | $ 103,472,000      | NA                 |\n",
       "| Chicago White Sox  | $ 102,750,667      | NA                 |\n",
       "| New York Mets      | $ 101,084,963      | NA                 |\n",
       "\n"
      ],
      "text/plain": [
       "  X1                 X2            X3\n",
       "1 Team               Payroll       NA\n",
       "2 New York Yankees   $ 194,663,079 NA\n",
       "3 Boston Red Sox     $ 120,099,824 NA\n",
       "4 Los Angeles Angels $ 103,472,000 NA\n",
       "5 Chicago White Sox  $ 102,750,667 NA\n",
       "6 New York Mets      $ 101,084,963 NA"
      ]
     },
     "metadata": {},
     "output_type": "display_data"
    },
    {
     "data": {
      "text/html": [
       "<table>\n",
       "<thead><tr><th></th><th scope=col>X1</th><th scope=col>X2</th><th scope=col>X3</th></tr></thead>\n",
       "<tbody>\n",
       "\t<tr><th scope=row>57</th><td>25.                 </td><td>Toronto Blue Jays   </td><td>$45,336,500         </td></tr>\n",
       "\t<tr><th scope=row>58</th><td>26.                 </td><td>Cleveland Indians   </td><td>$41,830,400         </td></tr>\n",
       "\t<tr><th scope=row>59</th><td>27.                 </td><td>Milwaukee Brewers   </td><td>$40,234,833         </td></tr>\n",
       "\t<tr><th scope=row>60</th><td>28.                 </td><td>Pittsburgh Pirates  </td><td>$38,138,000         </td></tr>\n",
       "\t<tr><th scope=row>61</th><td>29.                 </td><td>Kansas City Royals  </td><td>$36,881,000         </td></tr>\n",
       "\t<tr><th scope=row>62</th><td>30.                 </td><td>Tampa Bay Devil Rays</td><td>$29,893,567         </td></tr>\n",
       "</tbody>\n",
       "</table>\n"
      ],
      "text/latex": [
       "\\begin{tabular}{r|lll}\n",
       "  & X1 & X2 & X3\\\\\n",
       "\\hline\n",
       "\t57 & 25.                  & Toronto Blue Jays    & \\$45,336,500       \\\\\n",
       "\t58 & 26.                  & Cleveland Indians    & \\$41,830,400       \\\\\n",
       "\t59 & 27.                  & Milwaukee Brewers    & \\$40,234,833       \\\\\n",
       "\t60 & 28.                  & Pittsburgh Pirates   & \\$38,138,000       \\\\\n",
       "\t61 & 29.                  & Kansas City Royals   & \\$36,881,000       \\\\\n",
       "\t62 & 30.                  & Tampa Bay Devil Rays & \\$29,893,567       \\\\\n",
       "\\end{tabular}\n"
      ],
      "text/markdown": [
       "\n",
       "| <!--/--> | X1 | X2 | X3 |\n",
       "|---|---|---|---|\n",
       "| 57 | 25.                  | Toronto Blue Jays    | $45,336,500          |\n",
       "| 58 | 26.                  | Cleveland Indians    | $41,830,400          |\n",
       "| 59 | 27.                  | Milwaukee Brewers    | $40,234,833          |\n",
       "| 60 | 28.                  | Pittsburgh Pirates   | $38,138,000          |\n",
       "| 61 | 29.                  | Kansas City Royals   | $36,881,000          |\n",
       "| 62 | 30.                  | Tampa Bay Devil Rays | $29,893,567          |\n",
       "\n"
      ],
      "text/plain": [
       "   X1  X2                   X3         \n",
       "57 25. Toronto Blue Jays    $45,336,500\n",
       "58 26. Cleveland Indians    $41,830,400\n",
       "59 27. Milwaukee Brewers    $40,234,833\n",
       "60 28. Pittsburgh Pirates   $38,138,000\n",
       "61 29. Kansas City Royals   $36,881,000\n",
       "62 30. Tampa Bay Devil Rays $29,893,567"
      ]
     },
     "metadata": {},
     "output_type": "display_data"
    }
   ],
   "source": [
    "bind_rows(nodes_tables[13:14]) %>% head\n",
    "bind_rows(nodes_tables[13:14]) %>% tail"
   ]
  },
  {
   "cell_type": "markdown",
   "metadata": {},
   "source": [
    ">9. Create two tables, call them `tab_1` and `tab_2` using entries 10 and 19."
   ]
  },
  {
   "cell_type": "code",
   "execution_count": 81,
   "metadata": {},
   "outputs": [
    {
     "data": {
      "text/html": [
       "<table>\n",
       "<thead><tr><th scope=col>X1</th><th scope=col>X2</th><th scope=col>X3</th></tr></thead>\n",
       "<tbody>\n",
       "\t<tr><td>Team         </td><td>Payroll      </td><td>Average      </td></tr>\n",
       "\t<tr><td>N.Y. Yankees </td><td>$201,449,289 </td><td>$7,748,050   </td></tr>\n",
       "\t<tr><td>New York Mets</td><td>135,773,988  </td><td>4,849,071    </td></tr>\n",
       "\t<tr><td>Chicago Cubs </td><td>135,050,000  </td><td>5,402,000    </td></tr>\n",
       "\t<tr><td>Boston       </td><td>122,696,000  </td><td>4,089,867    </td></tr>\n",
       "\t<tr><td>Detroit      </td><td>115,085,145  </td><td>4,110,184    </td></tr>\n",
       "</tbody>\n",
       "</table>\n"
      ],
      "text/latex": [
       "\\begin{tabular}{r|lll}\n",
       " X1 & X2 & X3\\\\\n",
       "\\hline\n",
       "\t Team          & Payroll       & Average      \\\\\n",
       "\t N.Y. Yankees   & \\$201,449,289 & \\$7,748,050  \\\\\n",
       "\t New York Mets & 135,773,988   & 4,849,071    \\\\\n",
       "\t Chicago Cubs  & 135,050,000   & 5,402,000    \\\\\n",
       "\t Boston        & 122,696,000   & 4,089,867    \\\\\n",
       "\t Detroit       & 115,085,145   & 4,110,184    \\\\\n",
       "\\end{tabular}\n"
      ],
      "text/markdown": [
       "\n",
       "| X1 | X2 | X3 |\n",
       "|---|---|---|\n",
       "| Team          | Payroll       | Average       |\n",
       "| N.Y. Yankees  | $201,449,289  | $7,748,050    |\n",
       "| New York Mets | 135,773,988   | 4,849,071     |\n",
       "| Chicago Cubs  | 135,050,000   | 5,402,000     |\n",
       "| Boston        | 122,696,000   | 4,089,867     |\n",
       "| Detroit       | 115,085,145   | 4,110,184     |\n",
       "\n"
      ],
      "text/plain": [
       "  X1            X2           X3        \n",
       "1 Team          Payroll      Average   \n",
       "2 N.Y. Yankees  $201,449,289 $7,748,050\n",
       "3 New York Mets 135,773,988  4,849,071 \n",
       "4 Chicago Cubs  135,050,000  5,402,000 \n",
       "5 Boston        122,696,000  4,089,867 \n",
       "6 Detroit       115,085,145  4,110,184 "
      ]
     },
     "metadata": {},
     "output_type": "display_data"
    },
    {
     "data": {
      "text/html": [
       "<table>\n",
       "<thead><tr><th scope=col>X1</th><th scope=col>X2</th><th scope=col>X3</th></tr></thead>\n",
       "<tbody>\n",
       "\t<tr><td>Team       </td><td>Payroll    </td><td>Average    </td></tr>\n",
       "\t<tr><td>NY Yankees </td><td>$92,538,260</td><td>$3,190,974 </td></tr>\n",
       "\t<tr><td>Los Angeles</td><td>$88,124,286</td><td>$3,263,862 </td></tr>\n",
       "\t<tr><td>Atlanta    </td><td>$84,537,836</td><td>$2,817,928 </td></tr>\n",
       "\t<tr><td>Baltimore  </td><td>$81,447,435</td><td>$2,808,532 </td></tr>\n",
       "\t<tr><td>Arizona    </td><td>$81,027,833</td><td>$2,893,851 </td></tr>\n",
       "</tbody>\n",
       "</table>\n"
      ],
      "text/latex": [
       "\\begin{tabular}{r|lll}\n",
       " X1 & X2 & X3\\\\\n",
       "\\hline\n",
       "\t Team        & Payroll     & Average    \\\\\n",
       "\t NY Yankees    & \\$92,538,260 & \\$3,190,974 \\\\\n",
       "\t Los Angeles   & \\$88,124,286 & \\$3,263,862 \\\\\n",
       "\t Atlanta       & \\$84,537,836 & \\$2,817,928 \\\\\n",
       "\t Baltimore     & \\$81,447,435 & \\$2,808,532 \\\\\n",
       "\t Arizona       & \\$81,027,833 & \\$2,893,851 \\\\\n",
       "\\end{tabular}\n"
      ],
      "text/markdown": [
       "\n",
       "| X1 | X2 | X3 |\n",
       "|---|---|---|\n",
       "| Team        | Payroll     | Average     |\n",
       "| NY Yankees  | $92,538,260 | $3,190,974  |\n",
       "| Los Angeles | $88,124,286 | $3,263,862  |\n",
       "| Atlanta     | $84,537,836 | $2,817,928  |\n",
       "| Baltimore   | $81,447,435 | $2,808,532  |\n",
       "| Arizona     | $81,027,833 | $2,893,851  |\n",
       "\n"
      ],
      "text/plain": [
       "  X1          X2          X3        \n",
       "1 Team        Payroll     Average   \n",
       "2 NY Yankees  $92,538,260 $3,190,974\n",
       "3 Los Angeles $88,124,286 $3,263,862\n",
       "4 Atlanta     $84,537,836 $2,817,928\n",
       "5 Baltimore   $81,447,435 $2,808,532\n",
       "6 Arizona     $81,027,833 $2,893,851"
      ]
     },
     "metadata": {},
     "output_type": "display_data"
    }
   ],
   "source": [
    "tab_1 <- nodes_tables[[10]]; tab_1 %>% head\n",
    "tab_2 <- nodes_tables[[19]]; tab_2 %>% head"
   ]
  },
  {
   "cell_type": "markdown",
   "metadata": {},
   "source": [
    ">10. Use a `full_join` function to combine these two tables. Before you do this you will have to fix the missing header problem. You will also need to make the names match."
   ]
  },
  {
   "cell_type": "code",
   "execution_count": 83,
   "metadata": {},
   "outputs": [],
   "source": [
    "header_names <- tab_1 %>% filter(X1==\"Team\")"
   ]
  },
  {
   "cell_type": "code",
   "execution_count": 90,
   "metadata": {},
   "outputs": [],
   "source": [
    "names(tab_1) <- header_names\n",
    "names(tab_2) <- header_names"
   ]
  },
  {
   "cell_type": "code",
   "execution_count": 95,
   "metadata": {},
   "outputs": [
    {
     "data": {
      "text/html": [
       "<table>\n",
       "<thead><tr><th scope=col>Team</th><th scope=col>Payroll.x</th><th scope=col>Average.x</th><th scope=col>Payroll.y</th><th scope=col>Average.y</th></tr></thead>\n",
       "<tbody>\n",
       "\t<tr><td>Anaheim            </td><td>NA                 </td><td>NA                 </td><td>$51,464,167        </td><td>$1,715,472         </td></tr>\n",
       "\t<tr><td>Arizona            </td><td>73,571,667         </td><td>2,724,877          </td><td>$81,027,833        </td><td>$2,893,851         </td></tr>\n",
       "\t<tr><td>Atlanta            </td><td>96,726,167         </td><td>3,335,385          </td><td>$84,537,836        </td><td>$2,817,928         </td></tr>\n",
       "\t<tr><td>Baltimore          </td><td>67,101,667         </td><td>2,580,833          </td><td>$81,447,435        </td><td>$2,808,532         </td></tr>\n",
       "\t<tr><td>Boston             </td><td>122,696,000        </td><td>4,089,867          </td><td>$77,940,333        </td><td>$2,598,011         </td></tr>\n",
       "\t<tr><td>Chicago Cubs       </td><td>135,050,000        </td><td>5,402,000          </td><td>$60,539,333        </td><td>$2,017,978         </td></tr>\n",
       "\t<tr><td>Chicago White Sox  </td><td>96,068,500         </td><td>3,694,942          </td><td>$31,133,500        </td><td>$1,073,569         </td></tr>\n",
       "\t<tr><td>Cincinnati         </td><td>70,968,500         </td><td>2,957,021          </td><td>$46,867,200        </td><td>$1,735,822         </td></tr>\n",
       "\t<tr><td>Cleveland          </td><td>81,625,567         </td><td>3,023,169          </td><td>$75,880,871        </td><td>$2,918,495         </td></tr>\n",
       "\t<tr><td>Colorado           </td><td>75,201,000         </td><td>2,785,222          </td><td>$61,111,190        </td><td>$2,182,543         </td></tr>\n",
       "\t<tr><td>Detroit            </td><td>115,085,145        </td><td>4,110,184          </td><td>$58,265,167        </td><td>$2,157,969         </td></tr>\n",
       "\t<tr><td>Florida            </td><td>36,814,000         </td><td>1,314,786          </td><td>$20,072,000        </td><td>$692,138           </td></tr>\n",
       "\t<tr><td>Houston            </td><td>102,996,415        </td><td>3,814,682          </td><td>$51,289,111        </td><td>$1,899,597         </td></tr>\n",
       "\t<tr><td>Kansas City        </td><td>70,908,333         </td><td>2,727,244          </td><td>$23,433,000        </td><td>$836,893           </td></tr>\n",
       "\t<tr><td>Los Angeles        </td><td>NA                 </td><td>NA                 </td><td>$88,124,286        </td><td>$3,263,862         </td></tr>\n",
       "\t<tr><td>Los Angeles Angels </td><td>113,709,000        </td><td>4,061,036          </td><td>NA                 </td><td>NA                 </td></tr>\n",
       "\t<tr><td>Los Angeles Dodgers</td><td>100,458,101        </td><td>4,018,324          </td><td>NA                 </td><td>NA                 </td></tr>\n",
       "\t<tr><td>Milwaukee          </td><td>80,257,502         </td><td>3,086,827          </td><td>$36,505,333        </td><td>$1,140,792         </td></tr>\n",
       "\t<tr><td>Minnesota          </td><td>65,299,267         </td><td>2,251,699          </td><td>$16,519,500        </td><td>$635,365           </td></tr>\n",
       "\t<tr><td>Montreal           </td><td>NA                 </td><td>NA                 </td><td>$34,807,833        </td><td>$1,200,270         </td></tr>\n",
       "\t<tr><td>N.Y. Yankees       </td><td>$201,449,289       </td><td>$7,748,050         </td><td>NA                 </td><td>NA                 </td></tr>\n",
       "\t<tr><td>New York Mets      </td><td>135,773,988        </td><td>4,849,071          </td><td>NA                 </td><td>NA                 </td></tr>\n",
       "\t<tr><td>NY Mets            </td><td>NA                 </td><td>NA                 </td><td>$79,509,776        </td><td>$3,180,391         </td></tr>\n",
       "\t<tr><td>NY Yankees         </td><td>NA                 </td><td>NA                 </td><td>$92,538,260        </td><td>$3,190,974         </td></tr>\n",
       "\t<tr><td>Oakland            </td><td>62,310,000         </td><td>2,225,357          </td><td>$31,971,333        </td><td>$1,184,123         </td></tr>\n",
       "\t<tr><td>Philadelphia       </td><td>113,004,048        </td><td>4,185,335          </td><td>$47,308,000        </td><td>$1,631,310         </td></tr>\n",
       "\t<tr><td>Pittsburgh         </td><td>48,743,000         </td><td>1,874,731          </td><td>$28,928,333        </td><td>$1,112,628         </td></tr>\n",
       "\t<tr><td>San Diego          </td><td>42,796,700         </td><td>1,528,454          </td><td>$54,821,000        </td><td>$1,827,367         </td></tr>\n",
       "\t<tr><td>San Francisco      </td><td>82,161,450         </td><td>3,043,017          </td><td>$53,737,826        </td><td>$2,066,839         </td></tr>\n",
       "\t<tr><td>Seattle            </td><td>98,904,167         </td><td>3,532,292          </td><td>$58,915,000        </td><td>$2,265,962         </td></tr>\n",
       "\t<tr><td>St. Louis          </td><td>88,528,411         </td><td>3,278,830          </td><td>$61,453,863        </td><td>$2,276,069         </td></tr>\n",
       "\t<tr><td>Tampa Bay          </td><td>63,313,035         </td><td>2,183,208          </td><td>$62,765,129        </td><td>$2,024,682         </td></tr>\n",
       "\t<tr><td>Team               </td><td>Payroll            </td><td>Average            </td><td>Payroll            </td><td>Average            </td></tr>\n",
       "\t<tr><td>Texas              </td><td>68,646,023         </td><td>2,367,104          </td><td>$70,795,921        </td><td>$2,722,920         </td></tr>\n",
       "\t<tr><td>Toronto            </td><td>80,993,657         </td><td>2,892,631          </td><td>$46,238,333        </td><td>$1,778,397         </td></tr>\n",
       "\t<tr><td>Washington         </td><td>59,328,000         </td><td>2,045,793          </td><td>NA                 </td><td>NA                 </td></tr>\n",
       "</tbody>\n",
       "</table>\n"
      ],
      "text/latex": [
       "\\begin{tabular}{r|lllll}\n",
       " Team & Payroll.x & Average.x & Payroll.y & Average.y\\\\\n",
       "\\hline\n",
       "\t Anaheim             & NA                  & NA                  & \\$51,464,167       & \\$1,715,472       \\\\\n",
       "\t Arizona             & 73,571,667          & 2,724,877           & \\$81,027,833       & \\$2,893,851       \\\\\n",
       "\t Atlanta             & 96,726,167          & 3,335,385           & \\$84,537,836       & \\$2,817,928       \\\\\n",
       "\t Baltimore           & 67,101,667          & 2,580,833           & \\$81,447,435       & \\$2,808,532       \\\\\n",
       "\t Boston              & 122,696,000         & 4,089,867           & \\$77,940,333       & \\$2,598,011       \\\\\n",
       "\t Chicago Cubs        & 135,050,000         & 5,402,000           & \\$60,539,333       & \\$2,017,978       \\\\\n",
       "\t Chicago White Sox   & 96,068,500          & 3,694,942           & \\$31,133,500       & \\$1,073,569       \\\\\n",
       "\t Cincinnati          & 70,968,500          & 2,957,021           & \\$46,867,200       & \\$1,735,822       \\\\\n",
       "\t Cleveland           & 81,625,567          & 3,023,169           & \\$75,880,871       & \\$2,918,495       \\\\\n",
       "\t Colorado            & 75,201,000          & 2,785,222           & \\$61,111,190       & \\$2,182,543       \\\\\n",
       "\t Detroit             & 115,085,145         & 4,110,184           & \\$58,265,167       & \\$2,157,969       \\\\\n",
       "\t Florida             & 36,814,000          & 1,314,786           & \\$20,072,000       & \\$692,138         \\\\\n",
       "\t Houston             & 102,996,415         & 3,814,682           & \\$51,289,111       & \\$1,899,597       \\\\\n",
       "\t Kansas City         & 70,908,333          & 2,727,244           & \\$23,433,000       & \\$836,893         \\\\\n",
       "\t Los Angeles         & NA                  & NA                  & \\$88,124,286       & \\$3,263,862       \\\\\n",
       "\t Los Angeles Angels  & 113,709,000         & 4,061,036           & NA                  & NA                 \\\\\n",
       "\t Los Angeles Dodgers & 100,458,101         & 4,018,324           & NA                  & NA                 \\\\\n",
       "\t Milwaukee           & 80,257,502          & 3,086,827           & \\$36,505,333       & \\$1,140,792       \\\\\n",
       "\t Minnesota           & 65,299,267          & 2,251,699           & \\$16,519,500       & \\$635,365         \\\\\n",
       "\t Montreal            & NA                  & NA                  & \\$34,807,833       & \\$1,200,270       \\\\\n",
       "\t N.Y. Yankees        & \\$201,449,289      & \\$7,748,050        & NA                  & NA                 \\\\\n",
       "\t New York Mets       & 135,773,988         & 4,849,071           & NA                  & NA                 \\\\\n",
       "\t NY Mets             & NA                  & NA                  & \\$79,509,776       & \\$3,180,391       \\\\\n",
       "\t NY Yankees          & NA                  & NA                  & \\$92,538,260       & \\$3,190,974       \\\\\n",
       "\t Oakland             & 62,310,000          & 2,225,357           & \\$31,971,333       & \\$1,184,123       \\\\\n",
       "\t Philadelphia        & 113,004,048         & 4,185,335           & \\$47,308,000       & \\$1,631,310       \\\\\n",
       "\t Pittsburgh          & 48,743,000          & 1,874,731           & \\$28,928,333       & \\$1,112,628       \\\\\n",
       "\t San Diego           & 42,796,700          & 1,528,454           & \\$54,821,000       & \\$1,827,367       \\\\\n",
       "\t San Francisco       & 82,161,450          & 3,043,017           & \\$53,737,826       & \\$2,066,839       \\\\\n",
       "\t Seattle             & 98,904,167          & 3,532,292           & \\$58,915,000       & \\$2,265,962       \\\\\n",
       "\t St. Louis           & 88,528,411          & 3,278,830           & \\$61,453,863       & \\$2,276,069       \\\\\n",
       "\t Tampa Bay           & 63,313,035          & 2,183,208           & \\$62,765,129       & \\$2,024,682       \\\\\n",
       "\t Team                & Payroll             & Average             & Payroll             & Average            \\\\\n",
       "\t Texas               & 68,646,023          & 2,367,104           & \\$70,795,921       & \\$2,722,920       \\\\\n",
       "\t Toronto             & 80,993,657          & 2,892,631           & \\$46,238,333       & \\$1,778,397       \\\\\n",
       "\t Washington          & 59,328,000          & 2,045,793           & NA                  & NA                 \\\\\n",
       "\\end{tabular}\n"
      ],
      "text/markdown": [
       "\n",
       "| Team | Payroll.x | Average.x | Payroll.y | Average.y |\n",
       "|---|---|---|---|---|\n",
       "| Anaheim             | NA                  | NA                  | $51,464,167         | $1,715,472          |\n",
       "| Arizona             | 73,571,667          | 2,724,877           | $81,027,833         | $2,893,851          |\n",
       "| Atlanta             | 96,726,167          | 3,335,385           | $84,537,836         | $2,817,928          |\n",
       "| Baltimore           | 67,101,667          | 2,580,833           | $81,447,435         | $2,808,532          |\n",
       "| Boston              | 122,696,000         | 4,089,867           | $77,940,333         | $2,598,011          |\n",
       "| Chicago Cubs        | 135,050,000         | 5,402,000           | $60,539,333         | $2,017,978          |\n",
       "| Chicago White Sox   | 96,068,500          | 3,694,942           | $31,133,500         | $1,073,569          |\n",
       "| Cincinnati          | 70,968,500          | 2,957,021           | $46,867,200         | $1,735,822          |\n",
       "| Cleveland           | 81,625,567          | 3,023,169           | $75,880,871         | $2,918,495          |\n",
       "| Colorado            | 75,201,000          | 2,785,222           | $61,111,190         | $2,182,543          |\n",
       "| Detroit             | 115,085,145         | 4,110,184           | $58,265,167         | $2,157,969          |\n",
       "| Florida             | 36,814,000          | 1,314,786           | $20,072,000         | $692,138            |\n",
       "| Houston             | 102,996,415         | 3,814,682           | $51,289,111         | $1,899,597          |\n",
       "| Kansas City         | 70,908,333          | 2,727,244           | $23,433,000         | $836,893            |\n",
       "| Los Angeles         | NA                  | NA                  | $88,124,286         | $3,263,862          |\n",
       "| Los Angeles Angels  | 113,709,000         | 4,061,036           | NA                  | NA                  |\n",
       "| Los Angeles Dodgers | 100,458,101         | 4,018,324           | NA                  | NA                  |\n",
       "| Milwaukee           | 80,257,502          | 3,086,827           | $36,505,333         | $1,140,792          |\n",
       "| Minnesota           | 65,299,267          | 2,251,699           | $16,519,500         | $635,365            |\n",
       "| Montreal            | NA                  | NA                  | $34,807,833         | $1,200,270          |\n",
       "| N.Y. Yankees        | $201,449,289        | $7,748,050          | NA                  | NA                  |\n",
       "| New York Mets       | 135,773,988         | 4,849,071           | NA                  | NA                  |\n",
       "| NY Mets             | NA                  | NA                  | $79,509,776         | $3,180,391          |\n",
       "| NY Yankees          | NA                  | NA                  | $92,538,260         | $3,190,974          |\n",
       "| Oakland             | 62,310,000          | 2,225,357           | $31,971,333         | $1,184,123          |\n",
       "| Philadelphia        | 113,004,048         | 4,185,335           | $47,308,000         | $1,631,310          |\n",
       "| Pittsburgh          | 48,743,000          | 1,874,731           | $28,928,333         | $1,112,628          |\n",
       "| San Diego           | 42,796,700          | 1,528,454           | $54,821,000         | $1,827,367          |\n",
       "| San Francisco       | 82,161,450          | 3,043,017           | $53,737,826         | $2,066,839          |\n",
       "| Seattle             | 98,904,167          | 3,532,292           | $58,915,000         | $2,265,962          |\n",
       "| St. Louis           | 88,528,411          | 3,278,830           | $61,453,863         | $2,276,069          |\n",
       "| Tampa Bay           | 63,313,035          | 2,183,208           | $62,765,129         | $2,024,682          |\n",
       "| Team                | Payroll             | Average             | Payroll             | Average             |\n",
       "| Texas               | 68,646,023          | 2,367,104           | $70,795,921         | $2,722,920          |\n",
       "| Toronto             | 80,993,657          | 2,892,631           | $46,238,333         | $1,778,397          |\n",
       "| Washington          | 59,328,000          | 2,045,793           | NA                  | NA                  |\n",
       "\n"
      ],
      "text/plain": [
       "   Team                Payroll.x    Average.x  Payroll.y   Average.y \n",
       "1  Anaheim             NA           NA         $51,464,167 $1,715,472\n",
       "2  Arizona             73,571,667   2,724,877  $81,027,833 $2,893,851\n",
       "3  Atlanta             96,726,167   3,335,385  $84,537,836 $2,817,928\n",
       "4  Baltimore           67,101,667   2,580,833  $81,447,435 $2,808,532\n",
       "5  Boston              122,696,000  4,089,867  $77,940,333 $2,598,011\n",
       "6  Chicago Cubs        135,050,000  5,402,000  $60,539,333 $2,017,978\n",
       "7  Chicago White Sox   96,068,500   3,694,942  $31,133,500 $1,073,569\n",
       "8  Cincinnati          70,968,500   2,957,021  $46,867,200 $1,735,822\n",
       "9  Cleveland           81,625,567   3,023,169  $75,880,871 $2,918,495\n",
       "10 Colorado            75,201,000   2,785,222  $61,111,190 $2,182,543\n",
       "11 Detroit             115,085,145  4,110,184  $58,265,167 $2,157,969\n",
       "12 Florida             36,814,000   1,314,786  $20,072,000 $692,138  \n",
       "13 Houston             102,996,415  3,814,682  $51,289,111 $1,899,597\n",
       "14 Kansas City         70,908,333   2,727,244  $23,433,000 $836,893  \n",
       "15 Los Angeles         NA           NA         $88,124,286 $3,263,862\n",
       "16 Los Angeles Angels  113,709,000  4,061,036  NA          NA        \n",
       "17 Los Angeles Dodgers 100,458,101  4,018,324  NA          NA        \n",
       "18 Milwaukee           80,257,502   3,086,827  $36,505,333 $1,140,792\n",
       "19 Minnesota           65,299,267   2,251,699  $16,519,500 $635,365  \n",
       "20 Montreal            NA           NA         $34,807,833 $1,200,270\n",
       "21 N.Y. Yankees        $201,449,289 $7,748,050 NA          NA        \n",
       "22 New York Mets       135,773,988  4,849,071  NA          NA        \n",
       "23 NY Mets             NA           NA         $79,509,776 $3,180,391\n",
       "24 NY Yankees          NA           NA         $92,538,260 $3,190,974\n",
       "25 Oakland             62,310,000   2,225,357  $31,971,333 $1,184,123\n",
       "26 Philadelphia        113,004,048  4,185,335  $47,308,000 $1,631,310\n",
       "27 Pittsburgh          48,743,000   1,874,731  $28,928,333 $1,112,628\n",
       "28 San Diego           42,796,700   1,528,454  $54,821,000 $1,827,367\n",
       "29 San Francisco       82,161,450   3,043,017  $53,737,826 $2,066,839\n",
       "30 Seattle             98,904,167   3,532,292  $58,915,000 $2,265,962\n",
       "31 St. Louis           88,528,411   3,278,830  $61,453,863 $2,276,069\n",
       "32 Tampa Bay           63,313,035   2,183,208  $62,765,129 $2,024,682\n",
       "33 Team                Payroll      Average    Payroll     Average   \n",
       "34 Texas               68,646,023   2,367,104  $70,795,921 $2,722,920\n",
       "35 Toronto             80,993,657   2,892,631  $46,238,333 $1,778,397\n",
       "36 Washington          59,328,000   2,045,793  NA          NA        "
      ]
     },
     "metadata": {},
     "output_type": "display_data"
    }
   ],
   "source": [
    "full_join(tab_1,tab_2,by = \"Team\") %>% arrange(Team)"
   ]
  },
  {
   "cell_type": "markdown",
   "metadata": {},
   "source": [
    ">11. After joining the tables, you see several NAs. This is because some teams are in one table and not the other. Use the `anti_join` function to get a better idea of why this is happening."
   ]
  },
  {
   "cell_type": "code",
   "execution_count": 96,
   "metadata": {},
   "outputs": [
    {
     "data": {
      "text/html": [
       "<table>\n",
       "<thead><tr><th scope=col>Team</th><th scope=col>Payroll</th><th scope=col>Average</th></tr></thead>\n",
       "<tbody>\n",
       "\t<tr><td>Anaheim            </td><td>$51,464,167        </td><td>$1,715,472         </td></tr>\n",
       "\t<tr><td>Los Angeles        </td><td>$88,124,286        </td><td>$3,263,862         </td></tr>\n",
       "\t<tr><td>Los Angeles Angels </td><td>113,709,000        </td><td>4,061,036          </td></tr>\n",
       "\t<tr><td>Los Angeles Dodgers</td><td>100,458,101        </td><td>4,018,324          </td></tr>\n",
       "\t<tr><td>Montreal           </td><td>$34,807,833        </td><td>$1,200,270         </td></tr>\n",
       "\t<tr><td>N.Y. Yankees       </td><td>$201,449,289       </td><td>$7,748,050         </td></tr>\n",
       "\t<tr><td>New York Mets      </td><td>135,773,988        </td><td>4,849,071          </td></tr>\n",
       "\t<tr><td>NY Mets            </td><td>$79,509,776        </td><td>$3,180,391         </td></tr>\n",
       "\t<tr><td>NY Yankees         </td><td>$92,538,260        </td><td>$3,190,974         </td></tr>\n",
       "\t<tr><td>Washington         </td><td>59,328,000         </td><td>2,045,793          </td></tr>\n",
       "</tbody>\n",
       "</table>\n"
      ],
      "text/latex": [
       "\\begin{tabular}{r|lll}\n",
       " Team & Payroll & Average\\\\\n",
       "\\hline\n",
       "\t Anaheim             & \\$51,464,167       & \\$1,715,472       \\\\\n",
       "\t Los Angeles         & \\$88,124,286       & \\$3,263,862       \\\\\n",
       "\t Los Angeles Angels  & 113,709,000         & 4,061,036          \\\\\n",
       "\t Los Angeles Dodgers & 100,458,101         & 4,018,324          \\\\\n",
       "\t Montreal            & \\$34,807,833       & \\$1,200,270       \\\\\n",
       "\t N.Y. Yankees        & \\$201,449,289      & \\$7,748,050       \\\\\n",
       "\t New York Mets       & 135,773,988         & 4,849,071          \\\\\n",
       "\t NY Mets             & \\$79,509,776       & \\$3,180,391       \\\\\n",
       "\t NY Yankees          & \\$92,538,260       & \\$3,190,974       \\\\\n",
       "\t Washington          & 59,328,000          & 2,045,793          \\\\\n",
       "\\end{tabular}\n"
      ],
      "text/markdown": [
       "\n",
       "| Team | Payroll | Average |\n",
       "|---|---|---|\n",
       "| Anaheim             | $51,464,167         | $1,715,472          |\n",
       "| Los Angeles         | $88,124,286         | $3,263,862          |\n",
       "| Los Angeles Angels  | 113,709,000         | 4,061,036           |\n",
       "| Los Angeles Dodgers | 100,458,101         | 4,018,324           |\n",
       "| Montreal            | $34,807,833         | $1,200,270          |\n",
       "| N.Y. Yankees        | $201,449,289        | $7,748,050          |\n",
       "| New York Mets       | 135,773,988         | 4,849,071           |\n",
       "| NY Mets             | $79,509,776         | $3,180,391          |\n",
       "| NY Yankees          | $92,538,260         | $3,190,974          |\n",
       "| Washington          | 59,328,000          | 2,045,793           |\n",
       "\n"
      ],
      "text/plain": [
       "   Team                Payroll      Average   \n",
       "1  Anaheim             $51,464,167  $1,715,472\n",
       "2  Los Angeles         $88,124,286  $3,263,862\n",
       "3  Los Angeles Angels  113,709,000  4,061,036 \n",
       "4  Los Angeles Dodgers 100,458,101  4,018,324 \n",
       "5  Montreal            $34,807,833  $1,200,270\n",
       "6  N.Y. Yankees        $201,449,289 $7,748,050\n",
       "7  New York Mets       135,773,988  4,849,071 \n",
       "8  NY Mets             $79,509,776  $3,180,391\n",
       "9  NY Yankees          $92,538,260  $3,190,974\n",
       "10 Washington          59,328,000   2,045,793 "
      ]
     },
     "metadata": {},
     "output_type": "display_data"
    }
   ],
   "source": [
    "tab_12 <- anti_join(tab_1,tab_2,by = \"Team\")\n",
    "tab_21 <- anti_join(tab_2,tab_1,by = \"Team\")\n",
    "bind_rows(tab_12,tab_21) %>% arrange(Team)"
   ]
  },
  {
   "cell_type": "markdown",
   "metadata": {},
   "source": [
    ">12. We see see that one of the problem is that Yankees are listed as both _N.Y. Yankees_ and _NY Yankees_. In the next section, we will learn efficient approaches to fixing problems like this. Here we can do it \"by hand\" as follows:\n",
    "\n",
    ">    `tab_1 <- mutate(tab_1, Team = ifelse(Team == \"N.Y. Yankees\", \"NY Yankees\", Team))`\n",
    "\n",
    ">    Now join the tables and show only Oakland and the Yankees and the payroll columns."
   ]
  },
  {
   "cell_type": "code",
   "execution_count": 103,
   "metadata": {},
   "outputs": [],
   "source": [
    "tab_1 <- mutate(tab_1, Team = ifelse(Team==\"N.Y. Yankees\", \"NY Yankees\", Team))"
   ]
  },
  {
   "cell_type": "code",
   "execution_count": 108,
   "metadata": {},
   "outputs": [
    {
     "data": {
      "text/html": [
       "<table>\n",
       "<thead><tr><th scope=col>Team</th><th scope=col>Payroll.x</th><th scope=col>Payroll.y</th></tr></thead>\n",
       "<tbody>\n",
       "\t<tr><td>NY Yankees  </td><td>$201,449,289</td><td>$92,538,260 </td></tr>\n",
       "\t<tr><td>Oakland     </td><td>62,310,000  </td><td>$31,971,333 </td></tr>\n",
       "</tbody>\n",
       "</table>\n"
      ],
      "text/latex": [
       "\\begin{tabular}{r|lll}\n",
       " Team & Payroll.x & Payroll.y\\\\\n",
       "\\hline\n",
       "\t NY Yankees     & \\$201,449,289 & \\$92,538,260 \\\\\n",
       "\t Oakland       & 62,310,000    & \\$31,971,333\\\\\n",
       "\\end{tabular}\n"
      ],
      "text/markdown": [
       "\n",
       "| Team | Payroll.x | Payroll.y |\n",
       "|---|---|---|\n",
       "| NY Yankees   | $201,449,289 | $92,538,260  |\n",
       "| Oakland      | 62,310,000   | $31,971,333  |\n",
       "\n"
      ],
      "text/plain": [
       "  Team       Payroll.x    Payroll.y  \n",
       "1 NY Yankees $201,449,289 $92,538,260\n",
       "2 Oakland    62,310,000   $31,971,333"
      ]
     },
     "metadata": {},
     "output_type": "display_data"
    }
   ],
   "source": [
    "full_join(tab_1,tab_2,by = \"Team\") %>% filter(Team %in% c('Oakland','NY Yankees')) %>% select(Team,Payroll.x,Payroll.y)"
   ]
  },
  {
   "cell_type": "markdown",
   "metadata": {},
   "source": [
    ">13. Advanced: extract the titles of the movies that won Best Picture from this website: [https://m.imdb.com/chart/bestpicture/](https://m.imdb.com/chart/bestpicture/)"
   ]
  },
  {
   "cell_type": "code",
   "execution_count": 3,
   "metadata": {},
   "outputs": [],
   "source": [
    "url <- \"https://m.imdb.com/chart/bestpicture/\""
   ]
  },
  {
   "cell_type": "code",
   "execution_count": 4,
   "metadata": {},
   "outputs": [],
   "source": [
    "h <- read_html(url)"
   ]
  },
  {
   "cell_type": "code",
   "execution_count": 5,
   "metadata": {},
   "outputs": [],
   "source": [
    "nodes <- html_nodes(h,'h4.best-picture-item-title')"
   ]
  },
  {
   "cell_type": "code",
   "execution_count": 39,
   "metadata": {},
   "outputs": [
    {
     "data": {
      "text/html": [
       "' The Shape of Water'"
      ],
      "text/latex": [
       "' The Shape of Water'"
      ],
      "text/markdown": [
       "' The Shape of Water'"
      ],
      "text/plain": [
       "[1] \" The Shape of Water\""
      ]
     },
     "metadata": {},
     "output_type": "display_data"
    }
   ],
   "source": [
    "html_text(nodes[[1]]) %>% str_split('\\n') %>% .[[1]] %>% .[1]"
   ]
  },
  {
   "cell_type": "code",
   "execution_count": 68,
   "metadata": {},
   "outputs": [
    {
     "data": {
      "text/html": [
       "<ol class=list-inline>\n",
       "\t<li>' The Shape of Water'</li>\n",
       "\t<li>' Moonlight'</li>\n",
       "\t<li>' Spotlight'</li>\n",
       "\t<li>' Birdman or (The Unexpected Virtue of Ignorance)'</li>\n",
       "\t<li>' 12 Years a Slave'</li>\n",
       "\t<li>' Argo'</li>\n",
       "\t<li>' The Artist'</li>\n",
       "\t<li>' The King\\'s Speech'</li>\n",
       "\t<li>' The Hurt Locker'</li>\n",
       "\t<li>' Slumdog Millionaire'</li>\n",
       "\t<li>' No Country for Old Men'</li>\n",
       "\t<li>' The Departed'</li>\n",
       "\t<li>' Crash'</li>\n",
       "\t<li>' Million Dollar Baby'</li>\n",
       "\t<li>' The Lord of the Rings: The Return of the King'</li>\n",
       "\t<li>' Chicago'</li>\n",
       "\t<li>' A Beautiful Mind'</li>\n",
       "\t<li>' Gladiator'</li>\n",
       "\t<li>' American Beauty'</li>\n",
       "\t<li>' Shakespeare in Love'</li>\n",
       "\t<li>' Titanic'</li>\n",
       "\t<li>' The English Patient'</li>\n",
       "\t<li>' Braveheart'</li>\n",
       "\t<li>' Forrest Gump'</li>\n",
       "\t<li>' Schindler\\'s List'</li>\n",
       "\t<li>' Unforgiven'</li>\n",
       "\t<li>' The Silence of the Lambs'</li>\n",
       "\t<li>' Dances with Wolves'</li>\n",
       "\t<li>' Driving Miss Daisy'</li>\n",
       "\t<li>' Rain Man'</li>\n",
       "\t<li>' The Last Emperor'</li>\n",
       "\t<li>' Platoon'</li>\n",
       "\t<li>' Out of Africa'</li>\n",
       "\t<li>' Amadeus'</li>\n",
       "\t<li>' Terms of Endearment'</li>\n",
       "\t<li>' Gandhi'</li>\n",
       "\t<li>' Chariots of Fire'</li>\n",
       "\t<li>' Ordinary People'</li>\n",
       "\t<li>' Kramer vs. Kramer'</li>\n",
       "\t<li>' The Deer Hunter'</li>\n",
       "\t<li>' Annie Hall'</li>\n",
       "\t<li>' Rocky'</li>\n",
       "\t<li>' One Flew Over the Cuckoo\\'s Nest'</li>\n",
       "\t<li>' The Godfather: Part II'</li>\n",
       "\t<li>' The Sting'</li>\n",
       "\t<li>' The Godfather'</li>\n",
       "\t<li>' The French Connection'</li>\n",
       "\t<li>' Patton'</li>\n",
       "\t<li>' Midnight Cowboy'</li>\n",
       "\t<li>' Oliver!'</li>\n",
       "\t<li>' In the Heat of the Night'</li>\n",
       "\t<li>' A Man for All Seasons'</li>\n",
       "\t<li>' The Sound of Music'</li>\n",
       "\t<li>' My Fair Lady'</li>\n",
       "\t<li>' Tom Jones'</li>\n",
       "\t<li>' Lawrence of Arabia'</li>\n",
       "\t<li>' West Side Story'</li>\n",
       "\t<li>' The Apartment'</li>\n",
       "\t<li>' Ben-Hur'</li>\n",
       "\t<li>' Gigi'</li>\n",
       "\t<li>' The Bridge on the River Kwai'</li>\n",
       "\t<li>' Around the World in 80 Days'</li>\n",
       "\t<li>' Marty'</li>\n",
       "\t<li>' On the Waterfront'</li>\n",
       "\t<li>' From Here to Eternity'</li>\n",
       "\t<li>' The Greatest Show on Earth'</li>\n",
       "\t<li>' An American in Paris'</li>\n",
       "\t<li>' All About Eve'</li>\n",
       "\t<li>' All the King\\'s Men'</li>\n",
       "\t<li>' Hamlet'</li>\n",
       "\t<li>' Gentleman\\'s Agreement'</li>\n",
       "\t<li>' The Best Years of Our Lives'</li>\n",
       "\t<li>' The Lost Weekend'</li>\n",
       "\t<li>' Going My Way'</li>\n",
       "\t<li>' Casablanca'</li>\n",
       "\t<li>' Mrs. Miniver'</li>\n",
       "\t<li>' How Green Was My Valley'</li>\n",
       "\t<li>' Rebecca'</li>\n",
       "\t<li>' Gone with the Wind'</li>\n",
       "\t<li>' You Can\\'t Take It with You'</li>\n",
       "\t<li>' The Life of Emile Zola'</li>\n",
       "\t<li>' The Great Ziegfeld'</li>\n",
       "\t<li>' Mutiny on the Bounty'</li>\n",
       "\t<li>' It Happened One Night'</li>\n",
       "\t<li>' Cavalcade'</li>\n",
       "\t<li>' Grand Hotel'</li>\n",
       "\t<li>' Cimarron'</li>\n",
       "\t<li>' All Quiet on the Western Front'</li>\n",
       "\t<li>' The Broadway Melody'</li>\n",
       "\t<li>' Wings'</li>\n",
       "\t<li>' Sunrise: A Song of Two Humans'</li>\n",
       "</ol>\n"
      ],
      "text/latex": [
       "\\begin{enumerate*}\n",
       "\\item ' The Shape of Water'\n",
       "\\item ' Moonlight'\n",
       "\\item ' Spotlight'\n",
       "\\item ' Birdman or (The Unexpected Virtue of Ignorance)'\n",
       "\\item ' 12 Years a Slave'\n",
       "\\item ' Argo'\n",
       "\\item ' The Artist'\n",
       "\\item ' The King\\textbackslash{}'s Speech'\n",
       "\\item ' The Hurt Locker'\n",
       "\\item ' Slumdog Millionaire'\n",
       "\\item ' No Country for Old Men'\n",
       "\\item ' The Departed'\n",
       "\\item ' Crash'\n",
       "\\item ' Million Dollar Baby'\n",
       "\\item ' The Lord of the Rings: The Return of the King'\n",
       "\\item ' Chicago'\n",
       "\\item ' A Beautiful Mind'\n",
       "\\item ' Gladiator'\n",
       "\\item ' American Beauty'\n",
       "\\item ' Shakespeare in Love'\n",
       "\\item ' Titanic'\n",
       "\\item ' The English Patient'\n",
       "\\item ' Braveheart'\n",
       "\\item ' Forrest Gump'\n",
       "\\item ' Schindler\\textbackslash{}'s List'\n",
       "\\item ' Unforgiven'\n",
       "\\item ' The Silence of the Lambs'\n",
       "\\item ' Dances with Wolves'\n",
       "\\item ' Driving Miss Daisy'\n",
       "\\item ' Rain Man'\n",
       "\\item ' The Last Emperor'\n",
       "\\item ' Platoon'\n",
       "\\item ' Out of Africa'\n",
       "\\item ' Amadeus'\n",
       "\\item ' Terms of Endearment'\n",
       "\\item ' Gandhi'\n",
       "\\item ' Chariots of Fire'\n",
       "\\item ' Ordinary People'\n",
       "\\item ' Kramer vs. Kramer'\n",
       "\\item ' The Deer Hunter'\n",
       "\\item ' Annie Hall'\n",
       "\\item ' Rocky'\n",
       "\\item ' One Flew Over the Cuckoo\\textbackslash{}'s Nest'\n",
       "\\item ' The Godfather: Part II'\n",
       "\\item ' The Sting'\n",
       "\\item ' The Godfather'\n",
       "\\item ' The French Connection'\n",
       "\\item ' Patton'\n",
       "\\item ' Midnight Cowboy'\n",
       "\\item ' Oliver!'\n",
       "\\item ' In the Heat of the Night'\n",
       "\\item ' A Man for All Seasons'\n",
       "\\item ' The Sound of Music'\n",
       "\\item ' My Fair Lady'\n",
       "\\item ' Tom Jones'\n",
       "\\item ' Lawrence of Arabia'\n",
       "\\item ' West Side Story'\n",
       "\\item ' The Apartment'\n",
       "\\item ' Ben-Hur'\n",
       "\\item ' Gigi'\n",
       "\\item ' The Bridge on the River Kwai'\n",
       "\\item ' Around the World in 80 Days'\n",
       "\\item ' Marty'\n",
       "\\item ' On the Waterfront'\n",
       "\\item ' From Here to Eternity'\n",
       "\\item ' The Greatest Show on Earth'\n",
       "\\item ' An American in Paris'\n",
       "\\item ' All About Eve'\n",
       "\\item ' All the King\\textbackslash{}'s Men'\n",
       "\\item ' Hamlet'\n",
       "\\item ' Gentleman\\textbackslash{}'s Agreement'\n",
       "\\item ' The Best Years of Our Lives'\n",
       "\\item ' The Lost Weekend'\n",
       "\\item ' Going My Way'\n",
       "\\item ' Casablanca'\n",
       "\\item ' Mrs. Miniver'\n",
       "\\item ' How Green Was My Valley'\n",
       "\\item ' Rebecca'\n",
       "\\item ' Gone with the Wind'\n",
       "\\item ' You Can\\textbackslash{}'t Take It with You'\n",
       "\\item ' The Life of Emile Zola'\n",
       "\\item ' The Great Ziegfeld'\n",
       "\\item ' Mutiny on the Bounty'\n",
       "\\item ' It Happened One Night'\n",
       "\\item ' Cavalcade'\n",
       "\\item ' Grand Hotel'\n",
       "\\item ' Cimarron'\n",
       "\\item ' All Quiet on the Western Front'\n",
       "\\item ' The Broadway Melody'\n",
       "\\item ' Wings'\n",
       "\\item ' Sunrise: A Song of Two Humans'\n",
       "\\end{enumerate*}\n"
      ],
      "text/markdown": [
       "1. ' The Shape of Water'\n",
       "2. ' Moonlight'\n",
       "3. ' Spotlight'\n",
       "4. ' Birdman or (The Unexpected Virtue of Ignorance)'\n",
       "5. ' 12 Years a Slave'\n",
       "6. ' Argo'\n",
       "7. ' The Artist'\n",
       "8. ' The King\\'s Speech'\n",
       "9. ' The Hurt Locker'\n",
       "10. ' Slumdog Millionaire'\n",
       "11. ' No Country for Old Men'\n",
       "12. ' The Departed'\n",
       "13. ' Crash'\n",
       "14. ' Million Dollar Baby'\n",
       "15. ' The Lord of the Rings: The Return of the King'\n",
       "16. ' Chicago'\n",
       "17. ' A Beautiful Mind'\n",
       "18. ' Gladiator'\n",
       "19. ' American Beauty'\n",
       "20. ' Shakespeare in Love'\n",
       "21. ' Titanic'\n",
       "22. ' The English Patient'\n",
       "23. ' Braveheart'\n",
       "24. ' Forrest Gump'\n",
       "25. ' Schindler\\'s List'\n",
       "26. ' Unforgiven'\n",
       "27. ' The Silence of the Lambs'\n",
       "28. ' Dances with Wolves'\n",
       "29. ' Driving Miss Daisy'\n",
       "30. ' Rain Man'\n",
       "31. ' The Last Emperor'\n",
       "32. ' Platoon'\n",
       "33. ' Out of Africa'\n",
       "34. ' Amadeus'\n",
       "35. ' Terms of Endearment'\n",
       "36. ' Gandhi'\n",
       "37. ' Chariots of Fire'\n",
       "38. ' Ordinary People'\n",
       "39. ' Kramer vs. Kramer'\n",
       "40. ' The Deer Hunter'\n",
       "41. ' Annie Hall'\n",
       "42. ' Rocky'\n",
       "43. ' One Flew Over the Cuckoo\\'s Nest'\n",
       "44. ' The Godfather: Part II'\n",
       "45. ' The Sting'\n",
       "46. ' The Godfather'\n",
       "47. ' The French Connection'\n",
       "48. ' Patton'\n",
       "49. ' Midnight Cowboy'\n",
       "50. ' Oliver!'\n",
       "51. ' In the Heat of the Night'\n",
       "52. ' A Man for All Seasons'\n",
       "53. ' The Sound of Music'\n",
       "54. ' My Fair Lady'\n",
       "55. ' Tom Jones'\n",
       "56. ' Lawrence of Arabia'\n",
       "57. ' West Side Story'\n",
       "58. ' The Apartment'\n",
       "59. ' Ben-Hur'\n",
       "60. ' Gigi'\n",
       "61. ' The Bridge on the River Kwai'\n",
       "62. ' Around the World in 80 Days'\n",
       "63. ' Marty'\n",
       "64. ' On the Waterfront'\n",
       "65. ' From Here to Eternity'\n",
       "66. ' The Greatest Show on Earth'\n",
       "67. ' An American in Paris'\n",
       "68. ' All About Eve'\n",
       "69. ' All the King\\'s Men'\n",
       "70. ' Hamlet'\n",
       "71. ' Gentleman\\'s Agreement'\n",
       "72. ' The Best Years of Our Lives'\n",
       "73. ' The Lost Weekend'\n",
       "74. ' Going My Way'\n",
       "75. ' Casablanca'\n",
       "76. ' Mrs. Miniver'\n",
       "77. ' How Green Was My Valley'\n",
       "78. ' Rebecca'\n",
       "79. ' Gone with the Wind'\n",
       "80. ' You Can\\'t Take It with You'\n",
       "81. ' The Life of Emile Zola'\n",
       "82. ' The Great Ziegfeld'\n",
       "83. ' Mutiny on the Bounty'\n",
       "84. ' It Happened One Night'\n",
       "85. ' Cavalcade'\n",
       "86. ' Grand Hotel'\n",
       "87. ' Cimarron'\n",
       "88. ' All Quiet on the Western Front'\n",
       "89. ' The Broadway Melody'\n",
       "90. ' Wings'\n",
       "91. ' Sunrise: A Song of Two Humans'\n",
       "\n",
       "\n"
      ],
      "text/plain": [
       " [1] \" The Shape of Water\"                             \n",
       " [2] \" Moonlight\"                                      \n",
       " [3] \" Spotlight\"                                      \n",
       " [4] \" Birdman or (The Unexpected Virtue of Ignorance)\"\n",
       " [5] \" 12 Years a Slave\"                               \n",
       " [6] \" Argo\"                                           \n",
       " [7] \" The Artist\"                                     \n",
       " [8] \" The King's Speech\"                              \n",
       " [9] \" The Hurt Locker\"                                \n",
       "[10] \" Slumdog Millionaire\"                            \n",
       "[11] \" No Country for Old Men\"                         \n",
       "[12] \" The Departed\"                                   \n",
       "[13] \" Crash\"                                          \n",
       "[14] \" Million Dollar Baby\"                            \n",
       "[15] \" The Lord of the Rings: The Return of the King\"  \n",
       "[16] \" Chicago\"                                        \n",
       "[17] \" A Beautiful Mind\"                               \n",
       "[18] \" Gladiator\"                                      \n",
       "[19] \" American Beauty\"                                \n",
       "[20] \" Shakespeare in Love\"                            \n",
       "[21] \" Titanic\"                                        \n",
       "[22] \" The English Patient\"                            \n",
       "[23] \" Braveheart\"                                     \n",
       "[24] \" Forrest Gump\"                                   \n",
       "[25] \" Schindler's List\"                               \n",
       "[26] \" Unforgiven\"                                     \n",
       "[27] \" The Silence of the Lambs\"                       \n",
       "[28] \" Dances with Wolves\"                             \n",
       "[29] \" Driving Miss Daisy\"                             \n",
       "[30] \" Rain Man\"                                       \n",
       "[31] \" The Last Emperor\"                               \n",
       "[32] \" Platoon\"                                        \n",
       "[33] \" Out of Africa\"                                  \n",
       "[34] \" Amadeus\"                                        \n",
       "[35] \" Terms of Endearment\"                            \n",
       "[36] \" Gandhi\"                                         \n",
       "[37] \" Chariots of Fire\"                               \n",
       "[38] \" Ordinary People\"                                \n",
       "[39] \" Kramer vs. Kramer\"                              \n",
       "[40] \" The Deer Hunter\"                                \n",
       "[41] \" Annie Hall\"                                     \n",
       "[42] \" Rocky\"                                          \n",
       "[43] \" One Flew Over the Cuckoo's Nest\"                \n",
       "[44] \" The Godfather: Part II\"                         \n",
       "[45] \" The Sting\"                                      \n",
       "[46] \" The Godfather\"                                  \n",
       "[47] \" The French Connection\"                          \n",
       "[48] \" Patton\"                                         \n",
       "[49] \" Midnight Cowboy\"                                \n",
       "[50] \" Oliver!\"                                        \n",
       "[51] \" In the Heat of the Night\"                       \n",
       "[52] \" A Man for All Seasons\"                          \n",
       "[53] \" The Sound of Music\"                             \n",
       "[54] \" My Fair Lady\"                                   \n",
       "[55] \" Tom Jones\"                                      \n",
       "[56] \" Lawrence of Arabia\"                             \n",
       "[57] \" West Side Story\"                                \n",
       "[58] \" The Apartment\"                                  \n",
       "[59] \" Ben-Hur\"                                        \n",
       "[60] \" Gigi\"                                           \n",
       "[61] \" The Bridge on the River Kwai\"                   \n",
       "[62] \" Around the World in 80 Days\"                    \n",
       "[63] \" Marty\"                                          \n",
       "[64] \" On the Waterfront\"                              \n",
       "[65] \" From Here to Eternity\"                          \n",
       "[66] \" The Greatest Show on Earth\"                     \n",
       "[67] \" An American in Paris\"                           \n",
       "[68] \" All About Eve\"                                  \n",
       "[69] \" All the King's Men\"                             \n",
       "[70] \" Hamlet\"                                         \n",
       "[71] \" Gentleman's Agreement\"                          \n",
       "[72] \" The Best Years of Our Lives\"                    \n",
       "[73] \" The Lost Weekend\"                               \n",
       "[74] \" Going My Way\"                                   \n",
       "[75] \" Casablanca\"                                     \n",
       "[76] \" Mrs. Miniver\"                                   \n",
       "[77] \" How Green Was My Valley\"                        \n",
       "[78] \" Rebecca\"                                        \n",
       "[79] \" Gone with the Wind\"                             \n",
       "[80] \" You Can't Take It with You\"                     \n",
       "[81] \" The Life of Emile Zola\"                         \n",
       "[82] \" The Great Ziegfeld\"                             \n",
       "[83] \" Mutiny on the Bounty\"                           \n",
       "[84] \" It Happened One Night\"                          \n",
       "[85] \" Cavalcade\"                                      \n",
       "[86] \" Grand Hotel\"                                    \n",
       "[87] \" Cimarron\"                                       \n",
       "[88] \" All Quiet on the Western Front\"                 \n",
       "[89] \" The Broadway Melody\"                            \n",
       "[90] \" Wings\"                                          \n",
       "[91] \" Sunrise: A Song of Two Humans\"                  "
      ]
     },
     "metadata": {},
     "output_type": "display_data"
    }
   ],
   "source": [
    "nodes %>% lapply(html_text) %>% str_replace('\\n.*\\n','')"
   ]
  },
  {
   "cell_type": "code",
   "execution_count": null,
   "metadata": {},
   "outputs": [],
   "source": []
  }
 ],
 "metadata": {
  "kernelspec": {
   "display_name": "R",
   "language": "R",
   "name": "ir"
  },
  "language_info": {
   "codemirror_mode": "r",
   "file_extension": ".r",
   "mimetype": "text/x-r-source",
   "name": "R",
   "pygments_lexer": "r",
   "version": "3.5.2"
  }
 },
 "nbformat": 4,
 "nbformat_minor": 2
}
