{
 "cells": [
  {
   "cell_type": "markdown",
   "metadata": {},
   "source": [
    "## Exercises"
   ]
  },
  {
   "cell_type": "code",
   "execution_count": 12,
   "metadata": {},
   "outputs": [],
   "source": [
    "library(tidyverse)\n",
    "library(dslabs)\n",
    "library(pdftools)"
   ]
  },
  {
   "cell_type": "markdown",
   "metadata": {},
   "source": [
    ">1. Complete all lessons and exercises in the [https://regexone.com/](https://regexone.com/) online interactive tutorial."
   ]
  },
  {
   "cell_type": "raw",
   "metadata": {},
   "source": [
    "    Done."
   ]
  },
  {
   "cell_type": "markdown",
   "metadata": {},
   "source": [
    ">2. In the `extdata` directory of the __dslabs__ package, you will find a PDF file containing daily mortality data for Puerto Rico from Jan 1, 2015 to May 31, 2018. You can find the file like this:\n",
    "\n",
    ">    `fn <- system.file(\"extdata\", \"RD-Mortality-Report_2015-18-180531.pdf\",package=\"dslabs\")`\n",
    "\n",
    ">    Find and open the file or open it directly from RStudio. On a Mac, you can type:\n",
    "\n",
    ">    `system2(\"open\", args = fn)`\n",
    "\n",
    ">    and on Windows, you can type:\n",
    "    \n",
    ">    `system(\"cmd.exe\", input = paste(\"start\", fn))`\n",
    "\n",
    ">    Which of the following best describes this file:\n",
    "\n",
    ">    A. It is a table. Extracting the data will be easy.\n",
    "    \n",
    ">    B. It is a report written in prose.  Extracting the data will be impossible.\n",
    "    \n",
    ">    __C__. It is a report combining graphs and tables. Extracting the data seems possible.\n",
    "    \n",
    ">    D. It shows graphs of the data. Extracting the data will be difficult."
   ]
  },
  {
   "cell_type": "raw",
   "metadata": {},
   "source": [
    "    Done."
   ]
  },
  {
   "cell_type": "markdown",
   "metadata": {},
   "source": [
    ">3. We are going to create a tidy dataset with each row representing one observation. The variables in this dataset will be year, month, day and deaths. Start by installing and loading the __pdftools__ package:\n",
    "    \n",
    ">    `install.packages(\"pdftools\")`\n",
    ">    `library(pdftools)`\n",
    "    \n",
    ">    Now read-in `fn` using the `pdf_text` function, store the results in an object called `txt`. Describe what you see in `txt`.\n",
    "\n",
    ">    A. A table with the mortality data.\n",
    "    \n",
    ">    __B__. A character string of length 12. Each entry represents the text in each page. The mortality data is in there somewhere.\n",
    "    \n",
    ">    C. A character string with one entry containing all the information in the PDF file.\n",
    "    \n",
    ">    D. An html document.   "
   ]
  },
  {
   "cell_type": "code",
   "execution_count": 71,
   "metadata": {},
   "outputs": [],
   "source": [
    "fn <- system.file(\"extdata\", \"RD-Mortality-Report_2015-18-180531.pdf\",package=\"dslabs\")"
   ]
  },
  {
   "cell_type": "code",
   "execution_count": 138,
   "metadata": {},
   "outputs": [],
   "source": [
    "txt <- pdf_text(fn)"
   ]
  },
  {
   "cell_type": "code",
   "execution_count": 139,
   "metadata": {},
   "outputs": [
    {
     "data": {
      "text/html": [
       "12"
      ],
      "text/latex": [
       "12"
      ],
      "text/markdown": [
       "12"
      ],
      "text/plain": [
       "[1] 12"
      ]
     },
     "metadata": {},
     "output_type": "display_data"
    }
   ],
   "source": [
    "length(txt)"
   ]
  },
  {
   "cell_type": "markdown",
   "metadata": {},
   "source": [
    ">4. Extract the ninth page of the PDF file from the object `txt`, then use the `str_split` from the __stringr__ package so that you have each line in a different entry. Call this string vector `s`. Then look at the result and choose the one that best describes what you see.\n",
    "\n",
    ">    A. It is an empty string.\n",
    "   \n",
    ">    B. I can see the figure shown in page 1.\n",
    "   \n",
    ">    C. It is a tidy table.\n",
    "   \n",
    ">    __D__. I can see the table! But there is a bunch of other stuff we need to get rid of.   "
   ]
  },
  {
   "cell_type": "code",
   "execution_count": 140,
   "metadata": {},
   "outputs": [
    {
     "data": {
      "text/html": [
       "<ol>\n",
       "\t<li><ol class=list-inline>\n",
       "\t<li><span style=white-space:pre-wrap>'6/4/2018                               Departamento de Salud - Registro Demográfico - División de Calidad y Estadísticas Vitales'</span></li>\n",
       "\t<li><span style=white-space:pre-wrap>'SEP    2015  2016   2017  2018'</span></li>\n",
       "\t<li><span style=white-space:pre-wrap>'    1     75    75     94      0'</span></li>\n",
       "\t<li><span style=white-space:pre-wrap>'    2     77    67     69      0                                                                      Defunciones Ocurridas en Septiembre por Día y Año'</span></li>\n",
       "\t<li><span style=white-space:pre-wrap>'    3     67    78     80      0'</span></li>\n",
       "\t<li><span style=white-space:pre-wrap>'                                   140'</span></li>\n",
       "\t<li><span style=white-space:pre-wrap>'    4     71    99     84      0'</span></li>\n",
       "\t<li><span style=white-space:pre-wrap>'    5     62    89     74      0'</span></li>\n",
       "\t<li><span style=white-space:pre-wrap>'                                   120'</span></li>\n",
       "\t<li><span style=white-space:pre-wrap>'    6     77    74     83      0'</span></li>\n",
       "\t<li><span style=white-space:pre-wrap>'    7     85    67     87      0'</span></li>\n",
       "\t<li><span style=white-space:pre-wrap>'    8     84    77     94      0   100'</span></li>\n",
       "\t<li><span style=white-space:pre-wrap>'    9     79    90     72      0'</span></li>\n",
       "\t<li><span style=white-space:pre-wrap>'   10     66    73     98      0    80'</span></li>\n",
       "\t<li><span style=white-space:pre-wrap>'   11     92    78     92      0'</span></li>\n",
       "\t<li><span style=white-space:pre-wrap>'   12     79    66     80      0    60'</span></li>\n",
       "\t<li><span style=white-space:pre-wrap>'   13     81    88    100      0'</span></li>\n",
       "\t<li><span style=white-space:pre-wrap>'   14     70    81     79      0    40'</span></li>\n",
       "\t<li><span style=white-space:pre-wrap>'   15     87    91     84      0'</span></li>\n",
       "\t<li><span style=white-space:pre-wrap>'   16     70    71     80      0    20'</span></li>\n",
       "\t<li><span style=white-space:pre-wrap>'   17     70    68     88      0'</span></li>\n",
       "\t<li><span style=white-space:pre-wrap>'   18     76    79     78      0      0'</span></li>\n",
       "\t<li><span style=white-space:pre-wrap>'   19     81    82     75      0            1       2    3        4      5      6       7       8       9    10 11 12    13 14    15 16    17 18   19 20 21 22 23 24 25 26 27 28 29 30'</span></li>\n",
       "\t<li><span style=white-space:pre-wrap>'   20     69    79    106      0   Fuente: Registro Demográfico - División de Calidad y Estadísticas Vitales         2015      2016     2017     2018'</span></li>\n",
       "\t<li><span style=white-space:pre-wrap>'   21     70    67    124      0'</span></li>\n",
       "\t<li><span style=white-space:pre-wrap>'   22     68    97    110      0'</span></li>\n",
       "\t<li><span style=white-space:pre-wrap>'   23     70    71    109      0'</span></li>\n",
       "\t<li><span style=white-space:pre-wrap>'   24     78    79    122      0'</span></li>\n",
       "\t<li><span style=white-space:pre-wrap>'   25     60    75    137      0'</span></li>\n",
       "\t<li><span style=white-space:pre-wrap>'   26     76    82    132      0'</span></li>\n",
       "\t<li><span style=white-space:pre-wrap>'   27     78    82    122      0'</span></li>\n",
       "\t<li><span style=white-space:pre-wrap>'   28     84    81    112      0'</span></li>\n",
       "\t<li><span style=white-space:pre-wrap>'   29     83    70    131      0'</span></li>\n",
       "\t<li><span style=white-space:pre-wrap>'   30     73    91    132      0'</span></li>\n",
       "\t<li><span style=white-space:pre-wrap>'Total   2258  2367   2928      0'</span></li>\n",
       "\t<li><span style=white-space:pre-wrap>'Avg       75    79     98      0'</span></li>\n",
       "\t<li><span style=white-space:pre-wrap>'Max       92    99    137      0 NOTA:'</span></li>\n",
       "\t<li><span style=white-space:pre-wrap>'Min       60    66     69      0 * Año 2017 - Datos preliminares; archivo final en proceso operacional de revisión de calidad y validación.'</span></li>\n",
       "\t<li><span style=white-space:pre-wrap>'Med       76   78.5    93      0 ** Año 2018 - Datos preliminares; Certificados de Defunción registrados en sistema hasta 5/31/2018.'</span></li>\n",
       "\t<li>''</li>\n",
       "</ol>\n",
       "</li>\n",
       "</ol>\n"
      ],
      "text/latex": [
       "\\begin{enumerate}\n",
       "\\item \\begin{enumerate*}\n",
       "\\item '6/4/2018                               Departamento de Salud - Registro Demográfico - División de Calidad y Estadísticas Vitales'\n",
       "\\item 'SEP    2015  2016   2017  2018'\n",
       "\\item '    1     75    75     94      0'\n",
       "\\item '    2     77    67     69      0                                                                      Defunciones Ocurridas en Septiembre por Día y Año'\n",
       "\\item '    3     67    78     80      0'\n",
       "\\item '                                   140'\n",
       "\\item '    4     71    99     84      0'\n",
       "\\item '    5     62    89     74      0'\n",
       "\\item '                                   120'\n",
       "\\item '    6     77    74     83      0'\n",
       "\\item '    7     85    67     87      0'\n",
       "\\item '    8     84    77     94      0   100'\n",
       "\\item '    9     79    90     72      0'\n",
       "\\item '   10     66    73     98      0    80'\n",
       "\\item '   11     92    78     92      0'\n",
       "\\item '   12     79    66     80      0    60'\n",
       "\\item '   13     81    88    100      0'\n",
       "\\item '   14     70    81     79      0    40'\n",
       "\\item '   15     87    91     84      0'\n",
       "\\item '   16     70    71     80      0    20'\n",
       "\\item '   17     70    68     88      0'\n",
       "\\item '   18     76    79     78      0      0'\n",
       "\\item '   19     81    82     75      0            1       2    3        4      5      6       7       8       9    10 11 12    13 14    15 16    17 18   19 20 21 22 23 24 25 26 27 28 29 30'\n",
       "\\item '   20     69    79    106      0   Fuente: Registro Demográfico - División de Calidad y Estadísticas Vitales         2015      2016     2017     2018'\n",
       "\\item '   21     70    67    124      0'\n",
       "\\item '   22     68    97    110      0'\n",
       "\\item '   23     70    71    109      0'\n",
       "\\item '   24     78    79    122      0'\n",
       "\\item '   25     60    75    137      0'\n",
       "\\item '   26     76    82    132      0'\n",
       "\\item '   27     78    82    122      0'\n",
       "\\item '   28     84    81    112      0'\n",
       "\\item '   29     83    70    131      0'\n",
       "\\item '   30     73    91    132      0'\n",
       "\\item 'Total   2258  2367   2928      0'\n",
       "\\item 'Avg       75    79     98      0'\n",
       "\\item 'Max       92    99    137      0 NOTA:'\n",
       "\\item 'Min       60    66     69      0 * Año 2017 - Datos preliminares; archivo final en proceso operacional de revisión de calidad y validación.'\n",
       "\\item 'Med       76   78.5    93      0 ** Año 2018 - Datos preliminares; Certificados de Defunción registrados en sistema hasta 5/31/2018.'\n",
       "\\item ''\n",
       "\\end{enumerate*}\n",
       "\n",
       "\\end{enumerate}\n"
      ],
      "text/markdown": [
       "1. 1. <span style=white-space:pre-wrap>'6/4/2018                               Departamento de Salud - Registro Demográfico - División de Calidad y Estadísticas Vitales'</span>\n",
       "2. <span style=white-space:pre-wrap>'SEP    2015  2016   2017  2018'</span>\n",
       "3. <span style=white-space:pre-wrap>'    1     75    75     94      0'</span>\n",
       "4. <span style=white-space:pre-wrap>'    2     77    67     69      0                                                                      Defunciones Ocurridas en Septiembre por Día y Año'</span>\n",
       "5. <span style=white-space:pre-wrap>'    3     67    78     80      0'</span>\n",
       "6. <span style=white-space:pre-wrap>'                                   140'</span>\n",
       "7. <span style=white-space:pre-wrap>'    4     71    99     84      0'</span>\n",
       "8. <span style=white-space:pre-wrap>'    5     62    89     74      0'</span>\n",
       "9. <span style=white-space:pre-wrap>'                                   120'</span>\n",
       "10. <span style=white-space:pre-wrap>'    6     77    74     83      0'</span>\n",
       "11. <span style=white-space:pre-wrap>'    7     85    67     87      0'</span>\n",
       "12. <span style=white-space:pre-wrap>'    8     84    77     94      0   100'</span>\n",
       "13. <span style=white-space:pre-wrap>'    9     79    90     72      0'</span>\n",
       "14. <span style=white-space:pre-wrap>'   10     66    73     98      0    80'</span>\n",
       "15. <span style=white-space:pre-wrap>'   11     92    78     92      0'</span>\n",
       "16. <span style=white-space:pre-wrap>'   12     79    66     80      0    60'</span>\n",
       "17. <span style=white-space:pre-wrap>'   13     81    88    100      0'</span>\n",
       "18. <span style=white-space:pre-wrap>'   14     70    81     79      0    40'</span>\n",
       "19. <span style=white-space:pre-wrap>'   15     87    91     84      0'</span>\n",
       "20. <span style=white-space:pre-wrap>'   16     70    71     80      0    20'</span>\n",
       "21. <span style=white-space:pre-wrap>'   17     70    68     88      0'</span>\n",
       "22. <span style=white-space:pre-wrap>'   18     76    79     78      0      0'</span>\n",
       "23. <span style=white-space:pre-wrap>'   19     81    82     75      0            1       2    3        4      5      6       7       8       9    10 11 12    13 14    15 16    17 18   19 20 21 22 23 24 25 26 27 28 29 30'</span>\n",
       "24. <span style=white-space:pre-wrap>'   20     69    79    106      0   Fuente: Registro Demográfico - División de Calidad y Estadísticas Vitales         2015      2016     2017     2018'</span>\n",
       "25. <span style=white-space:pre-wrap>'   21     70    67    124      0'</span>\n",
       "26. <span style=white-space:pre-wrap>'   22     68    97    110      0'</span>\n",
       "27. <span style=white-space:pre-wrap>'   23     70    71    109      0'</span>\n",
       "28. <span style=white-space:pre-wrap>'   24     78    79    122      0'</span>\n",
       "29. <span style=white-space:pre-wrap>'   25     60    75    137      0'</span>\n",
       "30. <span style=white-space:pre-wrap>'   26     76    82    132      0'</span>\n",
       "31. <span style=white-space:pre-wrap>'   27     78    82    122      0'</span>\n",
       "32. <span style=white-space:pre-wrap>'   28     84    81    112      0'</span>\n",
       "33. <span style=white-space:pre-wrap>'   29     83    70    131      0'</span>\n",
       "34. <span style=white-space:pre-wrap>'   30     73    91    132      0'</span>\n",
       "35. <span style=white-space:pre-wrap>'Total   2258  2367   2928      0'</span>\n",
       "36. <span style=white-space:pre-wrap>'Avg       75    79     98      0'</span>\n",
       "37. <span style=white-space:pre-wrap>'Max       92    99    137      0 NOTA:'</span>\n",
       "38. <span style=white-space:pre-wrap>'Min       60    66     69      0 * Año 2017 - Datos preliminares; archivo final en proceso operacional de revisión de calidad y validación.'</span>\n",
       "39. <span style=white-space:pre-wrap>'Med       76   78.5    93      0 ** Año 2018 - Datos preliminares; Certificados de Defunción registrados en sistema hasta 5/31/2018.'</span>\n",
       "40. ''\n",
       "\n",
       "\n",
       "\n",
       "\n",
       "\n"
      ],
      "text/plain": [
       "[[1]]\n",
       " [1] \"6/4/2018                               Departamento de Salud - Registro Demográfico - División de Calidad y Estadísticas Vitales\"                                                      \n",
       " [2] \"SEP    2015  2016   2017  2018\"                                                                                                                                                        \n",
       " [3] \"    1     75    75     94      0\"                                                                                                                                                      \n",
       " [4] \"    2     77    67     69      0                                                                      Defunciones Ocurridas en Septiembre por Día y Año\"                               \n",
       " [5] \"    3     67    78     80      0\"                                                                                                                                                      \n",
       " [6] \"                                   140\"                                                                                                                                                \n",
       " [7] \"    4     71    99     84      0\"                                                                                                                                                      \n",
       " [8] \"    5     62    89     74      0\"                                                                                                                                                      \n",
       " [9] \"                                   120\"                                                                                                                                                \n",
       "[10] \"    6     77    74     83      0\"                                                                                                                                                      \n",
       "[11] \"    7     85    67     87      0\"                                                                                                                                                      \n",
       "[12] \"    8     84    77     94      0   100\"                                                                                                                                                \n",
       "[13] \"    9     79    90     72      0\"                                                                                                                                                      \n",
       "[14] \"   10     66    73     98      0    80\"                                                                                                                                                \n",
       "[15] \"   11     92    78     92      0\"                                                                                                                                                      \n",
       "[16] \"   12     79    66     80      0    60\"                                                                                                                                                \n",
       "[17] \"   13     81    88    100      0\"                                                                                                                                                      \n",
       "[18] \"   14     70    81     79      0    40\"                                                                                                                                                \n",
       "[19] \"   15     87    91     84      0\"                                                                                                                                                      \n",
       "[20] \"   16     70    71     80      0    20\"                                                                                                                                                \n",
       "[21] \"   17     70    68     88      0\"                                                                                                                                                      \n",
       "[22] \"   18     76    79     78      0      0\"                                                                                                                                               \n",
       "[23] \"   19     81    82     75      0            1       2    3        4      5      6       7       8       9    10 11 12    13 14    15 16    17 18   19 20 21 22 23 24 25 26 27 28 29 30\"\n",
       "[24] \"   20     69    79    106      0   Fuente: Registro Demográfico - División de Calidad y Estadísticas Vitales         2015      2016     2017     2018\"                                 \n",
       "[25] \"   21     70    67    124      0\"                                                                                                                                                      \n",
       "[26] \"   22     68    97    110      0\"                                                                                                                                                      \n",
       "[27] \"   23     70    71    109      0\"                                                                                                                                                      \n",
       "[28] \"   24     78    79    122      0\"                                                                                                                                                      \n",
       "[29] \"   25     60    75    137      0\"                                                                                                                                                      \n",
       "[30] \"   26     76    82    132      0\"                                                                                                                                                      \n",
       "[31] \"   27     78    82    122      0\"                                                                                                                                                      \n",
       "[32] \"   28     84    81    112      0\"                                                                                                                                                      \n",
       "[33] \"   29     83    70    131      0\"                                                                                                                                                      \n",
       "[34] \"   30     73    91    132      0\"                                                                                                                                                      \n",
       "[35] \"Total   2258  2367   2928      0\"                                                                                                                                                      \n",
       "[36] \"Avg       75    79     98      0\"                                                                                                                                                      \n",
       "[37] \"Max       92    99    137      0 NOTA:\"                                                                                                                                                \n",
       "[38] \"Min       60    66     69      0 * Año 2017 - Datos preliminares; archivo final en proceso operacional de revisión de calidad y validación.\"                                           \n",
       "[39] \"Med       76   78.5    93      0 ** Año 2018 - Datos preliminares; Certificados de Defunción registrados en sistema hasta 5/31/2018.\"                                                  \n",
       "[40] \"\"                                                                                                                                                                                      \n"
      ]
     },
     "metadata": {},
     "output_type": "display_data"
    }
   ],
   "source": [
    "s <- txt[9] %>% str_split(\"\\\\n\")\n",
    "s"
   ]
  },
  {
   "cell_type": "markdown",
   "metadata": {},
   "source": [
    ">5. What kind of object is `s` and how many entries does it have?"
   ]
  },
  {
   "cell_type": "code",
   "execution_count": 141,
   "metadata": {},
   "outputs": [
    {
     "data": {
      "text/html": [
       "'list'"
      ],
      "text/latex": [
       "'list'"
      ],
      "text/markdown": [
       "'list'"
      ],
      "text/plain": [
       "[1] \"list\""
      ]
     },
     "metadata": {},
     "output_type": "display_data"
    }
   ],
   "source": [
    "class(s)"
   ]
  },
  {
   "cell_type": "code",
   "execution_count": 142,
   "metadata": {},
   "outputs": [
    {
     "data": {
      "text/html": [
       "1"
      ],
      "text/latex": [
       "1"
      ],
      "text/markdown": [
       "1"
      ],
      "text/plain": [
       "[1] 1"
      ]
     },
     "metadata": {},
     "output_type": "display_data"
    }
   ],
   "source": [
    "length(s)"
   ]
  },
  {
   "cell_type": "markdown",
   "metadata": {},
   "source": [
    ">6. We see that the output is a list with one component. Redefine `s` to be the first entry of the list. What kind of object is `s` and how many entries does it have?"
   ]
  },
  {
   "cell_type": "code",
   "execution_count": 143,
   "metadata": {},
   "outputs": [],
   "source": [
    "s<-s[[1]]"
   ]
  },
  {
   "cell_type": "code",
   "execution_count": 144,
   "metadata": {},
   "outputs": [
    {
     "data": {
      "text/html": [
       "'character'"
      ],
      "text/latex": [
       "'character'"
      ],
      "text/markdown": [
       "'character'"
      ],
      "text/plain": [
       "[1] \"character\""
      ]
     },
     "metadata": {},
     "output_type": "display_data"
    }
   ],
   "source": [
    "class(s)"
   ]
  },
  {
   "cell_type": "code",
   "execution_count": 145,
   "metadata": {},
   "outputs": [
    {
     "data": {
      "text/html": [
       "40"
      ],
      "text/latex": [
       "40"
      ],
      "text/markdown": [
       "40"
      ],
      "text/plain": [
       "[1] 40"
      ]
     },
     "metadata": {},
     "output_type": "display_data"
    }
   ],
   "source": [
    "length(s)"
   ]
  },
  {
   "cell_type": "markdown",
   "metadata": {},
   "source": [
    ">7. When inspecting the string we obtained above, we see a common problem: white space before and after the other characters. Trimming is a common first step in string processing. These extra spaces will eventually make splitting the strings hard so we start by removing them. We learned about the command `str_trim` that removes spaces at the start or end of the strings. Use this function to trim `s`."
   ]
  },
  {
   "cell_type": "code",
   "execution_count": 146,
   "metadata": {},
   "outputs": [],
   "source": [
    "s <- s %>% str_trim()"
   ]
  },
  {
   "cell_type": "markdown",
   "metadata": {},
   "source": [
    ">8. We want to extract the numbers from the strings stored in `s`. However, there a lot of non-numeric characters that will get in the way. We can remove these, but before doing this we want to preserve the string with the column header, which includes the month abbreviation. \n",
    "Use the `str_which` function to find the rows with a header. Save these results to `header_index`. Hint: find the first string that matches the pattern `2015` using the `str_which` function."
   ]
  },
  {
   "cell_type": "code",
   "execution_count": 147,
   "metadata": {},
   "outputs": [
    {
     "data": {
      "text/html": [
       "2"
      ],
      "text/latex": [
       "2"
      ],
      "text/markdown": [
       "2"
      ],
      "text/plain": [
       "[1] 2"
      ]
     },
     "metadata": {},
     "output_type": "display_data"
    }
   ],
   "source": [
    "header_index <- s %>% str_which(\"[A-Z]\\\\s{2,}\\\\d{4}\")\n",
    "header_index"
   ]
  },
  {
   "cell_type": "markdown",
   "metadata": {},
   "source": [
    ">9. Now we are going to define two objects: `month` will store the month and `header` will store the column names. Identify which row contains the header of the table. Save the content of the row into an object called `header`, then use `str_split` to help define the two objects we need. Hints: the separator here is one or more spaces. Also, consider using the `simplify` argument."
   ]
  },
  {
   "cell_type": "code",
   "execution_count": 148,
   "metadata": {},
   "outputs": [
    {
     "data": {
      "text/html": [
       "'SEP'"
      ],
      "text/latex": [
       "'SEP'"
      ],
      "text/markdown": [
       "'SEP'"
      ],
      "text/plain": [
       "[1] \"SEP\""
      ]
     },
     "metadata": {},
     "output_type": "display_data"
    }
   ],
   "source": [
    "month <- s[header_index] %>% str_split(\"\\\\s{2,}\",simplify=TRUE) %>% .[1]\n",
    "month"
   ]
  },
  {
   "cell_type": "code",
   "execution_count": 149,
   "metadata": {},
   "outputs": [
    {
     "data": {
      "text/html": [
       "<ol class=list-inline>\n",
       "\t<li>'2015'</li>\n",
       "\t<li>'2016'</li>\n",
       "\t<li>'2017'</li>\n",
       "\t<li>'2018'</li>\n",
       "</ol>\n"
      ],
      "text/latex": [
       "\\begin{enumerate*}\n",
       "\\item '2015'\n",
       "\\item '2016'\n",
       "\\item '2017'\n",
       "\\item '2018'\n",
       "\\end{enumerate*}\n"
      ],
      "text/markdown": [
       "1. '2015'\n",
       "2. '2016'\n",
       "3. '2017'\n",
       "4. '2018'\n",
       "\n",
       "\n"
      ],
      "text/plain": [
       "[1] \"2015\" \"2016\" \"2017\" \"2018\""
      ]
     },
     "metadata": {},
     "output_type": "display_data"
    }
   ],
   "source": [
    "header <- s[header_index] %>% str_split(\"\\\\s{2,}\",simplify=TRUE) %>% .[-1]\n",
    "header"
   ]
  },
  {
   "cell_type": "markdown",
   "metadata": {},
   "source": [
    ">10. Notice that towards the end of the page you see a _totals_ row followed by rows with other summary statistics. Create an object called `tail_index` with the index of the _totals_ entry."
   ]
  },
  {
   "cell_type": "code",
   "execution_count": 150,
   "metadata": {},
   "outputs": [
    {
     "data": {
      "text/html": [
       "35"
      ],
      "text/latex": [
       "35"
      ],
      "text/markdown": [
       "35"
      ],
      "text/plain": [
       "[1] 35"
      ]
     },
     "metadata": {},
     "output_type": "display_data"
    }
   ],
   "source": [
    "tail_index <- s %>% str_which(\"Total\")\n",
    "tail_index"
   ]
  },
  {
   "cell_type": "markdown",
   "metadata": {},
   "source": [
    ">11. Because our PDF page includes graphs with numbers, some of our rows have just one number (from the y-axis of the plot). Use the `str_count` function to create an object `n` with the number of numbers in each each row. Hint: you can write a regex for number like this `\\\\d+`."
   ]
  },
  {
   "cell_type": "code",
   "execution_count": 151,
   "metadata": {},
   "outputs": [
    {
     "data": {
      "text/html": [
       "<ol class=list-inline>\n",
       "\t<li>3</li>\n",
       "\t<li>4</li>\n",
       "\t<li>5</li>\n",
       "\t<li>5</li>\n",
       "\t<li>5</li>\n",
       "\t<li>1</li>\n",
       "\t<li>5</li>\n",
       "\t<li>5</li>\n",
       "\t<li>1</li>\n",
       "\t<li>5</li>\n",
       "\t<li>5</li>\n",
       "\t<li>6</li>\n",
       "\t<li>5</li>\n",
       "\t<li>6</li>\n",
       "\t<li>5</li>\n",
       "\t<li>6</li>\n",
       "\t<li>5</li>\n",
       "\t<li>6</li>\n",
       "\t<li>5</li>\n",
       "\t<li>6</li>\n",
       "\t<li>5</li>\n",
       "\t<li>6</li>\n",
       "\t<li>35</li>\n",
       "\t<li>9</li>\n",
       "\t<li>5</li>\n",
       "\t<li>5</li>\n",
       "\t<li>5</li>\n",
       "\t<li>5</li>\n",
       "\t<li>5</li>\n",
       "\t<li>5</li>\n",
       "\t<li>5</li>\n",
       "\t<li>5</li>\n",
       "\t<li>5</li>\n",
       "\t<li>5</li>\n",
       "\t<li>4</li>\n",
       "\t<li>4</li>\n",
       "\t<li>4</li>\n",
       "\t<li>5</li>\n",
       "\t<li>9</li>\n",
       "\t<li>0</li>\n",
       "</ol>\n"
      ],
      "text/latex": [
       "\\begin{enumerate*}\n",
       "\\item 3\n",
       "\\item 4\n",
       "\\item 5\n",
       "\\item 5\n",
       "\\item 5\n",
       "\\item 1\n",
       "\\item 5\n",
       "\\item 5\n",
       "\\item 1\n",
       "\\item 5\n",
       "\\item 5\n",
       "\\item 6\n",
       "\\item 5\n",
       "\\item 6\n",
       "\\item 5\n",
       "\\item 6\n",
       "\\item 5\n",
       "\\item 6\n",
       "\\item 5\n",
       "\\item 6\n",
       "\\item 5\n",
       "\\item 6\n",
       "\\item 35\n",
       "\\item 9\n",
       "\\item 5\n",
       "\\item 5\n",
       "\\item 5\n",
       "\\item 5\n",
       "\\item 5\n",
       "\\item 5\n",
       "\\item 5\n",
       "\\item 5\n",
       "\\item 5\n",
       "\\item 5\n",
       "\\item 4\n",
       "\\item 4\n",
       "\\item 4\n",
       "\\item 5\n",
       "\\item 9\n",
       "\\item 0\n",
       "\\end{enumerate*}\n"
      ],
      "text/markdown": [
       "1. 3\n",
       "2. 4\n",
       "3. 5\n",
       "4. 5\n",
       "5. 5\n",
       "6. 1\n",
       "7. 5\n",
       "8. 5\n",
       "9. 1\n",
       "10. 5\n",
       "11. 5\n",
       "12. 6\n",
       "13. 5\n",
       "14. 6\n",
       "15. 5\n",
       "16. 6\n",
       "17. 5\n",
       "18. 6\n",
       "19. 5\n",
       "20. 6\n",
       "21. 5\n",
       "22. 6\n",
       "23. 35\n",
       "24. 9\n",
       "25. 5\n",
       "26. 5\n",
       "27. 5\n",
       "28. 5\n",
       "29. 5\n",
       "30. 5\n",
       "31. 5\n",
       "32. 5\n",
       "33. 5\n",
       "34. 5\n",
       "35. 4\n",
       "36. 4\n",
       "37. 4\n",
       "38. 5\n",
       "39. 9\n",
       "40. 0\n",
       "\n",
       "\n"
      ],
      "text/plain": [
       " [1]  3  4  5  5  5  1  5  5  1  5  5  6  5  6  5  6  5  6  5  6  5  6 35  9  5\n",
       "[26]  5  5  5  5  5  5  5  5  5  4  4  4  5  9  0"
      ]
     },
     "metadata": {},
     "output_type": "display_data"
    }
   ],
   "source": [
    "n <- s %>% str_count(\"\\\\d+\")\n",
    "n"
   ]
  },
  {
   "cell_type": "markdown",
   "metadata": {},
   "source": [
    ">12. We are now ready to remove entries from rows that we know we don't need. The entry `header_index` and everything before it should be removed. Entries for which `n` is 1 should also be removed, and the entry `tail_index` and everything that comes after it should be removed as well."
   ]
  },
  {
   "cell_type": "code",
   "execution_count": 152,
   "metadata": {},
   "outputs": [
    {
     "data": {
      "text/html": [
       "<ol class=list-inline>\n",
       "\t<li><span style=white-space:pre-wrap>'1     75    75     94      0'</span></li>\n",
       "\t<li><span style=white-space:pre-wrap>'2     77    67     69      0                                                                      Defunciones Ocurridas en Septiembre por Día y Año'</span></li>\n",
       "\t<li><span style=white-space:pre-wrap>'3     67    78     80      0'</span></li>\n",
       "\t<li>'140'</li>\n",
       "\t<li><span style=white-space:pre-wrap>'4     71    99     84      0'</span></li>\n",
       "\t<li><span style=white-space:pre-wrap>'5     62    89     74      0'</span></li>\n",
       "\t<li>'120'</li>\n",
       "\t<li><span style=white-space:pre-wrap>'6     77    74     83      0'</span></li>\n",
       "\t<li><span style=white-space:pre-wrap>'7     85    67     87      0'</span></li>\n",
       "\t<li><span style=white-space:pre-wrap>'8     84    77     94      0   100'</span></li>\n",
       "\t<li><span style=white-space:pre-wrap>'9     79    90     72      0'</span></li>\n",
       "\t<li><span style=white-space:pre-wrap>'10     66    73     98      0    80'</span></li>\n",
       "\t<li><span style=white-space:pre-wrap>'11     92    78     92      0'</span></li>\n",
       "\t<li><span style=white-space:pre-wrap>'12     79    66     80      0    60'</span></li>\n",
       "\t<li><span style=white-space:pre-wrap>'13     81    88    100      0'</span></li>\n",
       "\t<li><span style=white-space:pre-wrap>'14     70    81     79      0    40'</span></li>\n",
       "\t<li><span style=white-space:pre-wrap>'15     87    91     84      0'</span></li>\n",
       "\t<li><span style=white-space:pre-wrap>'16     70    71     80      0    20'</span></li>\n",
       "\t<li><span style=white-space:pre-wrap>'17     70    68     88      0'</span></li>\n",
       "\t<li><span style=white-space:pre-wrap>'18     76    79     78      0      0'</span></li>\n",
       "\t<li><span style=white-space:pre-wrap>'19     81    82     75      0            1       2    3        4      5      6       7       8       9    10 11 12    13 14    15 16    17 18   19 20 21 22 23 24 25 26 27 28 29 30'</span></li>\n",
       "\t<li><span style=white-space:pre-wrap>'20     69    79    106      0   Fuente: Registro Demográfico - División de Calidad y Estadísticas Vitales         2015      2016     2017     2018'</span></li>\n",
       "\t<li><span style=white-space:pre-wrap>'21     70    67    124      0'</span></li>\n",
       "\t<li><span style=white-space:pre-wrap>'22     68    97    110      0'</span></li>\n",
       "\t<li><span style=white-space:pre-wrap>'23     70    71    109      0'</span></li>\n",
       "\t<li><span style=white-space:pre-wrap>'24     78    79    122      0'</span></li>\n",
       "\t<li><span style=white-space:pre-wrap>'25     60    75    137      0'</span></li>\n",
       "\t<li><span style=white-space:pre-wrap>'26     76    82    132      0'</span></li>\n",
       "\t<li><span style=white-space:pre-wrap>'27     78    82    122      0'</span></li>\n",
       "\t<li><span style=white-space:pre-wrap>'28     84    81    112      0'</span></li>\n",
       "\t<li><span style=white-space:pre-wrap>'29     83    70    131      0'</span></li>\n",
       "\t<li><span style=white-space:pre-wrap>'30     73    91    132      0'</span></li>\n",
       "</ol>\n"
      ],
      "text/latex": [
       "\\begin{enumerate*}\n",
       "\\item '1     75    75     94      0'\n",
       "\\item '2     77    67     69      0                                                                      Defunciones Ocurridas en Septiembre por Día y Año'\n",
       "\\item '3     67    78     80      0'\n",
       "\\item '140'\n",
       "\\item '4     71    99     84      0'\n",
       "\\item '5     62    89     74      0'\n",
       "\\item '120'\n",
       "\\item '6     77    74     83      0'\n",
       "\\item '7     85    67     87      0'\n",
       "\\item '8     84    77     94      0   100'\n",
       "\\item '9     79    90     72      0'\n",
       "\\item '10     66    73     98      0    80'\n",
       "\\item '11     92    78     92      0'\n",
       "\\item '12     79    66     80      0    60'\n",
       "\\item '13     81    88    100      0'\n",
       "\\item '14     70    81     79      0    40'\n",
       "\\item '15     87    91     84      0'\n",
       "\\item '16     70    71     80      0    20'\n",
       "\\item '17     70    68     88      0'\n",
       "\\item '18     76    79     78      0      0'\n",
       "\\item '19     81    82     75      0            1       2    3        4      5      6       7       8       9    10 11 12    13 14    15 16    17 18   19 20 21 22 23 24 25 26 27 28 29 30'\n",
       "\\item '20     69    79    106      0   Fuente: Registro Demográfico - División de Calidad y Estadísticas Vitales         2015      2016     2017     2018'\n",
       "\\item '21     70    67    124      0'\n",
       "\\item '22     68    97    110      0'\n",
       "\\item '23     70    71    109      0'\n",
       "\\item '24     78    79    122      0'\n",
       "\\item '25     60    75    137      0'\n",
       "\\item '26     76    82    132      0'\n",
       "\\item '27     78    82    122      0'\n",
       "\\item '28     84    81    112      0'\n",
       "\\item '29     83    70    131      0'\n",
       "\\item '30     73    91    132      0'\n",
       "\\end{enumerate*}\n"
      ],
      "text/markdown": [
       "1. <span style=white-space:pre-wrap>'1     75    75     94      0'</span>\n",
       "2. <span style=white-space:pre-wrap>'2     77    67     69      0                                                                      Defunciones Ocurridas en Septiembre por Día y Año'</span>\n",
       "3. <span style=white-space:pre-wrap>'3     67    78     80      0'</span>\n",
       "4. '140'\n",
       "5. <span style=white-space:pre-wrap>'4     71    99     84      0'</span>\n",
       "6. <span style=white-space:pre-wrap>'5     62    89     74      0'</span>\n",
       "7. '120'\n",
       "8. <span style=white-space:pre-wrap>'6     77    74     83      0'</span>\n",
       "9. <span style=white-space:pre-wrap>'7     85    67     87      0'</span>\n",
       "10. <span style=white-space:pre-wrap>'8     84    77     94      0   100'</span>\n",
       "11. <span style=white-space:pre-wrap>'9     79    90     72      0'</span>\n",
       "12. <span style=white-space:pre-wrap>'10     66    73     98      0    80'</span>\n",
       "13. <span style=white-space:pre-wrap>'11     92    78     92      0'</span>\n",
       "14. <span style=white-space:pre-wrap>'12     79    66     80      0    60'</span>\n",
       "15. <span style=white-space:pre-wrap>'13     81    88    100      0'</span>\n",
       "16. <span style=white-space:pre-wrap>'14     70    81     79      0    40'</span>\n",
       "17. <span style=white-space:pre-wrap>'15     87    91     84      0'</span>\n",
       "18. <span style=white-space:pre-wrap>'16     70    71     80      0    20'</span>\n",
       "19. <span style=white-space:pre-wrap>'17     70    68     88      0'</span>\n",
       "20. <span style=white-space:pre-wrap>'18     76    79     78      0      0'</span>\n",
       "21. <span style=white-space:pre-wrap>'19     81    82     75      0            1       2    3        4      5      6       7       8       9    10 11 12    13 14    15 16    17 18   19 20 21 22 23 24 25 26 27 28 29 30'</span>\n",
       "22. <span style=white-space:pre-wrap>'20     69    79    106      0   Fuente: Registro Demográfico - División de Calidad y Estadísticas Vitales         2015      2016     2017     2018'</span>\n",
       "23. <span style=white-space:pre-wrap>'21     70    67    124      0'</span>\n",
       "24. <span style=white-space:pre-wrap>'22     68    97    110      0'</span>\n",
       "25. <span style=white-space:pre-wrap>'23     70    71    109      0'</span>\n",
       "26. <span style=white-space:pre-wrap>'24     78    79    122      0'</span>\n",
       "27. <span style=white-space:pre-wrap>'25     60    75    137      0'</span>\n",
       "28. <span style=white-space:pre-wrap>'26     76    82    132      0'</span>\n",
       "29. <span style=white-space:pre-wrap>'27     78    82    122      0'</span>\n",
       "30. <span style=white-space:pre-wrap>'28     84    81    112      0'</span>\n",
       "31. <span style=white-space:pre-wrap>'29     83    70    131      0'</span>\n",
       "32. <span style=white-space:pre-wrap>'30     73    91    132      0'</span>\n",
       "\n",
       "\n"
      ],
      "text/plain": [
       " [1] \"1     75    75     94      0\"                                                                                                                                                       \n",
       " [2] \"2     77    67     69      0                                                                      Defunciones Ocurridas en Septiembre por Día y Año\"                                \n",
       " [3] \"3     67    78     80      0\"                                                                                                                                                       \n",
       " [4] \"140\"                                                                                                                                                                                \n",
       " [5] \"4     71    99     84      0\"                                                                                                                                                       \n",
       " [6] \"5     62    89     74      0\"                                                                                                                                                       \n",
       " [7] \"120\"                                                                                                                                                                                \n",
       " [8] \"6     77    74     83      0\"                                                                                                                                                       \n",
       " [9] \"7     85    67     87      0\"                                                                                                                                                       \n",
       "[10] \"8     84    77     94      0   100\"                                                                                                                                                 \n",
       "[11] \"9     79    90     72      0\"                                                                                                                                                       \n",
       "[12] \"10     66    73     98      0    80\"                                                                                                                                                \n",
       "[13] \"11     92    78     92      0\"                                                                                                                                                      \n",
       "[14] \"12     79    66     80      0    60\"                                                                                                                                                \n",
       "[15] \"13     81    88    100      0\"                                                                                                                                                      \n",
       "[16] \"14     70    81     79      0    40\"                                                                                                                                                \n",
       "[17] \"15     87    91     84      0\"                                                                                                                                                      \n",
       "[18] \"16     70    71     80      0    20\"                                                                                                                                                \n",
       "[19] \"17     70    68     88      0\"                                                                                                                                                      \n",
       "[20] \"18     76    79     78      0      0\"                                                                                                                                               \n",
       "[21] \"19     81    82     75      0            1       2    3        4      5      6       7       8       9    10 11 12    13 14    15 16    17 18   19 20 21 22 23 24 25 26 27 28 29 30\"\n",
       "[22] \"20     69    79    106      0   Fuente: Registro Demográfico - División de Calidad y Estadísticas Vitales         2015      2016     2017     2018\"                                 \n",
       "[23] \"21     70    67    124      0\"                                                                                                                                                      \n",
       "[24] \"22     68    97    110      0\"                                                                                                                                                      \n",
       "[25] \"23     70    71    109      0\"                                                                                                                                                      \n",
       "[26] \"24     78    79    122      0\"                                                                                                                                                      \n",
       "[27] \"25     60    75    137      0\"                                                                                                                                                      \n",
       "[28] \"26     76    82    132      0\"                                                                                                                                                      \n",
       "[29] \"27     78    82    122      0\"                                                                                                                                                      \n",
       "[30] \"28     84    81    112      0\"                                                                                                                                                      \n",
       "[31] \"29     83    70    131      0\"                                                                                                                                                      \n",
       "[32] \"30     73    91    132      0\"                                                                                                                                                      "
      ]
     },
     "metadata": {},
     "output_type": "display_data"
    }
   ],
   "source": [
    "s <- s[(header_index+1):(tail_index-1)]\n",
    "s"
   ]
  },
  {
   "cell_type": "code",
   "execution_count": 153,
   "metadata": {},
   "outputs": [
    {
     "data": {
      "text/html": [
       "<ol class=list-inline>\n",
       "\t<li>5</li>\n",
       "\t<li>5</li>\n",
       "\t<li>5</li>\n",
       "\t<li>1</li>\n",
       "\t<li>5</li>\n",
       "\t<li>5</li>\n",
       "\t<li>1</li>\n",
       "\t<li>5</li>\n",
       "\t<li>5</li>\n",
       "\t<li>6</li>\n",
       "\t<li>5</li>\n",
       "\t<li>6</li>\n",
       "\t<li>5</li>\n",
       "\t<li>6</li>\n",
       "\t<li>5</li>\n",
       "\t<li>6</li>\n",
       "\t<li>5</li>\n",
       "\t<li>6</li>\n",
       "\t<li>5</li>\n",
       "\t<li>6</li>\n",
       "\t<li>35</li>\n",
       "\t<li>9</li>\n",
       "\t<li>5</li>\n",
       "\t<li>5</li>\n",
       "\t<li>5</li>\n",
       "\t<li>5</li>\n",
       "\t<li>5</li>\n",
       "\t<li>5</li>\n",
       "\t<li>5</li>\n",
       "\t<li>5</li>\n",
       "\t<li>5</li>\n",
       "\t<li>5</li>\n",
       "</ol>\n"
      ],
      "text/latex": [
       "\\begin{enumerate*}\n",
       "\\item 5\n",
       "\\item 5\n",
       "\\item 5\n",
       "\\item 1\n",
       "\\item 5\n",
       "\\item 5\n",
       "\\item 1\n",
       "\\item 5\n",
       "\\item 5\n",
       "\\item 6\n",
       "\\item 5\n",
       "\\item 6\n",
       "\\item 5\n",
       "\\item 6\n",
       "\\item 5\n",
       "\\item 6\n",
       "\\item 5\n",
       "\\item 6\n",
       "\\item 5\n",
       "\\item 6\n",
       "\\item 35\n",
       "\\item 9\n",
       "\\item 5\n",
       "\\item 5\n",
       "\\item 5\n",
       "\\item 5\n",
       "\\item 5\n",
       "\\item 5\n",
       "\\item 5\n",
       "\\item 5\n",
       "\\item 5\n",
       "\\item 5\n",
       "\\end{enumerate*}\n"
      ],
      "text/markdown": [
       "1. 5\n",
       "2. 5\n",
       "3. 5\n",
       "4. 1\n",
       "5. 5\n",
       "6. 5\n",
       "7. 1\n",
       "8. 5\n",
       "9. 5\n",
       "10. 6\n",
       "11. 5\n",
       "12. 6\n",
       "13. 5\n",
       "14. 6\n",
       "15. 5\n",
       "16. 6\n",
       "17. 5\n",
       "18. 6\n",
       "19. 5\n",
       "20. 6\n",
       "21. 35\n",
       "22. 9\n",
       "23. 5\n",
       "24. 5\n",
       "25. 5\n",
       "26. 5\n",
       "27. 5\n",
       "28. 5\n",
       "29. 5\n",
       "30. 5\n",
       "31. 5\n",
       "32. 5\n",
       "\n",
       "\n"
      ],
      "text/plain": [
       " [1]  5  5  5  1  5  5  1  5  5  6  5  6  5  6  5  6  5  6  5  6 35  9  5  5  5\n",
       "[26]  5  5  5  5  5  5  5"
      ]
     },
     "metadata": {},
     "output_type": "display_data"
    }
   ],
   "source": [
    "n <- s %>% str_count(\"\\\\d+\")\n",
    "n"
   ]
  },
  {
   "cell_type": "code",
   "execution_count": 154,
   "metadata": {},
   "outputs": [
    {
     "data": {
      "text/html": [
       "<ol class=list-inline>\n",
       "\t<li><span style=white-space:pre-wrap>'1     75    75     94      0'</span></li>\n",
       "\t<li><span style=white-space:pre-wrap>'2     77    67     69      0                                                                      Defunciones Ocurridas en Septiembre por Día y Año'</span></li>\n",
       "\t<li><span style=white-space:pre-wrap>'3     67    78     80      0'</span></li>\n",
       "\t<li><span style=white-space:pre-wrap>'4     71    99     84      0'</span></li>\n",
       "\t<li><span style=white-space:pre-wrap>'5     62    89     74      0'</span></li>\n",
       "\t<li><span style=white-space:pre-wrap>'6     77    74     83      0'</span></li>\n",
       "\t<li><span style=white-space:pre-wrap>'7     85    67     87      0'</span></li>\n",
       "\t<li><span style=white-space:pre-wrap>'8     84    77     94      0   100'</span></li>\n",
       "\t<li><span style=white-space:pre-wrap>'9     79    90     72      0'</span></li>\n",
       "\t<li><span style=white-space:pre-wrap>'10     66    73     98      0    80'</span></li>\n",
       "\t<li><span style=white-space:pre-wrap>'11     92    78     92      0'</span></li>\n",
       "\t<li><span style=white-space:pre-wrap>'12     79    66     80      0    60'</span></li>\n",
       "\t<li><span style=white-space:pre-wrap>'13     81    88    100      0'</span></li>\n",
       "\t<li><span style=white-space:pre-wrap>'14     70    81     79      0    40'</span></li>\n",
       "\t<li><span style=white-space:pre-wrap>'15     87    91     84      0'</span></li>\n",
       "\t<li><span style=white-space:pre-wrap>'16     70    71     80      0    20'</span></li>\n",
       "\t<li><span style=white-space:pre-wrap>'17     70    68     88      0'</span></li>\n",
       "\t<li><span style=white-space:pre-wrap>'18     76    79     78      0      0'</span></li>\n",
       "\t<li><span style=white-space:pre-wrap>'19     81    82     75      0            1       2    3        4      5      6       7       8       9    10 11 12    13 14    15 16    17 18   19 20 21 22 23 24 25 26 27 28 29 30'</span></li>\n",
       "\t<li><span style=white-space:pre-wrap>'20     69    79    106      0   Fuente: Registro Demográfico - División de Calidad y Estadísticas Vitales         2015      2016     2017     2018'</span></li>\n",
       "\t<li><span style=white-space:pre-wrap>'21     70    67    124      0'</span></li>\n",
       "\t<li><span style=white-space:pre-wrap>'22     68    97    110      0'</span></li>\n",
       "\t<li><span style=white-space:pre-wrap>'23     70    71    109      0'</span></li>\n",
       "\t<li><span style=white-space:pre-wrap>'24     78    79    122      0'</span></li>\n",
       "\t<li><span style=white-space:pre-wrap>'25     60    75    137      0'</span></li>\n",
       "\t<li><span style=white-space:pre-wrap>'26     76    82    132      0'</span></li>\n",
       "\t<li><span style=white-space:pre-wrap>'27     78    82    122      0'</span></li>\n",
       "\t<li><span style=white-space:pre-wrap>'28     84    81    112      0'</span></li>\n",
       "\t<li><span style=white-space:pre-wrap>'29     83    70    131      0'</span></li>\n",
       "\t<li><span style=white-space:pre-wrap>'30     73    91    132      0'</span></li>\n",
       "</ol>\n"
      ],
      "text/latex": [
       "\\begin{enumerate*}\n",
       "\\item '1     75    75     94      0'\n",
       "\\item '2     77    67     69      0                                                                      Defunciones Ocurridas en Septiembre por Día y Año'\n",
       "\\item '3     67    78     80      0'\n",
       "\\item '4     71    99     84      0'\n",
       "\\item '5     62    89     74      0'\n",
       "\\item '6     77    74     83      0'\n",
       "\\item '7     85    67     87      0'\n",
       "\\item '8     84    77     94      0   100'\n",
       "\\item '9     79    90     72      0'\n",
       "\\item '10     66    73     98      0    80'\n",
       "\\item '11     92    78     92      0'\n",
       "\\item '12     79    66     80      0    60'\n",
       "\\item '13     81    88    100      0'\n",
       "\\item '14     70    81     79      0    40'\n",
       "\\item '15     87    91     84      0'\n",
       "\\item '16     70    71     80      0    20'\n",
       "\\item '17     70    68     88      0'\n",
       "\\item '18     76    79     78      0      0'\n",
       "\\item '19     81    82     75      0            1       2    3        4      5      6       7       8       9    10 11 12    13 14    15 16    17 18   19 20 21 22 23 24 25 26 27 28 29 30'\n",
       "\\item '20     69    79    106      0   Fuente: Registro Demográfico - División de Calidad y Estadísticas Vitales         2015      2016     2017     2018'\n",
       "\\item '21     70    67    124      0'\n",
       "\\item '22     68    97    110      0'\n",
       "\\item '23     70    71    109      0'\n",
       "\\item '24     78    79    122      0'\n",
       "\\item '25     60    75    137      0'\n",
       "\\item '26     76    82    132      0'\n",
       "\\item '27     78    82    122      0'\n",
       "\\item '28     84    81    112      0'\n",
       "\\item '29     83    70    131      0'\n",
       "\\item '30     73    91    132      0'\n",
       "\\end{enumerate*}\n"
      ],
      "text/markdown": [
       "1. <span style=white-space:pre-wrap>'1     75    75     94      0'</span>\n",
       "2. <span style=white-space:pre-wrap>'2     77    67     69      0                                                                      Defunciones Ocurridas en Septiembre por Día y Año'</span>\n",
       "3. <span style=white-space:pre-wrap>'3     67    78     80      0'</span>\n",
       "4. <span style=white-space:pre-wrap>'4     71    99     84      0'</span>\n",
       "5. <span style=white-space:pre-wrap>'5     62    89     74      0'</span>\n",
       "6. <span style=white-space:pre-wrap>'6     77    74     83      0'</span>\n",
       "7. <span style=white-space:pre-wrap>'7     85    67     87      0'</span>\n",
       "8. <span style=white-space:pre-wrap>'8     84    77     94      0   100'</span>\n",
       "9. <span style=white-space:pre-wrap>'9     79    90     72      0'</span>\n",
       "10. <span style=white-space:pre-wrap>'10     66    73     98      0    80'</span>\n",
       "11. <span style=white-space:pre-wrap>'11     92    78     92      0'</span>\n",
       "12. <span style=white-space:pre-wrap>'12     79    66     80      0    60'</span>\n",
       "13. <span style=white-space:pre-wrap>'13     81    88    100      0'</span>\n",
       "14. <span style=white-space:pre-wrap>'14     70    81     79      0    40'</span>\n",
       "15. <span style=white-space:pre-wrap>'15     87    91     84      0'</span>\n",
       "16. <span style=white-space:pre-wrap>'16     70    71     80      0    20'</span>\n",
       "17. <span style=white-space:pre-wrap>'17     70    68     88      0'</span>\n",
       "18. <span style=white-space:pre-wrap>'18     76    79     78      0      0'</span>\n",
       "19. <span style=white-space:pre-wrap>'19     81    82     75      0            1       2    3        4      5      6       7       8       9    10 11 12    13 14    15 16    17 18   19 20 21 22 23 24 25 26 27 28 29 30'</span>\n",
       "20. <span style=white-space:pre-wrap>'20     69    79    106      0   Fuente: Registro Demográfico - División de Calidad y Estadísticas Vitales         2015      2016     2017     2018'</span>\n",
       "21. <span style=white-space:pre-wrap>'21     70    67    124      0'</span>\n",
       "22. <span style=white-space:pre-wrap>'22     68    97    110      0'</span>\n",
       "23. <span style=white-space:pre-wrap>'23     70    71    109      0'</span>\n",
       "24. <span style=white-space:pre-wrap>'24     78    79    122      0'</span>\n",
       "25. <span style=white-space:pre-wrap>'25     60    75    137      0'</span>\n",
       "26. <span style=white-space:pre-wrap>'26     76    82    132      0'</span>\n",
       "27. <span style=white-space:pre-wrap>'27     78    82    122      0'</span>\n",
       "28. <span style=white-space:pre-wrap>'28     84    81    112      0'</span>\n",
       "29. <span style=white-space:pre-wrap>'29     83    70    131      0'</span>\n",
       "30. <span style=white-space:pre-wrap>'30     73    91    132      0'</span>\n",
       "\n",
       "\n"
      ],
      "text/plain": [
       " [1] \"1     75    75     94      0\"                                                                                                                                                       \n",
       " [2] \"2     77    67     69      0                                                                      Defunciones Ocurridas en Septiembre por Día y Año\"                                \n",
       " [3] \"3     67    78     80      0\"                                                                                                                                                       \n",
       " [4] \"4     71    99     84      0\"                                                                                                                                                       \n",
       " [5] \"5     62    89     74      0\"                                                                                                                                                       \n",
       " [6] \"6     77    74     83      0\"                                                                                                                                                       \n",
       " [7] \"7     85    67     87      0\"                                                                                                                                                       \n",
       " [8] \"8     84    77     94      0   100\"                                                                                                                                                 \n",
       " [9] \"9     79    90     72      0\"                                                                                                                                                       \n",
       "[10] \"10     66    73     98      0    80\"                                                                                                                                                \n",
       "[11] \"11     92    78     92      0\"                                                                                                                                                      \n",
       "[12] \"12     79    66     80      0    60\"                                                                                                                                                \n",
       "[13] \"13     81    88    100      0\"                                                                                                                                                      \n",
       "[14] \"14     70    81     79      0    40\"                                                                                                                                                \n",
       "[15] \"15     87    91     84      0\"                                                                                                                                                      \n",
       "[16] \"16     70    71     80      0    20\"                                                                                                                                                \n",
       "[17] \"17     70    68     88      0\"                                                                                                                                                      \n",
       "[18] \"18     76    79     78      0      0\"                                                                                                                                               \n",
       "[19] \"19     81    82     75      0            1       2    3        4      5      6       7       8       9    10 11 12    13 14    15 16    17 18   19 20 21 22 23 24 25 26 27 28 29 30\"\n",
       "[20] \"20     69    79    106      0   Fuente: Registro Demográfico - División de Calidad y Estadísticas Vitales         2015      2016     2017     2018\"                                 \n",
       "[21] \"21     70    67    124      0\"                                                                                                                                                      \n",
       "[22] \"22     68    97    110      0\"                                                                                                                                                      \n",
       "[23] \"23     70    71    109      0\"                                                                                                                                                      \n",
       "[24] \"24     78    79    122      0\"                                                                                                                                                      \n",
       "[25] \"25     60    75    137      0\"                                                                                                                                                      \n",
       "[26] \"26     76    82    132      0\"                                                                                                                                                      \n",
       "[27] \"27     78    82    122      0\"                                                                                                                                                      \n",
       "[28] \"28     84    81    112      0\"                                                                                                                                                      \n",
       "[29] \"29     83    70    131      0\"                                                                                                                                                      \n",
       "[30] \"30     73    91    132      0\"                                                                                                                                                      "
      ]
     },
     "metadata": {},
     "output_type": "display_data"
    }
   ],
   "source": [
    "s <- s[-which(n==1)]\n",
    "s"
   ]
  },
  {
   "cell_type": "markdown",
   "metadata": {},
   "source": [
    ">13. Now we are ready to remove all the non-numeric entries. Do this using regex and the `str_remove_all` function. Hint: in regex, using the `^` inside the `[]` means _not_, like the `!` means not in `!=`. To define the regex pattern to catch all non-numbers, you can type `[^\\\\d]`. But remember you also want to keep spaces."
   ]
  },
  {
   "cell_type": "code",
   "execution_count": 156,
   "metadata": {},
   "outputs": [
    {
     "data": {
      "text/html": [
       "<ol class=list-inline>\n",
       "\t<li><span style=white-space:pre-wrap>'1     75    75     94      0'</span></li>\n",
       "\t<li><span style=white-space:pre-wrap>'2     77    67     69      0                                                                             '</span></li>\n",
       "\t<li><span style=white-space:pre-wrap>'3     67    78     80      0'</span></li>\n",
       "\t<li><span style=white-space:pre-wrap>'4     71    99     84      0'</span></li>\n",
       "\t<li><span style=white-space:pre-wrap>'5     62    89     74      0'</span></li>\n",
       "\t<li><span style=white-space:pre-wrap>'6     77    74     83      0'</span></li>\n",
       "\t<li><span style=white-space:pre-wrap>'7     85    67     87      0'</span></li>\n",
       "\t<li><span style=white-space:pre-wrap>'8     84    77     94      0   100'</span></li>\n",
       "\t<li><span style=white-space:pre-wrap>'9     79    90     72      0'</span></li>\n",
       "\t<li><span style=white-space:pre-wrap>'10     66    73     98      0    80'</span></li>\n",
       "\t<li><span style=white-space:pre-wrap>'11     92    78     92      0'</span></li>\n",
       "\t<li><span style=white-space:pre-wrap>'12     79    66     80      0    60'</span></li>\n",
       "\t<li><span style=white-space:pre-wrap>'13     81    88    100      0'</span></li>\n",
       "\t<li><span style=white-space:pre-wrap>'14     70    81     79      0    40'</span></li>\n",
       "\t<li><span style=white-space:pre-wrap>'15     87    91     84      0'</span></li>\n",
       "\t<li><span style=white-space:pre-wrap>'16     70    71     80      0    20'</span></li>\n",
       "\t<li><span style=white-space:pre-wrap>'17     70    68     88      0'</span></li>\n",
       "\t<li><span style=white-space:pre-wrap>'18     76    79     78      0      0'</span></li>\n",
       "\t<li><span style=white-space:pre-wrap>'19     81    82     75      0            1       2    3        4      5      6       7       8       9    10 11 12    13 14    15 16    17 18   19 20 21 22 23 24 25 26 27 28 29 30'</span></li>\n",
       "\t<li><span style=white-space:pre-wrap>'20     69    79    106      0                     2015      2016     2017     2018'</span></li>\n",
       "\t<li><span style=white-space:pre-wrap>'21     70    67    124      0'</span></li>\n",
       "\t<li><span style=white-space:pre-wrap>'22     68    97    110      0'</span></li>\n",
       "\t<li><span style=white-space:pre-wrap>'23     70    71    109      0'</span></li>\n",
       "\t<li><span style=white-space:pre-wrap>'24     78    79    122      0'</span></li>\n",
       "\t<li><span style=white-space:pre-wrap>'25     60    75    137      0'</span></li>\n",
       "\t<li><span style=white-space:pre-wrap>'26     76    82    132      0'</span></li>\n",
       "\t<li><span style=white-space:pre-wrap>'27     78    82    122      0'</span></li>\n",
       "\t<li><span style=white-space:pre-wrap>'28     84    81    112      0'</span></li>\n",
       "\t<li><span style=white-space:pre-wrap>'29     83    70    131      0'</span></li>\n",
       "\t<li><span style=white-space:pre-wrap>'30     73    91    132      0'</span></li>\n",
       "</ol>\n"
      ],
      "text/latex": [
       "\\begin{enumerate*}\n",
       "\\item '1     75    75     94      0'\n",
       "\\item '2     77    67     69      0                                                                             '\n",
       "\\item '3     67    78     80      0'\n",
       "\\item '4     71    99     84      0'\n",
       "\\item '5     62    89     74      0'\n",
       "\\item '6     77    74     83      0'\n",
       "\\item '7     85    67     87      0'\n",
       "\\item '8     84    77     94      0   100'\n",
       "\\item '9     79    90     72      0'\n",
       "\\item '10     66    73     98      0    80'\n",
       "\\item '11     92    78     92      0'\n",
       "\\item '12     79    66     80      0    60'\n",
       "\\item '13     81    88    100      0'\n",
       "\\item '14     70    81     79      0    40'\n",
       "\\item '15     87    91     84      0'\n",
       "\\item '16     70    71     80      0    20'\n",
       "\\item '17     70    68     88      0'\n",
       "\\item '18     76    79     78      0      0'\n",
       "\\item '19     81    82     75      0            1       2    3        4      5      6       7       8       9    10 11 12    13 14    15 16    17 18   19 20 21 22 23 24 25 26 27 28 29 30'\n",
       "\\item '20     69    79    106      0                     2015      2016     2017     2018'\n",
       "\\item '21     70    67    124      0'\n",
       "\\item '22     68    97    110      0'\n",
       "\\item '23     70    71    109      0'\n",
       "\\item '24     78    79    122      0'\n",
       "\\item '25     60    75    137      0'\n",
       "\\item '26     76    82    132      0'\n",
       "\\item '27     78    82    122      0'\n",
       "\\item '28     84    81    112      0'\n",
       "\\item '29     83    70    131      0'\n",
       "\\item '30     73    91    132      0'\n",
       "\\end{enumerate*}\n"
      ],
      "text/markdown": [
       "1. <span style=white-space:pre-wrap>'1     75    75     94      0'</span>\n",
       "2. <span style=white-space:pre-wrap>'2     77    67     69      0                                                                             '</span>\n",
       "3. <span style=white-space:pre-wrap>'3     67    78     80      0'</span>\n",
       "4. <span style=white-space:pre-wrap>'4     71    99     84      0'</span>\n",
       "5. <span style=white-space:pre-wrap>'5     62    89     74      0'</span>\n",
       "6. <span style=white-space:pre-wrap>'6     77    74     83      0'</span>\n",
       "7. <span style=white-space:pre-wrap>'7     85    67     87      0'</span>\n",
       "8. <span style=white-space:pre-wrap>'8     84    77     94      0   100'</span>\n",
       "9. <span style=white-space:pre-wrap>'9     79    90     72      0'</span>\n",
       "10. <span style=white-space:pre-wrap>'10     66    73     98      0    80'</span>\n",
       "11. <span style=white-space:pre-wrap>'11     92    78     92      0'</span>\n",
       "12. <span style=white-space:pre-wrap>'12     79    66     80      0    60'</span>\n",
       "13. <span style=white-space:pre-wrap>'13     81    88    100      0'</span>\n",
       "14. <span style=white-space:pre-wrap>'14     70    81     79      0    40'</span>\n",
       "15. <span style=white-space:pre-wrap>'15     87    91     84      0'</span>\n",
       "16. <span style=white-space:pre-wrap>'16     70    71     80      0    20'</span>\n",
       "17. <span style=white-space:pre-wrap>'17     70    68     88      0'</span>\n",
       "18. <span style=white-space:pre-wrap>'18     76    79     78      0      0'</span>\n",
       "19. <span style=white-space:pre-wrap>'19     81    82     75      0            1       2    3        4      5      6       7       8       9    10 11 12    13 14    15 16    17 18   19 20 21 22 23 24 25 26 27 28 29 30'</span>\n",
       "20. <span style=white-space:pre-wrap>'20     69    79    106      0                     2015      2016     2017     2018'</span>\n",
       "21. <span style=white-space:pre-wrap>'21     70    67    124      0'</span>\n",
       "22. <span style=white-space:pre-wrap>'22     68    97    110      0'</span>\n",
       "23. <span style=white-space:pre-wrap>'23     70    71    109      0'</span>\n",
       "24. <span style=white-space:pre-wrap>'24     78    79    122      0'</span>\n",
       "25. <span style=white-space:pre-wrap>'25     60    75    137      0'</span>\n",
       "26. <span style=white-space:pre-wrap>'26     76    82    132      0'</span>\n",
       "27. <span style=white-space:pre-wrap>'27     78    82    122      0'</span>\n",
       "28. <span style=white-space:pre-wrap>'28     84    81    112      0'</span>\n",
       "29. <span style=white-space:pre-wrap>'29     83    70    131      0'</span>\n",
       "30. <span style=white-space:pre-wrap>'30     73    91    132      0'</span>\n",
       "\n",
       "\n"
      ],
      "text/plain": [
       " [1] \"1     75    75     94      0\"                                                                                                                                                       \n",
       " [2] \"2     77    67     69      0                                                                             \"                                                                          \n",
       " [3] \"3     67    78     80      0\"                                                                                                                                                       \n",
       " [4] \"4     71    99     84      0\"                                                                                                                                                       \n",
       " [5] \"5     62    89     74      0\"                                                                                                                                                       \n",
       " [6] \"6     77    74     83      0\"                                                                                                                                                       \n",
       " [7] \"7     85    67     87      0\"                                                                                                                                                       \n",
       " [8] \"8     84    77     94      0   100\"                                                                                                                                                 \n",
       " [9] \"9     79    90     72      0\"                                                                                                                                                       \n",
       "[10] \"10     66    73     98      0    80\"                                                                                                                                                \n",
       "[11] \"11     92    78     92      0\"                                                                                                                                                      \n",
       "[12] \"12     79    66     80      0    60\"                                                                                                                                                \n",
       "[13] \"13     81    88    100      0\"                                                                                                                                                      \n",
       "[14] \"14     70    81     79      0    40\"                                                                                                                                                \n",
       "[15] \"15     87    91     84      0\"                                                                                                                                                      \n",
       "[16] \"16     70    71     80      0    20\"                                                                                                                                                \n",
       "[17] \"17     70    68     88      0\"                                                                                                                                                      \n",
       "[18] \"18     76    79     78      0      0\"                                                                                                                                               \n",
       "[19] \"19     81    82     75      0            1       2    3        4      5      6       7       8       9    10 11 12    13 14    15 16    17 18   19 20 21 22 23 24 25 26 27 28 29 30\"\n",
       "[20] \"20     69    79    106      0                     2015      2016     2017     2018\"                                                                                                 \n",
       "[21] \"21     70    67    124      0\"                                                                                                                                                      \n",
       "[22] \"22     68    97    110      0\"                                                                                                                                                      \n",
       "[23] \"23     70    71    109      0\"                                                                                                                                                      \n",
       "[24] \"24     78    79    122      0\"                                                                                                                                                      \n",
       "[25] \"25     60    75    137      0\"                                                                                                                                                      \n",
       "[26] \"26     76    82    132      0\"                                                                                                                                                      \n",
       "[27] \"27     78    82    122      0\"                                                                                                                                                      \n",
       "[28] \"28     84    81    112      0\"                                                                                                                                                      \n",
       "[29] \"29     83    70    131      0\"                                                                                                                                                      \n",
       "[30] \"30     73    91    132      0\"                                                                                                                                                      "
      ]
     },
     "metadata": {},
     "output_type": "display_data"
    }
   ],
   "source": [
    "s <-s %>% str_remove_all(\"[^\\\\d\\\\s]\")\n",
    "s"
   ]
  },
  {
   "cell_type": "markdown",
   "metadata": {},
   "source": [
    ">14. To convert the strings into a table, use the `str_split_fixed` function. Convert `s` into a data matrix with just the day and death count data. Hints: note that the separator is one or more spaces. Make the argument `n` a value that limits the number of columns to the values in the 4 columns and the last column captures all the extra stuff. Then keep only the first four columns."
   ]
  },
  {
   "cell_type": "code",
   "execution_count": 157,
   "metadata": {},
   "outputs": [],
   "source": [
    "st <- s %>% str_split_fixed(\"\\\\s+\",6) %>% .[,1:4] %>% as_tibble"
   ]
  },
  {
   "cell_type": "code",
   "execution_count": 158,
   "metadata": {},
   "outputs": [
    {
     "data": {
      "text/html": [
       "<table>\n",
       "<thead><tr><th scope=col>V1</th><th scope=col>V2</th><th scope=col>V3</th><th scope=col>V4</th></tr></thead>\n",
       "<tbody>\n",
       "\t<tr><td>1  </td><td>75 </td><td>75 </td><td>94 </td></tr>\n",
       "\t<tr><td>2  </td><td>77 </td><td>67 </td><td>69 </td></tr>\n",
       "\t<tr><td>3  </td><td>67 </td><td>78 </td><td>80 </td></tr>\n",
       "\t<tr><td>4  </td><td>71 </td><td>99 </td><td>84 </td></tr>\n",
       "\t<tr><td>5  </td><td>62 </td><td>89 </td><td>74 </td></tr>\n",
       "\t<tr><td>6  </td><td>77 </td><td>74 </td><td>83 </td></tr>\n",
       "\t<tr><td>7  </td><td>85 </td><td>67 </td><td>87 </td></tr>\n",
       "\t<tr><td>8  </td><td>84 </td><td>77 </td><td>94 </td></tr>\n",
       "\t<tr><td>9  </td><td>79 </td><td>90 </td><td>72 </td></tr>\n",
       "\t<tr><td>10 </td><td>66 </td><td>73 </td><td>98 </td></tr>\n",
       "\t<tr><td>11 </td><td>92 </td><td>78 </td><td>92 </td></tr>\n",
       "\t<tr><td>12 </td><td>79 </td><td>66 </td><td>80 </td></tr>\n",
       "\t<tr><td>13 </td><td>81 </td><td>88 </td><td>100</td></tr>\n",
       "\t<tr><td>14 </td><td>70 </td><td>81 </td><td>79 </td></tr>\n",
       "\t<tr><td>15 </td><td>87 </td><td>91 </td><td>84 </td></tr>\n",
       "\t<tr><td>16 </td><td>70 </td><td>71 </td><td>80 </td></tr>\n",
       "\t<tr><td>17 </td><td>70 </td><td>68 </td><td>88 </td></tr>\n",
       "\t<tr><td>18 </td><td>76 </td><td>79 </td><td>78 </td></tr>\n",
       "\t<tr><td>19 </td><td>81 </td><td>82 </td><td>75 </td></tr>\n",
       "\t<tr><td>20 </td><td>69 </td><td>79 </td><td>106</td></tr>\n",
       "\t<tr><td>21 </td><td>70 </td><td>67 </td><td>124</td></tr>\n",
       "\t<tr><td>22 </td><td>68 </td><td>97 </td><td>110</td></tr>\n",
       "\t<tr><td>23 </td><td>70 </td><td>71 </td><td>109</td></tr>\n",
       "\t<tr><td>24 </td><td>78 </td><td>79 </td><td>122</td></tr>\n",
       "\t<tr><td>25 </td><td>60 </td><td>75 </td><td>137</td></tr>\n",
       "\t<tr><td>26 </td><td>76 </td><td>82 </td><td>132</td></tr>\n",
       "\t<tr><td>27 </td><td>78 </td><td>82 </td><td>122</td></tr>\n",
       "\t<tr><td>28 </td><td>84 </td><td>81 </td><td>112</td></tr>\n",
       "\t<tr><td>29 </td><td>83 </td><td>70 </td><td>131</td></tr>\n",
       "\t<tr><td>30 </td><td>73 </td><td>91 </td><td>132</td></tr>\n",
       "</tbody>\n",
       "</table>\n"
      ],
      "text/latex": [
       "\\begin{tabular}{r|llll}\n",
       " V1 & V2 & V3 & V4\\\\\n",
       "\\hline\n",
       "\t 1   & 75  & 75  & 94 \\\\\n",
       "\t 2   & 77  & 67  & 69 \\\\\n",
       "\t 3   & 67  & 78  & 80 \\\\\n",
       "\t 4   & 71  & 99  & 84 \\\\\n",
       "\t 5   & 62  & 89  & 74 \\\\\n",
       "\t 6   & 77  & 74  & 83 \\\\\n",
       "\t 7   & 85  & 67  & 87 \\\\\n",
       "\t 8   & 84  & 77  & 94 \\\\\n",
       "\t 9   & 79  & 90  & 72 \\\\\n",
       "\t 10  & 66  & 73  & 98 \\\\\n",
       "\t 11  & 92  & 78  & 92 \\\\\n",
       "\t 12  & 79  & 66  & 80 \\\\\n",
       "\t 13  & 81  & 88  & 100\\\\\n",
       "\t 14  & 70  & 81  & 79 \\\\\n",
       "\t 15  & 87  & 91  & 84 \\\\\n",
       "\t 16  & 70  & 71  & 80 \\\\\n",
       "\t 17  & 70  & 68  & 88 \\\\\n",
       "\t 18  & 76  & 79  & 78 \\\\\n",
       "\t 19  & 81  & 82  & 75 \\\\\n",
       "\t 20  & 69  & 79  & 106\\\\\n",
       "\t 21  & 70  & 67  & 124\\\\\n",
       "\t 22  & 68  & 97  & 110\\\\\n",
       "\t 23  & 70  & 71  & 109\\\\\n",
       "\t 24  & 78  & 79  & 122\\\\\n",
       "\t 25  & 60  & 75  & 137\\\\\n",
       "\t 26  & 76  & 82  & 132\\\\\n",
       "\t 27  & 78  & 82  & 122\\\\\n",
       "\t 28  & 84  & 81  & 112\\\\\n",
       "\t 29  & 83  & 70  & 131\\\\\n",
       "\t 30  & 73  & 91  & 132\\\\\n",
       "\\end{tabular}\n"
      ],
      "text/markdown": [
       "\n",
       "| V1 | V2 | V3 | V4 |\n",
       "|---|---|---|---|\n",
       "| 1   | 75  | 75  | 94  |\n",
       "| 2   | 77  | 67  | 69  |\n",
       "| 3   | 67  | 78  | 80  |\n",
       "| 4   | 71  | 99  | 84  |\n",
       "| 5   | 62  | 89  | 74  |\n",
       "| 6   | 77  | 74  | 83  |\n",
       "| 7   | 85  | 67  | 87  |\n",
       "| 8   | 84  | 77  | 94  |\n",
       "| 9   | 79  | 90  | 72  |\n",
       "| 10  | 66  | 73  | 98  |\n",
       "| 11  | 92  | 78  | 92  |\n",
       "| 12  | 79  | 66  | 80  |\n",
       "| 13  | 81  | 88  | 100 |\n",
       "| 14  | 70  | 81  | 79  |\n",
       "| 15  | 87  | 91  | 84  |\n",
       "| 16  | 70  | 71  | 80  |\n",
       "| 17  | 70  | 68  | 88  |\n",
       "| 18  | 76  | 79  | 78  |\n",
       "| 19  | 81  | 82  | 75  |\n",
       "| 20  | 69  | 79  | 106 |\n",
       "| 21  | 70  | 67  | 124 |\n",
       "| 22  | 68  | 97  | 110 |\n",
       "| 23  | 70  | 71  | 109 |\n",
       "| 24  | 78  | 79  | 122 |\n",
       "| 25  | 60  | 75  | 137 |\n",
       "| 26  | 76  | 82  | 132 |\n",
       "| 27  | 78  | 82  | 122 |\n",
       "| 28  | 84  | 81  | 112 |\n",
       "| 29  | 83  | 70  | 131 |\n",
       "| 30  | 73  | 91  | 132 |\n",
       "\n"
      ],
      "text/plain": [
       "   V1 V2 V3 V4 \n",
       "1  1  75 75 94 \n",
       "2  2  77 67 69 \n",
       "3  3  67 78 80 \n",
       "4  4  71 99 84 \n",
       "5  5  62 89 74 \n",
       "6  6  77 74 83 \n",
       "7  7  85 67 87 \n",
       "8  8  84 77 94 \n",
       "9  9  79 90 72 \n",
       "10 10 66 73 98 \n",
       "11 11 92 78 92 \n",
       "12 12 79 66 80 \n",
       "13 13 81 88 100\n",
       "14 14 70 81 79 \n",
       "15 15 87 91 84 \n",
       "16 16 70 71 80 \n",
       "17 17 70 68 88 \n",
       "18 18 76 79 78 \n",
       "19 19 81 82 75 \n",
       "20 20 69 79 106\n",
       "21 21 70 67 124\n",
       "22 22 68 97 110\n",
       "23 23 70 71 109\n",
       "24 24 78 79 122\n",
       "25 25 60 75 137\n",
       "26 26 76 82 132\n",
       "27 27 78 82 122\n",
       "28 28 84 81 112\n",
       "29 29 83 70 131\n",
       "30 30 73 91 132"
      ]
     },
     "metadata": {},
     "output_type": "display_data"
    }
   ],
   "source": [
    "st"
   ]
  },
  {
   "cell_type": "markdown",
   "metadata": {},
   "source": [
    ">15. Now you are almost ready to finish. Add column names to the matrix, including one called `day`. Also, add a column with the month. Call the resulting object `dat`. Finally, make sure the day is an integer not a character. Hint: use only the first five columns."
   ]
  },
  {
   "cell_type": "code",
   "execution_count": 159,
   "metadata": {},
   "outputs": [
    {
     "data": {
      "text/html": [
       "<table>\n",
       "<thead><tr><th scope=col>day</th><th scope=col>2015</th><th scope=col>2016</th><th scope=col>2017</th></tr></thead>\n",
       "<tbody>\n",
       "\t<tr><td> 1 </td><td>75 </td><td>75 </td><td> 94</td></tr>\n",
       "\t<tr><td> 2 </td><td>77 </td><td>67 </td><td> 69</td></tr>\n",
       "\t<tr><td> 3 </td><td>67 </td><td>78 </td><td> 80</td></tr>\n",
       "\t<tr><td> 4 </td><td>71 </td><td>99 </td><td> 84</td></tr>\n",
       "\t<tr><td> 5 </td><td>62 </td><td>89 </td><td> 74</td></tr>\n",
       "\t<tr><td> 6 </td><td>77 </td><td>74 </td><td> 83</td></tr>\n",
       "\t<tr><td> 7 </td><td>85 </td><td>67 </td><td> 87</td></tr>\n",
       "\t<tr><td> 8 </td><td>84 </td><td>77 </td><td> 94</td></tr>\n",
       "\t<tr><td> 9 </td><td>79 </td><td>90 </td><td> 72</td></tr>\n",
       "\t<tr><td>10 </td><td>66 </td><td>73 </td><td> 98</td></tr>\n",
       "\t<tr><td>11 </td><td>92 </td><td>78 </td><td> 92</td></tr>\n",
       "\t<tr><td>12 </td><td>79 </td><td>66 </td><td> 80</td></tr>\n",
       "\t<tr><td>13 </td><td>81 </td><td>88 </td><td>100</td></tr>\n",
       "\t<tr><td>14 </td><td>70 </td><td>81 </td><td> 79</td></tr>\n",
       "\t<tr><td>15 </td><td>87 </td><td>91 </td><td> 84</td></tr>\n",
       "\t<tr><td>16 </td><td>70 </td><td>71 </td><td> 80</td></tr>\n",
       "\t<tr><td>17 </td><td>70 </td><td>68 </td><td> 88</td></tr>\n",
       "\t<tr><td>18 </td><td>76 </td><td>79 </td><td> 78</td></tr>\n",
       "\t<tr><td>19 </td><td>81 </td><td>82 </td><td> 75</td></tr>\n",
       "\t<tr><td>20 </td><td>69 </td><td>79 </td><td>106</td></tr>\n",
       "\t<tr><td>21 </td><td>70 </td><td>67 </td><td>124</td></tr>\n",
       "\t<tr><td>22 </td><td>68 </td><td>97 </td><td>110</td></tr>\n",
       "\t<tr><td>23 </td><td>70 </td><td>71 </td><td>109</td></tr>\n",
       "\t<tr><td>24 </td><td>78 </td><td>79 </td><td>122</td></tr>\n",
       "\t<tr><td>25 </td><td>60 </td><td>75 </td><td>137</td></tr>\n",
       "\t<tr><td>26 </td><td>76 </td><td>82 </td><td>132</td></tr>\n",
       "\t<tr><td>27 </td><td>78 </td><td>82 </td><td>122</td></tr>\n",
       "\t<tr><td>28 </td><td>84 </td><td>81 </td><td>112</td></tr>\n",
       "\t<tr><td>29 </td><td>83 </td><td>70 </td><td>131</td></tr>\n",
       "\t<tr><td>30 </td><td>73 </td><td>91 </td><td>132</td></tr>\n",
       "</tbody>\n",
       "</table>\n"
      ],
      "text/latex": [
       "\\begin{tabular}{r|llll}\n",
       " day & 2015 & 2016 & 2017\\\\\n",
       "\\hline\n",
       "\t  1  & 75  & 75  &  94\\\\\n",
       "\t  2  & 77  & 67  &  69\\\\\n",
       "\t  3  & 67  & 78  &  80\\\\\n",
       "\t  4  & 71  & 99  &  84\\\\\n",
       "\t  5  & 62  & 89  &  74\\\\\n",
       "\t  6  & 77  & 74  &  83\\\\\n",
       "\t  7  & 85  & 67  &  87\\\\\n",
       "\t  8  & 84  & 77  &  94\\\\\n",
       "\t  9  & 79  & 90  &  72\\\\\n",
       "\t 10  & 66  & 73  &  98\\\\\n",
       "\t 11  & 92  & 78  &  92\\\\\n",
       "\t 12  & 79  & 66  &  80\\\\\n",
       "\t 13  & 81  & 88  & 100\\\\\n",
       "\t 14  & 70  & 81  &  79\\\\\n",
       "\t 15  & 87  & 91  &  84\\\\\n",
       "\t 16  & 70  & 71  &  80\\\\\n",
       "\t 17  & 70  & 68  &  88\\\\\n",
       "\t 18  & 76  & 79  &  78\\\\\n",
       "\t 19  & 81  & 82  &  75\\\\\n",
       "\t 20  & 69  & 79  & 106\\\\\n",
       "\t 21  & 70  & 67  & 124\\\\\n",
       "\t 22  & 68  & 97  & 110\\\\\n",
       "\t 23  & 70  & 71  & 109\\\\\n",
       "\t 24  & 78  & 79  & 122\\\\\n",
       "\t 25  & 60  & 75  & 137\\\\\n",
       "\t 26  & 76  & 82  & 132\\\\\n",
       "\t 27  & 78  & 82  & 122\\\\\n",
       "\t 28  & 84  & 81  & 112\\\\\n",
       "\t 29  & 83  & 70  & 131\\\\\n",
       "\t 30  & 73  & 91  & 132\\\\\n",
       "\\end{tabular}\n"
      ],
      "text/markdown": [
       "\n",
       "| day | 2015 | 2016 | 2017 |\n",
       "|---|---|---|---|\n",
       "|  1  | 75  | 75  |  94 |\n",
       "|  2  | 77  | 67  |  69 |\n",
       "|  3  | 67  | 78  |  80 |\n",
       "|  4  | 71  | 99  |  84 |\n",
       "|  5  | 62  | 89  |  74 |\n",
       "|  6  | 77  | 74  |  83 |\n",
       "|  7  | 85  | 67  |  87 |\n",
       "|  8  | 84  | 77  |  94 |\n",
       "|  9  | 79  | 90  |  72 |\n",
       "| 10  | 66  | 73  |  98 |\n",
       "| 11  | 92  | 78  |  92 |\n",
       "| 12  | 79  | 66  |  80 |\n",
       "| 13  | 81  | 88  | 100 |\n",
       "| 14  | 70  | 81  |  79 |\n",
       "| 15  | 87  | 91  |  84 |\n",
       "| 16  | 70  | 71  |  80 |\n",
       "| 17  | 70  | 68  |  88 |\n",
       "| 18  | 76  | 79  |  78 |\n",
       "| 19  | 81  | 82  |  75 |\n",
       "| 20  | 69  | 79  | 106 |\n",
       "| 21  | 70  | 67  | 124 |\n",
       "| 22  | 68  | 97  | 110 |\n",
       "| 23  | 70  | 71  | 109 |\n",
       "| 24  | 78  | 79  | 122 |\n",
       "| 25  | 60  | 75  | 137 |\n",
       "| 26  | 76  | 82  | 132 |\n",
       "| 27  | 78  | 82  | 122 |\n",
       "| 28  | 84  | 81  | 112 |\n",
       "| 29  | 83  | 70  | 131 |\n",
       "| 30  | 73  | 91  | 132 |\n",
       "\n"
      ],
      "text/plain": [
       "   day 2015 2016 2017\n",
       "1   1  75   75    94 \n",
       "2   2  77   67    69 \n",
       "3   3  67   78    80 \n",
       "4   4  71   99    84 \n",
       "5   5  62   89    74 \n",
       "6   6  77   74    83 \n",
       "7   7  85   67    87 \n",
       "8   8  84   77    94 \n",
       "9   9  79   90    72 \n",
       "10 10  66   73    98 \n",
       "11 11  92   78    92 \n",
       "12 12  79   66    80 \n",
       "13 13  81   88   100 \n",
       "14 14  70   81    79 \n",
       "15 15  87   91    84 \n",
       "16 16  70   71    80 \n",
       "17 17  70   68    88 \n",
       "18 18  76   79    78 \n",
       "19 19  81   82    75 \n",
       "20 20  69   79   106 \n",
       "21 21  70   67   124 \n",
       "22 22  68   97   110 \n",
       "23 23  70   71   109 \n",
       "24 24  78   79   122 \n",
       "25 25  60   75   137 \n",
       "26 26  76   82   132 \n",
       "27 27  78   82   122 \n",
       "28 28  84   81   112 \n",
       "29 29  83   70   131 \n",
       "30 30  73   91   132 "
      ]
     },
     "metadata": {},
     "output_type": "display_data"
    }
   ],
   "source": [
    "dat <- st  %>% setNames(c(\"day\",header[-4])) %>% mutate_all(as.numeric)\n",
    "dat"
   ]
  },
  {
   "cell_type": "markdown",
   "metadata": {},
   "source": [
    ">16. Now finish it up by tidying `tab` with the gather function."
   ]
  },
  {
   "cell_type": "code",
   "execution_count": 160,
   "metadata": {},
   "outputs": [
    {
     "data": {
      "text/html": [
       "<table>\n",
       "<thead><tr><th scope=col>day</th><th scope=col>year</th><th scope=col>value</th></tr></thead>\n",
       "<tbody>\n",
       "\t<tr><td> 1  </td><td>2015</td><td>75  </td></tr>\n",
       "\t<tr><td> 2  </td><td>2015</td><td>77  </td></tr>\n",
       "\t<tr><td> 3  </td><td>2015</td><td>67  </td></tr>\n",
       "\t<tr><td> 4  </td><td>2015</td><td>71  </td></tr>\n",
       "\t<tr><td> 5  </td><td>2015</td><td>62  </td></tr>\n",
       "\t<tr><td> 6  </td><td>2015</td><td>77  </td></tr>\n",
       "\t<tr><td> 7  </td><td>2015</td><td>85  </td></tr>\n",
       "\t<tr><td> 8  </td><td>2015</td><td>84  </td></tr>\n",
       "\t<tr><td> 9  </td><td>2015</td><td>79  </td></tr>\n",
       "\t<tr><td>10  </td><td>2015</td><td>66  </td></tr>\n",
       "\t<tr><td>11  </td><td>2015</td><td>92  </td></tr>\n",
       "\t<tr><td>12  </td><td>2015</td><td>79  </td></tr>\n",
       "\t<tr><td>13  </td><td>2015</td><td>81  </td></tr>\n",
       "\t<tr><td>14  </td><td>2015</td><td>70  </td></tr>\n",
       "\t<tr><td>15  </td><td>2015</td><td>87  </td></tr>\n",
       "\t<tr><td>16  </td><td>2015</td><td>70  </td></tr>\n",
       "\t<tr><td>17  </td><td>2015</td><td>70  </td></tr>\n",
       "\t<tr><td>18  </td><td>2015</td><td>76  </td></tr>\n",
       "\t<tr><td>19  </td><td>2015</td><td>81  </td></tr>\n",
       "\t<tr><td>20  </td><td>2015</td><td>69  </td></tr>\n",
       "\t<tr><td>21  </td><td>2015</td><td>70  </td></tr>\n",
       "\t<tr><td>22  </td><td>2015</td><td>68  </td></tr>\n",
       "\t<tr><td>23  </td><td>2015</td><td>70  </td></tr>\n",
       "\t<tr><td>24  </td><td>2015</td><td>78  </td></tr>\n",
       "\t<tr><td>25  </td><td>2015</td><td>60  </td></tr>\n",
       "\t<tr><td>26  </td><td>2015</td><td>76  </td></tr>\n",
       "\t<tr><td>27  </td><td>2015</td><td>78  </td></tr>\n",
       "\t<tr><td>28  </td><td>2015</td><td>84  </td></tr>\n",
       "\t<tr><td>29  </td><td>2015</td><td>83  </td></tr>\n",
       "\t<tr><td>30  </td><td>2015</td><td>73  </td></tr>\n",
       "\t<tr><td>⋮</td><td>⋮</td><td>⋮</td></tr>\n",
       "\t<tr><td> 1  </td><td>2017</td><td> 94 </td></tr>\n",
       "\t<tr><td> 2  </td><td>2017</td><td> 69 </td></tr>\n",
       "\t<tr><td> 3  </td><td>2017</td><td> 80 </td></tr>\n",
       "\t<tr><td> 4  </td><td>2017</td><td> 84 </td></tr>\n",
       "\t<tr><td> 5  </td><td>2017</td><td> 74 </td></tr>\n",
       "\t<tr><td> 6  </td><td>2017</td><td> 83 </td></tr>\n",
       "\t<tr><td> 7  </td><td>2017</td><td> 87 </td></tr>\n",
       "\t<tr><td> 8  </td><td>2017</td><td> 94 </td></tr>\n",
       "\t<tr><td> 9  </td><td>2017</td><td> 72 </td></tr>\n",
       "\t<tr><td>10  </td><td>2017</td><td> 98 </td></tr>\n",
       "\t<tr><td>11  </td><td>2017</td><td> 92 </td></tr>\n",
       "\t<tr><td>12  </td><td>2017</td><td> 80 </td></tr>\n",
       "\t<tr><td>13  </td><td>2017</td><td>100 </td></tr>\n",
       "\t<tr><td>14  </td><td>2017</td><td> 79 </td></tr>\n",
       "\t<tr><td>15  </td><td>2017</td><td> 84 </td></tr>\n",
       "\t<tr><td>16  </td><td>2017</td><td> 80 </td></tr>\n",
       "\t<tr><td>17  </td><td>2017</td><td> 88 </td></tr>\n",
       "\t<tr><td>18  </td><td>2017</td><td> 78 </td></tr>\n",
       "\t<tr><td>19  </td><td>2017</td><td> 75 </td></tr>\n",
       "\t<tr><td>20  </td><td>2017</td><td>106 </td></tr>\n",
       "\t<tr><td>21  </td><td>2017</td><td>124 </td></tr>\n",
       "\t<tr><td>22  </td><td>2017</td><td>110 </td></tr>\n",
       "\t<tr><td>23  </td><td>2017</td><td>109 </td></tr>\n",
       "\t<tr><td>24  </td><td>2017</td><td>122 </td></tr>\n",
       "\t<tr><td>25  </td><td>2017</td><td>137 </td></tr>\n",
       "\t<tr><td>26  </td><td>2017</td><td>132 </td></tr>\n",
       "\t<tr><td>27  </td><td>2017</td><td>122 </td></tr>\n",
       "\t<tr><td>28  </td><td>2017</td><td>112 </td></tr>\n",
       "\t<tr><td>29  </td><td>2017</td><td>131 </td></tr>\n",
       "\t<tr><td>30  </td><td>2017</td><td>132 </td></tr>\n",
       "</tbody>\n",
       "</table>\n"
      ],
      "text/latex": [
       "\\begin{tabular}{r|lll}\n",
       " day & year & value\\\\\n",
       "\\hline\n",
       "\t  1   & 2015 & 75  \\\\\n",
       "\t  2   & 2015 & 77  \\\\\n",
       "\t  3   & 2015 & 67  \\\\\n",
       "\t  4   & 2015 & 71  \\\\\n",
       "\t  5   & 2015 & 62  \\\\\n",
       "\t  6   & 2015 & 77  \\\\\n",
       "\t  7   & 2015 & 85  \\\\\n",
       "\t  8   & 2015 & 84  \\\\\n",
       "\t  9   & 2015 & 79  \\\\\n",
       "\t 10   & 2015 & 66  \\\\\n",
       "\t 11   & 2015 & 92  \\\\\n",
       "\t 12   & 2015 & 79  \\\\\n",
       "\t 13   & 2015 & 81  \\\\\n",
       "\t 14   & 2015 & 70  \\\\\n",
       "\t 15   & 2015 & 87  \\\\\n",
       "\t 16   & 2015 & 70  \\\\\n",
       "\t 17   & 2015 & 70  \\\\\n",
       "\t 18   & 2015 & 76  \\\\\n",
       "\t 19   & 2015 & 81  \\\\\n",
       "\t 20   & 2015 & 69  \\\\\n",
       "\t 21   & 2015 & 70  \\\\\n",
       "\t 22   & 2015 & 68  \\\\\n",
       "\t 23   & 2015 & 70  \\\\\n",
       "\t 24   & 2015 & 78  \\\\\n",
       "\t 25   & 2015 & 60  \\\\\n",
       "\t 26   & 2015 & 76  \\\\\n",
       "\t 27   & 2015 & 78  \\\\\n",
       "\t 28   & 2015 & 84  \\\\\n",
       "\t 29   & 2015 & 83  \\\\\n",
       "\t 30   & 2015 & 73  \\\\\n",
       "\t ⋮ & ⋮ & ⋮\\\\\n",
       "\t  1   & 2017 &  94 \\\\\n",
       "\t  2   & 2017 &  69 \\\\\n",
       "\t  3   & 2017 &  80 \\\\\n",
       "\t  4   & 2017 &  84 \\\\\n",
       "\t  5   & 2017 &  74 \\\\\n",
       "\t  6   & 2017 &  83 \\\\\n",
       "\t  7   & 2017 &  87 \\\\\n",
       "\t  8   & 2017 &  94 \\\\\n",
       "\t  9   & 2017 &  72 \\\\\n",
       "\t 10   & 2017 &  98 \\\\\n",
       "\t 11   & 2017 &  92 \\\\\n",
       "\t 12   & 2017 &  80 \\\\\n",
       "\t 13   & 2017 & 100 \\\\\n",
       "\t 14   & 2017 &  79 \\\\\n",
       "\t 15   & 2017 &  84 \\\\\n",
       "\t 16   & 2017 &  80 \\\\\n",
       "\t 17   & 2017 &  88 \\\\\n",
       "\t 18   & 2017 &  78 \\\\\n",
       "\t 19   & 2017 &  75 \\\\\n",
       "\t 20   & 2017 & 106 \\\\\n",
       "\t 21   & 2017 & 124 \\\\\n",
       "\t 22   & 2017 & 110 \\\\\n",
       "\t 23   & 2017 & 109 \\\\\n",
       "\t 24   & 2017 & 122 \\\\\n",
       "\t 25   & 2017 & 137 \\\\\n",
       "\t 26   & 2017 & 132 \\\\\n",
       "\t 27   & 2017 & 122 \\\\\n",
       "\t 28   & 2017 & 112 \\\\\n",
       "\t 29   & 2017 & 131 \\\\\n",
       "\t 30   & 2017 & 132 \\\\\n",
       "\\end{tabular}\n"
      ],
      "text/markdown": [
       "\n",
       "| day | year | value |\n",
       "|---|---|---|\n",
       "|  1   | 2015 | 75   |\n",
       "|  2   | 2015 | 77   |\n",
       "|  3   | 2015 | 67   |\n",
       "|  4   | 2015 | 71   |\n",
       "|  5   | 2015 | 62   |\n",
       "|  6   | 2015 | 77   |\n",
       "|  7   | 2015 | 85   |\n",
       "|  8   | 2015 | 84   |\n",
       "|  9   | 2015 | 79   |\n",
       "| 10   | 2015 | 66   |\n",
       "| 11   | 2015 | 92   |\n",
       "| 12   | 2015 | 79   |\n",
       "| 13   | 2015 | 81   |\n",
       "| 14   | 2015 | 70   |\n",
       "| 15   | 2015 | 87   |\n",
       "| 16   | 2015 | 70   |\n",
       "| 17   | 2015 | 70   |\n",
       "| 18   | 2015 | 76   |\n",
       "| 19   | 2015 | 81   |\n",
       "| 20   | 2015 | 69   |\n",
       "| 21   | 2015 | 70   |\n",
       "| 22   | 2015 | 68   |\n",
       "| 23   | 2015 | 70   |\n",
       "| 24   | 2015 | 78   |\n",
       "| 25   | 2015 | 60   |\n",
       "| 26   | 2015 | 76   |\n",
       "| 27   | 2015 | 78   |\n",
       "| 28   | 2015 | 84   |\n",
       "| 29   | 2015 | 83   |\n",
       "| 30   | 2015 | 73   |\n",
       "| ⋮ | ⋮ | ⋮ |\n",
       "|  1   | 2017 |  94  |\n",
       "|  2   | 2017 |  69  |\n",
       "|  3   | 2017 |  80  |\n",
       "|  4   | 2017 |  84  |\n",
       "|  5   | 2017 |  74  |\n",
       "|  6   | 2017 |  83  |\n",
       "|  7   | 2017 |  87  |\n",
       "|  8   | 2017 |  94  |\n",
       "|  9   | 2017 |  72  |\n",
       "| 10   | 2017 |  98  |\n",
       "| 11   | 2017 |  92  |\n",
       "| 12   | 2017 |  80  |\n",
       "| 13   | 2017 | 100  |\n",
       "| 14   | 2017 |  79  |\n",
       "| 15   | 2017 |  84  |\n",
       "| 16   | 2017 |  80  |\n",
       "| 17   | 2017 |  88  |\n",
       "| 18   | 2017 |  78  |\n",
       "| 19   | 2017 |  75  |\n",
       "| 20   | 2017 | 106  |\n",
       "| 21   | 2017 | 124  |\n",
       "| 22   | 2017 | 110  |\n",
       "| 23   | 2017 | 109  |\n",
       "| 24   | 2017 | 122  |\n",
       "| 25   | 2017 | 137  |\n",
       "| 26   | 2017 | 132  |\n",
       "| 27   | 2017 | 122  |\n",
       "| 28   | 2017 | 112  |\n",
       "| 29   | 2017 | 131  |\n",
       "| 30   | 2017 | 132  |\n",
       "\n"
      ],
      "text/plain": [
       "   day year value\n",
       "1   1  2015 75   \n",
       "2   2  2015 77   \n",
       "3   3  2015 67   \n",
       "4   4  2015 71   \n",
       "5   5  2015 62   \n",
       "6   6  2015 77   \n",
       "7   7  2015 85   \n",
       "8   8  2015 84   \n",
       "9   9  2015 79   \n",
       "10 10  2015 66   \n",
       "11 11  2015 92   \n",
       "12 12  2015 79   \n",
       "13 13  2015 81   \n",
       "14 14  2015 70   \n",
       "15 15  2015 87   \n",
       "16 16  2015 70   \n",
       "17 17  2015 70   \n",
       "18 18  2015 76   \n",
       "19 19  2015 81   \n",
       "20 20  2015 69   \n",
       "21 21  2015 70   \n",
       "22 22  2015 68   \n",
       "23 23  2015 70   \n",
       "24 24  2015 78   \n",
       "25 25  2015 60   \n",
       "26 26  2015 76   \n",
       "27 27  2015 78   \n",
       "28 28  2015 84   \n",
       "29 29  2015 83   \n",
       "30 30  2015 73   \n",
       "⋮  ⋮   ⋮    ⋮    \n",
       "61  1  2017  94  \n",
       "62  2  2017  69  \n",
       "63  3  2017  80  \n",
       "64  4  2017  84  \n",
       "65  5  2017  74  \n",
       "66  6  2017  83  \n",
       "67  7  2017  87  \n",
       "68  8  2017  94  \n",
       "69  9  2017  72  \n",
       "70 10  2017  98  \n",
       "71 11  2017  92  \n",
       "72 12  2017  80  \n",
       "73 13  2017 100  \n",
       "74 14  2017  79  \n",
       "75 15  2017  84  \n",
       "76 16  2017  80  \n",
       "77 17  2017  88  \n",
       "78 18  2017  78  \n",
       "79 19  2017  75  \n",
       "80 20  2017 106  \n",
       "81 21  2017 124  \n",
       "82 22  2017 110  \n",
       "83 23  2017 109  \n",
       "84 24  2017 122  \n",
       "85 25  2017 137  \n",
       "86 26  2017 132  \n",
       "87 27  2017 122  \n",
       "88 28  2017 112  \n",
       "89 29  2017 131  \n",
       "90 30  2017 132  "
      ]
     },
     "metadata": {},
     "output_type": "display_data"
    }
   ],
   "source": [
    "dat <- dat %>% gather(year,value,-day)\n",
    "dat"
   ]
  },
  {
   "cell_type": "code",
   "execution_count": 161,
   "metadata": {},
   "outputs": [],
   "source": [
    "# add another column name with the month in it\n",
    "month_int <- 9\n",
    "tab <- dat %>% mutate(month_int)\n",
    "#  rename last column name from \"month_ind\" to \"month\"\n",
    "tab <- tab %>% rename(month = month_int)\n",
    "# reorder the column names from \"day year value month\" to \"day month year value\"\n",
    "tab <- tab[c(1,4,2,3)]"
   ]
  },
  {
   "cell_type": "markdown",
   "metadata": {},
   "source": [
    ">17. Make a plot of deaths versus day with color to denote year. Exclude 2018 since we have no data."
   ]
  },
  {
   "cell_type": "code",
   "execution_count": 162,
   "metadata": {},
   "outputs": [
    {
     "data": {
      "image/png": "[encoded data removed]",
      "text/plain": [
       "plot without title"
      ]
     },
     "metadata": {},
     "output_type": "display_data"
    }
   ],
   "source": [
    "dat %>% ggplot(aes(day, value)) + geom_point(aes(col = year)) + geom_line(aes(col = year)) + scale_y_continuous(trans = \"log10\", breaks = seq(0,150,10    ))"
   ]
  },
  {
   "cell_type": "markdown",
   "metadata": {},
   "source": [
    ">18. Now that we have wrangled this data step-by-step, put it all together in one R chunk, using the pipe as much as possible. Hint: first define the indexes, then write one line of code that does all the string processing."
   ]
  },
  {
   "cell_type": "code",
   "execution_count": 165,
   "metadata": {},
   "outputs": [
    {
     "data": {
      "text/html": [
       "<table>\n",
       "<thead><tr><th scope=col>day</th><th scope=col>year</th><th scope=col>value</th><th scope=col>month_int</th></tr></thead>\n",
       "<tbody>\n",
       "\t<tr><td> 1  </td><td>2015</td><td>75  </td><td>9   </td></tr>\n",
       "\t<tr><td> 2  </td><td>2015</td><td>77  </td><td>9   </td></tr>\n",
       "\t<tr><td> 3  </td><td>2015</td><td>67  </td><td>9   </td></tr>\n",
       "\t<tr><td> 4  </td><td>2015</td><td>71  </td><td>9   </td></tr>\n",
       "\t<tr><td> 5  </td><td>2015</td><td>62  </td><td>9   </td></tr>\n",
       "\t<tr><td> 6  </td><td>2015</td><td>77  </td><td>9   </td></tr>\n",
       "\t<tr><td> 7  </td><td>2015</td><td>85  </td><td>9   </td></tr>\n",
       "\t<tr><td> 8  </td><td>2015</td><td>84  </td><td>9   </td></tr>\n",
       "\t<tr><td> 9  </td><td>2015</td><td>79  </td><td>9   </td></tr>\n",
       "\t<tr><td>10  </td><td>2015</td><td>66  </td><td>9   </td></tr>\n",
       "\t<tr><td>11  </td><td>2015</td><td>92  </td><td>9   </td></tr>\n",
       "\t<tr><td>12  </td><td>2015</td><td>79  </td><td>9   </td></tr>\n",
       "\t<tr><td>13  </td><td>2015</td><td>81  </td><td>9   </td></tr>\n",
       "\t<tr><td>14  </td><td>2015</td><td>70  </td><td>9   </td></tr>\n",
       "\t<tr><td>15  </td><td>2015</td><td>87  </td><td>9   </td></tr>\n",
       "\t<tr><td>16  </td><td>2015</td><td>70  </td><td>9   </td></tr>\n",
       "\t<tr><td>17  </td><td>2015</td><td>70  </td><td>9   </td></tr>\n",
       "\t<tr><td>18  </td><td>2015</td><td>76  </td><td>9   </td></tr>\n",
       "\t<tr><td>19  </td><td>2015</td><td>81  </td><td>9   </td></tr>\n",
       "\t<tr><td>20  </td><td>2015</td><td>69  </td><td>9   </td></tr>\n",
       "\t<tr><td>21  </td><td>2015</td><td>70  </td><td>9   </td></tr>\n",
       "\t<tr><td>22  </td><td>2015</td><td>68  </td><td>9   </td></tr>\n",
       "\t<tr><td>23  </td><td>2015</td><td>70  </td><td>9   </td></tr>\n",
       "\t<tr><td>24  </td><td>2015</td><td>78  </td><td>9   </td></tr>\n",
       "\t<tr><td>25  </td><td>2015</td><td>60  </td><td>9   </td></tr>\n",
       "\t<tr><td>26  </td><td>2015</td><td>76  </td><td>9   </td></tr>\n",
       "\t<tr><td>27  </td><td>2015</td><td>78  </td><td>9   </td></tr>\n",
       "\t<tr><td>28  </td><td>2015</td><td>84  </td><td>9   </td></tr>\n",
       "\t<tr><td>29  </td><td>2015</td><td>83  </td><td>9   </td></tr>\n",
       "\t<tr><td>30  </td><td>2015</td><td>73  </td><td>9   </td></tr>\n",
       "\t<tr><td>⋮</td><td>⋮</td><td>⋮</td><td>⋮</td></tr>\n",
       "\t<tr><td> 1  </td><td>2017</td><td> 94 </td><td>9   </td></tr>\n",
       "\t<tr><td> 2  </td><td>2017</td><td> 69 </td><td>9   </td></tr>\n",
       "\t<tr><td> 3  </td><td>2017</td><td> 80 </td><td>9   </td></tr>\n",
       "\t<tr><td> 4  </td><td>2017</td><td> 84 </td><td>9   </td></tr>\n",
       "\t<tr><td> 5  </td><td>2017</td><td> 74 </td><td>9   </td></tr>\n",
       "\t<tr><td> 6  </td><td>2017</td><td> 83 </td><td>9   </td></tr>\n",
       "\t<tr><td> 7  </td><td>2017</td><td> 87 </td><td>9   </td></tr>\n",
       "\t<tr><td> 8  </td><td>2017</td><td> 94 </td><td>9   </td></tr>\n",
       "\t<tr><td> 9  </td><td>2017</td><td> 72 </td><td>9   </td></tr>\n",
       "\t<tr><td>10  </td><td>2017</td><td> 98 </td><td>9   </td></tr>\n",
       "\t<tr><td>11  </td><td>2017</td><td> 92 </td><td>9   </td></tr>\n",
       "\t<tr><td>12  </td><td>2017</td><td> 80 </td><td>9   </td></tr>\n",
       "\t<tr><td>13  </td><td>2017</td><td>100 </td><td>9   </td></tr>\n",
       "\t<tr><td>14  </td><td>2017</td><td> 79 </td><td>9   </td></tr>\n",
       "\t<tr><td>15  </td><td>2017</td><td> 84 </td><td>9   </td></tr>\n",
       "\t<tr><td>16  </td><td>2017</td><td> 80 </td><td>9   </td></tr>\n",
       "\t<tr><td>17  </td><td>2017</td><td> 88 </td><td>9   </td></tr>\n",
       "\t<tr><td>18  </td><td>2017</td><td> 78 </td><td>9   </td></tr>\n",
       "\t<tr><td>19  </td><td>2017</td><td> 75 </td><td>9   </td></tr>\n",
       "\t<tr><td>20  </td><td>2017</td><td>106 </td><td>9   </td></tr>\n",
       "\t<tr><td>21  </td><td>2017</td><td>124 </td><td>9   </td></tr>\n",
       "\t<tr><td>22  </td><td>2017</td><td>110 </td><td>9   </td></tr>\n",
       "\t<tr><td>23  </td><td>2017</td><td>109 </td><td>9   </td></tr>\n",
       "\t<tr><td>24  </td><td>2017</td><td>122 </td><td>9   </td></tr>\n",
       "\t<tr><td>25  </td><td>2017</td><td>137 </td><td>9   </td></tr>\n",
       "\t<tr><td>26  </td><td>2017</td><td>132 </td><td>9   </td></tr>\n",
       "\t<tr><td>27  </td><td>2017</td><td>122 </td><td>9   </td></tr>\n",
       "\t<tr><td>28  </td><td>2017</td><td>112 </td><td>9   </td></tr>\n",
       "\t<tr><td>29  </td><td>2017</td><td>131 </td><td>9   </td></tr>\n",
       "\t<tr><td>30  </td><td>2017</td><td>132 </td><td>9   </td></tr>\n",
       "</tbody>\n",
       "</table>\n"
      ],
      "text/latex": [
       "\\begin{tabular}{r|llll}\n",
       " day & year & value & month\\_int\\\\\n",
       "\\hline\n",
       "\t  1   & 2015 & 75   & 9   \\\\\n",
       "\t  2   & 2015 & 77   & 9   \\\\\n",
       "\t  3   & 2015 & 67   & 9   \\\\\n",
       "\t  4   & 2015 & 71   & 9   \\\\\n",
       "\t  5   & 2015 & 62   & 9   \\\\\n",
       "\t  6   & 2015 & 77   & 9   \\\\\n",
       "\t  7   & 2015 & 85   & 9   \\\\\n",
       "\t  8   & 2015 & 84   & 9   \\\\\n",
       "\t  9   & 2015 & 79   & 9   \\\\\n",
       "\t 10   & 2015 & 66   & 9   \\\\\n",
       "\t 11   & 2015 & 92   & 9   \\\\\n",
       "\t 12   & 2015 & 79   & 9   \\\\\n",
       "\t 13   & 2015 & 81   & 9   \\\\\n",
       "\t 14   & 2015 & 70   & 9   \\\\\n",
       "\t 15   & 2015 & 87   & 9   \\\\\n",
       "\t 16   & 2015 & 70   & 9   \\\\\n",
       "\t 17   & 2015 & 70   & 9   \\\\\n",
       "\t 18   & 2015 & 76   & 9   \\\\\n",
       "\t 19   & 2015 & 81   & 9   \\\\\n",
       "\t 20   & 2015 & 69   & 9   \\\\\n",
       "\t 21   & 2015 & 70   & 9   \\\\\n",
       "\t 22   & 2015 & 68   & 9   \\\\\n",
       "\t 23   & 2015 & 70   & 9   \\\\\n",
       "\t 24   & 2015 & 78   & 9   \\\\\n",
       "\t 25   & 2015 & 60   & 9   \\\\\n",
       "\t 26   & 2015 & 76   & 9   \\\\\n",
       "\t 27   & 2015 & 78   & 9   \\\\\n",
       "\t 28   & 2015 & 84   & 9   \\\\\n",
       "\t 29   & 2015 & 83   & 9   \\\\\n",
       "\t 30   & 2015 & 73   & 9   \\\\\n",
       "\t ⋮ & ⋮ & ⋮ & ⋮\\\\\n",
       "\t  1   & 2017 &  94  & 9   \\\\\n",
       "\t  2   & 2017 &  69  & 9   \\\\\n",
       "\t  3   & 2017 &  80  & 9   \\\\\n",
       "\t  4   & 2017 &  84  & 9   \\\\\n",
       "\t  5   & 2017 &  74  & 9   \\\\\n",
       "\t  6   & 2017 &  83  & 9   \\\\\n",
       "\t  7   & 2017 &  87  & 9   \\\\\n",
       "\t  8   & 2017 &  94  & 9   \\\\\n",
       "\t  9   & 2017 &  72  & 9   \\\\\n",
       "\t 10   & 2017 &  98  & 9   \\\\\n",
       "\t 11   & 2017 &  92  & 9   \\\\\n",
       "\t 12   & 2017 &  80  & 9   \\\\\n",
       "\t 13   & 2017 & 100  & 9   \\\\\n",
       "\t 14   & 2017 &  79  & 9   \\\\\n",
       "\t 15   & 2017 &  84  & 9   \\\\\n",
       "\t 16   & 2017 &  80  & 9   \\\\\n",
       "\t 17   & 2017 &  88  & 9   \\\\\n",
       "\t 18   & 2017 &  78  & 9   \\\\\n",
       "\t 19   & 2017 &  75  & 9   \\\\\n",
       "\t 20   & 2017 & 106  & 9   \\\\\n",
       "\t 21   & 2017 & 124  & 9   \\\\\n",
       "\t 22   & 2017 & 110  & 9   \\\\\n",
       "\t 23   & 2017 & 109  & 9   \\\\\n",
       "\t 24   & 2017 & 122  & 9   \\\\\n",
       "\t 25   & 2017 & 137  & 9   \\\\\n",
       "\t 26   & 2017 & 132  & 9   \\\\\n",
       "\t 27   & 2017 & 122  & 9   \\\\\n",
       "\t 28   & 2017 & 112  & 9   \\\\\n",
       "\t 29   & 2017 & 131  & 9   \\\\\n",
       "\t 30   & 2017 & 132  & 9   \\\\\n",
       "\\end{tabular}\n"
      ],
      "text/markdown": [
       "\n",
       "| day | year | value | month_int |\n",
       "|---|---|---|---|\n",
       "|  1   | 2015 | 75   | 9    |\n",
       "|  2   | 2015 | 77   | 9    |\n",
       "|  3   | 2015 | 67   | 9    |\n",
       "|  4   | 2015 | 71   | 9    |\n",
       "|  5   | 2015 | 62   | 9    |\n",
       "|  6   | 2015 | 77   | 9    |\n",
       "|  7   | 2015 | 85   | 9    |\n",
       "|  8   | 2015 | 84   | 9    |\n",
       "|  9   | 2015 | 79   | 9    |\n",
       "| 10   | 2015 | 66   | 9    |\n",
       "| 11   | 2015 | 92   | 9    |\n",
       "| 12   | 2015 | 79   | 9    |\n",
       "| 13   | 2015 | 81   | 9    |\n",
       "| 14   | 2015 | 70   | 9    |\n",
       "| 15   | 2015 | 87   | 9    |\n",
       "| 16   | 2015 | 70   | 9    |\n",
       "| 17   | 2015 | 70   | 9    |\n",
       "| 18   | 2015 | 76   | 9    |\n",
       "| 19   | 2015 | 81   | 9    |\n",
       "| 20   | 2015 | 69   | 9    |\n",
       "| 21   | 2015 | 70   | 9    |\n",
       "| 22   | 2015 | 68   | 9    |\n",
       "| 23   | 2015 | 70   | 9    |\n",
       "| 24   | 2015 | 78   | 9    |\n",
       "| 25   | 2015 | 60   | 9    |\n",
       "| 26   | 2015 | 76   | 9    |\n",
       "| 27   | 2015 | 78   | 9    |\n",
       "| 28   | 2015 | 84   | 9    |\n",
       "| 29   | 2015 | 83   | 9    |\n",
       "| 30   | 2015 | 73   | 9    |\n",
       "| ⋮ | ⋮ | ⋮ | ⋮ |\n",
       "|  1   | 2017 |  94  | 9    |\n",
       "|  2   | 2017 |  69  | 9    |\n",
       "|  3   | 2017 |  80  | 9    |\n",
       "|  4   | 2017 |  84  | 9    |\n",
       "|  5   | 2017 |  74  | 9    |\n",
       "|  6   | 2017 |  83  | 9    |\n",
       "|  7   | 2017 |  87  | 9    |\n",
       "|  8   | 2017 |  94  | 9    |\n",
       "|  9   | 2017 |  72  | 9    |\n",
       "| 10   | 2017 |  98  | 9    |\n",
       "| 11   | 2017 |  92  | 9    |\n",
       "| 12   | 2017 |  80  | 9    |\n",
       "| 13   | 2017 | 100  | 9    |\n",
       "| 14   | 2017 |  79  | 9    |\n",
       "| 15   | 2017 |  84  | 9    |\n",
       "| 16   | 2017 |  80  | 9    |\n",
       "| 17   | 2017 |  88  | 9    |\n",
       "| 18   | 2017 |  78  | 9    |\n",
       "| 19   | 2017 |  75  | 9    |\n",
       "| 20   | 2017 | 106  | 9    |\n",
       "| 21   | 2017 | 124  | 9    |\n",
       "| 22   | 2017 | 110  | 9    |\n",
       "| 23   | 2017 | 109  | 9    |\n",
       "| 24   | 2017 | 122  | 9    |\n",
       "| 25   | 2017 | 137  | 9    |\n",
       "| 26   | 2017 | 132  | 9    |\n",
       "| 27   | 2017 | 122  | 9    |\n",
       "| 28   | 2017 | 112  | 9    |\n",
       "| 29   | 2017 | 131  | 9    |\n",
       "| 30   | 2017 | 132  | 9    |\n",
       "\n"
      ],
      "text/plain": [
       "   day year value month_int\n",
       "1   1  2015 75    9        \n",
       "2   2  2015 77    9        \n",
       "3   3  2015 67    9        \n",
       "4   4  2015 71    9        \n",
       "5   5  2015 62    9        \n",
       "6   6  2015 77    9        \n",
       "7   7  2015 85    9        \n",
       "8   8  2015 84    9        \n",
       "9   9  2015 79    9        \n",
       "10 10  2015 66    9        \n",
       "11 11  2015 92    9        \n",
       "12 12  2015 79    9        \n",
       "13 13  2015 81    9        \n",
       "14 14  2015 70    9        \n",
       "15 15  2015 87    9        \n",
       "16 16  2015 70    9        \n",
       "17 17  2015 70    9        \n",
       "18 18  2015 76    9        \n",
       "19 19  2015 81    9        \n",
       "20 20  2015 69    9        \n",
       "21 21  2015 70    9        \n",
       "22 22  2015 68    9        \n",
       "23 23  2015 70    9        \n",
       "24 24  2015 78    9        \n",
       "25 25  2015 60    9        \n",
       "26 26  2015 76    9        \n",
       "27 27  2015 78    9        \n",
       "28 28  2015 84    9        \n",
       "29 29  2015 83    9        \n",
       "30 30  2015 73    9        \n",
       "⋮  ⋮   ⋮    ⋮     ⋮        \n",
       "61  1  2017  94   9        \n",
       "62  2  2017  69   9        \n",
       "63  3  2017  80   9        \n",
       "64  4  2017  84   9        \n",
       "65  5  2017  74   9        \n",
       "66  6  2017  83   9        \n",
       "67  7  2017  87   9        \n",
       "68  8  2017  94   9        \n",
       "69  9  2017  72   9        \n",
       "70 10  2017  98   9        \n",
       "71 11  2017  92   9        \n",
       "72 12  2017  80   9        \n",
       "73 13  2017 100   9        \n",
       "74 14  2017  79   9        \n",
       "75 15  2017  84   9        \n",
       "76 16  2017  80   9        \n",
       "77 17  2017  88   9        \n",
       "78 18  2017  78   9        \n",
       "79 19  2017  75   9        \n",
       "80 20  2017 106   9        \n",
       "81 21  2017 124   9        \n",
       "82 22  2017 110   9        \n",
       "83 23  2017 109   9        \n",
       "84 24  2017 122   9        \n",
       "85 25  2017 137   9        \n",
       "86 26  2017 132   9        \n",
       "87 27  2017 122   9        \n",
       "88 28  2017 112   9        \n",
       "89 29  2017 131   9        \n",
       "90 30  2017 132   9        "
      ]
     },
     "metadata": {},
     "output_type": "display_data"
    }
   ],
   "source": [
    "s <- txt[9] %>% str_split(\"\\\\n\") %>% .[[1]] %>% str_trim()\n",
    "header_index <- s %>% str_which(\"[A-Z]\\\\s{2,}\\\\d{4}\")\n",
    "tail_index <- s %>% str_which(\"Total\")\n",
    "month <- s[header_index] %>% str_split(\"\\\\s{2,}\",simplify=TRUE) %>% .[1]\n",
    "header <- s[header_index] %>% str_split(\"\\\\s{2,}\",simplify=TRUE) %>% .[-1]\n",
    "s <- s[(header_index+1):(tail_index-1)]\n",
    "n <- s %>% str_count(\"\\\\d+\")\n",
    "s <- s[-which(n==1)]\n",
    "s <- s %>% str_remove_all(\"[^\\\\d|\\\\s]\") %>% str_split_fixed(\"\\\\s+\",6) %>% .[,1:4] %>% as_tibble %>% setNames(c(\"day\",header[-4])) %>% mutate_all(as.numeric) %>% gather(year,value,-day) %>% mutate(month_int)\n",
    "s"
   ]
  },
  {
   "cell_type": "code",
   "execution_count": 166,
   "metadata": {},
   "outputs": [
    {
     "data": {
      "image/png": "[encoded data removed]",
      "text/plain": [
       "plot without title"
      ]
     },
     "metadata": {},
     "output_type": "display_data"
    }
   ],
   "source": [
    "dat %>% ggplot(aes(day, value)) + geom_point(aes(col = year)) + geom_line(aes(col = year)) + scale_y_continuous(trans = \"log10\", breaks = seq(0,150,10    ))"
   ]
  },
  {
   "cell_type": "markdown",
   "metadata": {},
   "source": [
    ">19. Advanced: let's return to the MLB Payroll example from the web scraping section. Use what you have learned in the web scraping and string processing chapters to extract the payroll for the New York Yankees, Boston Red Sox, and Oakland A's and plot them as a function of time."
   ]
  },
  {
   "cell_type": "markdown",
   "metadata": {},
   "source": [
    "## Chapter 40 Summary"
   ]
  },
  {
   "cell_type": "code",
   "execution_count": 10,
   "metadata": {},
   "outputs": [],
   "source": [
    "convert_format <- function(s){\n",
    "  s %>%\n",
    "    str_replace(\"feet|foot|ft\", \"'\") %>% #convert feet symbols to '\n",
    "    str_replace_all(\"inches|in|''|\\\"|cm|and\", \"\") %>%  #remove inches and other symbols\n",
    "    str_replace(\"^([4-7])\\\\s*[,\\\\.\\\\s+]\\\\s*(\\\\d*)$\", \"\\\\1'\\\\2\") %>% #change x.y, x,y x y\n",
    "    str_replace(\"^([56])'?$\", \"\\\\1'0\") %>% #add 0 when to 5 or 6\n",
    "    str_replace(\"^([12])\\\\s*,\\\\s*(\\\\d*)$\", \"\\\\1\\\\.\\\\2\") %>% #change european decimal\n",
    "    str_trim() #remove extra space\n",
    "}"
   ]
  },
  {
   "cell_type": "code",
   "execution_count": 11,
   "metadata": {},
   "outputs": [],
   "source": [
    "words_to_numbers <- function(s){\n",
    "  str_to_lower(s) %>%  \n",
    "    str_replace_all(\"zero\", \"0\") %>%\n",
    "    str_replace_all(\"one\", \"1\") %>%\n",
    "    str_replace_all(\"two\", \"2\") %>%\n",
    "    str_replace_all(\"three\", \"3\") %>%\n",
    "    str_replace_all(\"four\", \"4\") %>%\n",
    "    str_replace_all(\"five\", \"5\") %>%\n",
    "    str_replace_all(\"six\", \"6\") %>%\n",
    "    str_replace_all(\"seven\", \"7\") %>%\n",
    "    str_replace_all(\"eight\", \"8\") %>%\n",
    "    str_replace_all(\"nine\", \"9\") %>%\n",
    "    str_replace_all(\"ten\", \"10\") %>%\n",
    "    str_replace_all(\"eleven\", \"11\")\n",
    "}"
   ]
  },
  {
   "cell_type": "code",
   "execution_count": 18,
   "metadata": {},
   "outputs": [],
   "source": [
    "not_inches <- function(x, smallest = 50, tallest = 84){\n",
    "  inches <- suppressWarnings(as.numeric(x))\n",
    "  ind <- is.na(inches) | inches < smallest | inches > tallest\n",
    "  ind\n",
    "}"
   ]
  },
  {
   "cell_type": "code",
   "execution_count": 19,
   "metadata": {},
   "outputs": [],
   "source": [
    "not_inches_or_cm <- function(x, smallest = 50, tallest = 84){\n",
    "  inches <- suppressWarnings(as.numeric(x))\n",
    "  ind <- !is.na(inches) & \n",
    "    ((inches >= smallest & inches <= tallest) |\n",
    "       (inches/2.54 >= smallest & inches/2.54 <= tallest))\n",
    "  !ind\n",
    "}"
   ]
  },
  {
   "cell_type": "code",
   "execution_count": 20,
   "metadata": {},
   "outputs": [
    {
     "name": "stderr",
     "output_type": "stream",
     "text": [
      "Warning message in evalq(as.numeric(height), <environment>):\n",
      "“NAs introduced by coercion”"
     ]
    }
   ],
   "source": [
    "pattern <- \"^([4-7])\\\\s*'\\\\s*(\\\\d+\\\\.?\\\\d*)$\"\n",
    "\n",
    "smallest <- 50\n",
    "tallest <- 84\n",
    "new_heights <- reported_heights %>% \n",
    "  mutate(original = height, \n",
    "  height = words_to_numbers(height) %>% convert_format()) %>%\n",
    "  extract(height, c(\"feet\", \"inches\"), regex = pattern, remove = FALSE) %>% \n",
    "  mutate_at(c(\"height\", \"feet\", \"inches\"), as.numeric) %>%\n",
    "  mutate(guess = 12*feet + inches) %>%\n",
    "  mutate(height = case_when(\n",
    "    !is.na(height) & between(height, smallest, tallest) ~ height, #inches \n",
    "    !is.na(height) & between(height/2.54, smallest, tallest) ~ height/2.54, #centimeters\n",
    "    !is.na(height) & between(height*100/2.54, smallest, tallest) ~ height*100/2.54, #meters\n",
    "    !is.na(guess) & inches < 12 & between(guess, smallest, tallest) ~ guess, #feet'inches\n",
    "    TRUE ~ as.numeric(NA))) %>%\n",
    "  select(-guess)"
   ]
  },
  {
   "cell_type": "code",
   "execution_count": 23,
   "metadata": {},
   "outputs": [],
   "source": [
    "#new_heights %>%\n",
    "#  filter(not_inches(original)) %>%\n",
    "#  select(original, height) %>% \n",
    "#  arrange(height) %>%\n",
    "#  View()"
   ]
  },
  {
   "cell_type": "code",
   "execution_count": 22,
   "metadata": {},
   "outputs": [
    {
     "data": {
      "text/html": [
       "<table>\n",
       "<thead><tr><th scope=col>time_stamp</th><th scope=col>sex</th><th scope=col>height</th><th scope=col>feet</th><th scope=col>inches</th><th scope=col>original</th></tr></thead>\n",
       "<tbody>\n",
       "\t<tr><td>2017-07-04 01:30:25</td><td>Male               </td><td>50.00              </td><td>NA                 </td><td>NA                 </td><td>50                 </td></tr>\n",
       "\t<tr><td>2017-09-07 10:40:35</td><td>Male               </td><td>50.00              </td><td>NA                 </td><td>NA                 </td><td>50                 </td></tr>\n",
       "\t<tr><td>2014-09-02 15:18:30</td><td>Female             </td><td>51.00              </td><td>NA                 </td><td>NA                 </td><td>51                 </td></tr>\n",
       "\t<tr><td>2016-06-05 14:07:20</td><td>Female             </td><td>52.00              </td><td>NA                 </td><td>NA                 </td><td>52                 </td></tr>\n",
       "\t<tr><td>2016-06-05 14:07:38</td><td>Female             </td><td>52.00              </td><td>NA                 </td><td>NA                 </td><td>52                 </td></tr>\n",
       "\t<tr><td>2014-09-23 03:39:56</td><td>Female             </td><td>53.00              </td><td>NA                 </td><td>NA                 </td><td>53                 </td></tr>\n",
       "\t<tr><td>2015-01-07 08:57:29</td><td>Male               </td><td>53.77              </td><td>NA                 </td><td>NA                 </td><td>53.77              </td></tr>\n",
       "</tbody>\n",
       "</table>\n"
      ],
      "text/latex": [
       "\\begin{tabular}{r|llllll}\n",
       " time\\_stamp & sex & height & feet & inches & original\\\\\n",
       "\\hline\n",
       "\t 2017-07-04 01:30:25 & Male                & 50.00               & NA                  & NA                  & 50                 \\\\\n",
       "\t 2017-09-07 10:40:35 & Male                & 50.00               & NA                  & NA                  & 50                 \\\\\n",
       "\t 2014-09-02 15:18:30 & Female              & 51.00               & NA                  & NA                  & 51                 \\\\\n",
       "\t 2016-06-05 14:07:20 & Female              & 52.00               & NA                  & NA                  & 52                 \\\\\n",
       "\t 2016-06-05 14:07:38 & Female              & 52.00               & NA                  & NA                  & 52                 \\\\\n",
       "\t 2014-09-23 03:39:56 & Female              & 53.00               & NA                  & NA                  & 53                 \\\\\n",
       "\t 2015-01-07 08:57:29 & Male                & 53.77               & NA                  & NA                  & 53.77              \\\\\n",
       "\\end{tabular}\n"
      ],
      "text/markdown": [
       "\n",
       "| time_stamp | sex | height | feet | inches | original |\n",
       "|---|---|---|---|---|---|\n",
       "| 2017-07-04 01:30:25 | Male                | 50.00               | NA                  | NA                  | 50                  |\n",
       "| 2017-09-07 10:40:35 | Male                | 50.00               | NA                  | NA                  | 50                  |\n",
       "| 2014-09-02 15:18:30 | Female              | 51.00               | NA                  | NA                  | 51                  |\n",
       "| 2016-06-05 14:07:20 | Female              | 52.00               | NA                  | NA                  | 52                  |\n",
       "| 2016-06-05 14:07:38 | Female              | 52.00               | NA                  | NA                  | 52                  |\n",
       "| 2014-09-23 03:39:56 | Female              | 53.00               | NA                  | NA                  | 53                  |\n",
       "| 2015-01-07 08:57:29 | Male                | 53.77               | NA                  | NA                  | 53.77               |\n",
       "\n"
      ],
      "text/plain": [
       "  time_stamp          sex    height feet inches original\n",
       "1 2017-07-04 01:30:25 Male   50.00  NA   NA     50      \n",
       "2 2017-09-07 10:40:35 Male   50.00  NA   NA     50      \n",
       "3 2014-09-02 15:18:30 Female 51.00  NA   NA     51      \n",
       "4 2016-06-05 14:07:20 Female 52.00  NA   NA     52      \n",
       "5 2016-06-05 14:07:38 Female 52.00  NA   NA     52      \n",
       "6 2014-09-23 03:39:56 Female 53.00  NA   NA     53      \n",
       "7 2015-01-07 08:57:29 Male   53.77  NA   NA     53.77   "
      ]
     },
     "metadata": {},
     "output_type": "display_data"
    }
   ],
   "source": [
    "new_heights %>% arrange(height) %>% head(n=7)"
   ]
  },
  {
   "cell_type": "code",
   "execution_count": null,
   "metadata": {},
   "outputs": [],
   "source": []
  }
 ],
 "metadata": {
  "kernelspec": {
   "display_name": "R",
   "language": "R",
   "name": "ir"
  },
  "language_info": {
   "codemirror_mode": "r",
   "file_extension": ".r",
   "mimetype": "text/x-r-source",
   "name": "R",
   "pygments_lexer": "r",
   "version": "3.5.2"
  }
 },
 "nbformat": 4,
 "nbformat_minor": 2
}
