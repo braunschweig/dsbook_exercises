{
 "cells": [
  {
   "cell_type": "markdown",
   "metadata": {},
   "source": [
    "## Exercises ch 37 combining tables "
   ]
  },
  {
   "cell_type": "markdown",
   "metadata": {},
   "source": [
    ">1. Install and load the __Lahman__ library. This database includes data related to Baseball teams. It includes summary statistics about how the players performed on offense and defense for several years. It also includes personal information about the players.\n",
    ">\n",
    ">    The `Batting` data frame contains the offensive statistics for all players for many years. You can see, for example, the top 10 hitters by running this code:\n",
    ">    \n",
    ">    ```r\n",
    ">    library(Lahman)\n",
    ">    \n",
    ">    top <- Batting %>% \n",
    ">      filter(yearID == 2016) %>%\n",
    ">      arrange(desc(HR)) %>%\n",
    ">      slice(1:10)\n",
    ">    \n",
    ">    top %>% tbl_df\n",
    ">    ```\n",
    ">\n",
    ">    But who are these players? We see an ID, but not the names. The player names are in this table>\n",
    ">\n",
    ">    ```r\n",
    ">    Master %>% as_tibble()\n",
    ">    ```\n",
    ">\n",
    ">    We can see column names `nameFirst` and `nameLast`. Use the `left_join` function to create a table of the top >home run hitters. The table should have `playerID`, first name, last name, and number of home runs (HR).  Rewrite >the object `top` with this new table.    "
   ]
  },
  {
   "cell_type": "markdown",
   "metadata": {},
   "source": [
    ">2. Now use the `Salaries` data frame to add each player's salary to the table you created in exercise 1. Note that >salaries are different every year so make sure to filter for the year 2016, then use `right_join`. This time show >first name, last name, team, HR and salary.   "
   ]
  },
  {
   "cell_type": "markdown",
   "metadata": {},
   "source": [
    ">3. In a previous exercise, we created a tidy version of the `co2` dataset:\n",
    ">\n",
    ">\n",
    ">    ```r\n",
    ">    co2_wide <- data.frame(matrix(co2, ncol = 12, byrow = TRUE)) %>% \n",
    ">      setNames(1:12) %>%\n",
    ">      mutate(year = 1959:1997) %>%\n",
    ">      gather(month, co2, -year, convert = TRUE)\n",
    ">    ```\n",
    ">\n",
    ">    We want to see if the monthly trend is changing so we are going to remove the year effects and the plot the data. We will first compute the year averages. Use the `group_by` and `summarize` to compute the average co2 for each year. Save in an object called `yearly_avg`."
   ]
  },
  {
   "cell_type": "markdown",
   "metadata": {},
   "source": [
    ">4. Now use the `left_join` function to add the yearly average to the `co2_wide` dataset. Then compute the residuals: observed co2 measure - yearly average."
   ]
  },
  {
   "cell_type": "markdown",
   "metadata": {},
   "source": [
    ">5. Make a plot of the seasonal trends by year but only after removing the year effect."
   ]
  },
  {
   "cell_type": "code",
   "execution_count": null,
   "metadata": {},
   "outputs": [],
   "source": []
  }
 ],
 "metadata": {
  "kernelspec": {
   "display_name": "R",
   "language": "R",
   "name": "ir"
  },
  "language_info": {
   "codemirror_mode": "r",
   "file_extension": ".r",
   "mimetype": "text/x-r-source",
   "name": "R",
   "pygments_lexer": "r",
   "version": "3.5.2"
  }
 },
 "nbformat": 4,
 "nbformat_minor": 2
}
