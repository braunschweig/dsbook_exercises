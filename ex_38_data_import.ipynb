{
 "cells": [
  {
   "cell_type": "markdown",
   "metadata": {},
   "source": [
    "## Exercises "
   ]
  },
  {
   "cell_type": "markdown",
   "metadata": {},
   "source": [
    ">1. Use the `read_csv` function to read each of the files that the following code saves in the `files` object: \n",
    ">\n",
    ">    ```{r}\n",
    ">    path <- system.file(\"extdata\", package = \"dslabs\")\n",
    ">    files <- list.files(path)\n",
    ">    files\n",
    ">    ```"
   ]
  },
  {
   "cell_type": "markdown",
   "metadata": {},
   "source": [
    ">2. Note that the last one, the `olive` file, gives us a warning. This is because the first line of the file is missing the header for the first column. \n",
    ">\n",
    ">    Read the help file for `read.csv` to figure out how to read in the file without reading this header. If you skip the header, you should not get this warning. Save the result to an object called `dat`"
   ]
  },
  {
   "cell_type": "markdown",
   "metadata": {},
   "source": [
    ">3. A problem with the previous approach is that we don't know what the columns represent. Type:\n",
    ">\n",
    ">    ```{r}\n",
    ">    names(dat)\n",
    ">    ```\n",
    ">\n",
    ">    to see that the names are not informative.\n",
    ">\n",
    ">    Use the `readLines` function to read in just the first line (we later learn how to extract values from the output). "
   ]
  }
 ],
 "metadata": {
  "kernelspec": {
   "display_name": "R",
   "language": "R",
   "name": "ir"
  },
  "language_info": {
   "codemirror_mode": "r",
   "file_extension": ".r",
   "mimetype": "text/x-r-source",
   "name": "R",
   "pygments_lexer": "r",
   "version": "3.5.2"
  }
 },
 "nbformat": 4,
 "nbformat_minor": 2
}
