{
 "cells": [
  {
   "cell_type": "markdown",
   "metadata": {},
   "source": [
    "## Summary Ch. 40 string processing"
   ]
  },
  {
   "cell_type": "code",
   "execution_count": 1,
   "metadata": {},
   "outputs": [],
   "source": [
    "convert_format <- function(s){\n",
    "  s %>%\n",
    "    str_replace(\"feet|foot|ft\", \"'\") %>% #convert feet symbols to '\n",
    "    str_replace_all(\"inches|in|''|\\\"|cm|and\", \"\") %>%  #remove inches and other symbols\n",
    "    str_replace(\"^([4-7])\\\\s*[,\\\\.\\\\s+]\\\\s*(\\\\d*)$\", \"\\\\1'\\\\2\") %>% #change x.y, x,y x y\n",
    "    str_replace(\"^([56])'?$\", \"\\\\1'0\") %>% #add 0 when to 5 or 6\n",
    "    str_replace(\"^([12])\\\\s*,\\\\s*(\\\\d*)$\", \"\\\\1\\\\.\\\\2\") %>% #change european decimal\n",
    "    str_trim() #remove extra space\n",
    "}"
   ]
  },
  {
   "cell_type": "code",
   "execution_count": 2,
   "metadata": {},
   "outputs": [],
   "source": [
    "words_to_numbers <- function(s){\n",
    "  str_to_lower(s) %>%  \n",
    "    str_replace_all(\"zero\", \"0\") %>%\n",
    "    str_replace_all(\"one\", \"1\") %>%\n",
    "    str_replace_all(\"two\", \"2\") %>%\n",
    "    str_replace_all(\"three\", \"3\") %>%\n",
    "    str_replace_all(\"four\", \"4\") %>%\n",
    "    str_replace_all(\"five\", \"5\") %>%\n",
    "    str_replace_all(\"six\", \"6\") %>%\n",
    "    str_replace_all(\"seven\", \"7\") %>%\n",
    "    str_replace_all(\"eight\", \"8\") %>%\n",
    "    str_replace_all(\"nine\", \"9\") %>%\n",
    "    str_replace_all(\"ten\", \"10\") %>%\n",
    "    str_replace_all(\"eleven\", \"11\")\n",
    "}"
   ]
  },
  {
   "cell_type": "code",
   "execution_count": 3,
   "metadata": {},
   "outputs": [],
   "source": [
    "not_inches <- function(x, smallest = 50, tallest = 84){\n",
    "  inches <- suppressWarnings(as.numeric(x))\n",
    "  ind <- is.na(inches) | inches < smallest | inches > tallest\n",
    "  ind\n",
    "}"
   ]
  },
  {
   "cell_type": "code",
   "execution_count": 6,
   "metadata": {},
   "outputs": [],
   "source": [
    "not_inches <- function(x, smallest = 50, tallest = 84){\n",
    "inches <- suppressWarnings(as.numeric(x))\n",
    "  ind <- !is.na(inches) & \n",
    "    ((inches >= smallest & inches <= tallest) |\n",
    "       (inches/2.54 >= smallest & inches/2.54 <= tallest))\n",
    "  !ind\n",
    "}"
   ]
  },
  {
   "cell_type": "code",
   "execution_count": 7,
   "metadata": {},
   "outputs": [
    {
     "ename": "ERROR",
     "evalue": "Error in reported_heights %>% mutate(original = height, height = words_to_numbers(height) %>% : could not find function \"%>%\"\n",
     "output_type": "error",
     "traceback": [
      "Error in reported_heights %>% mutate(original = height, height = words_to_numbers(height) %>% : could not find function \"%>%\"\nTraceback:\n"
     ]
    }
   ],
   "source": [
    "pattern <- \"^([4-7])\\\\s*'\\\\s*(\\\\d+\\\\.?\\\\d*)$\"\n",
    "\n",
    "smallest <- 50\n",
    "tallest <- 84\n",
    "new_heights <- reported_heights %>% \n",
    "  mutate(original = height, \n",
    "  height = words_to_numbers(height) %>% convert_format()) %>%\n",
    "  extract(height, c(\"feet\", \"inches\"), regex = pattern, remove = FALSE) %>% \n",
    "  mutate_at(c(\"height\", \"feet\", \"inches\"), as.numeric) %>%\n",
    "  mutate(guess = 12*feet + inches) %>%\n",
    "  mutate(height = case_when(\n",
    "    !is.na(height) & between(height, smallest, tallest) ~ height, #inches \n",
    "    !is.na(height) & between(height/2.54, smallest, tallest) ~ height/2.54, #centimeters\n",
    "    !is.na(height) & between(height*100/2.54, smallest, tallest) ~ height*100/2.54, #meters\n",
    "    !is.na(guess) & inches < 12 & between(guess, smallest, tallest) ~ guess, #feet'inches\n",
    "    TRUE ~ as.numeric(NA))) %>%\n",
    "  select(-guess)"
   ]
  },
  {
   "cell_type": "code",
   "execution_count": 8,
   "metadata": {},
   "outputs": [
    {
     "ename": "ERROR",
     "evalue": "Error in new_heights %>% arrange(height) %>% head(n = 7): could not find function \"%>%\"\n",
     "output_type": "error",
     "traceback": [
      "Error in new_heights %>% arrange(height) %>% head(n = 7): could not find function \"%>%\"\nTraceback:\n"
     ]
    }
   ],
   "source": [
    "new_heights %>% arrange(height) %>% head(n=7)"
   ]
  },
  {
   "cell_type": "code",
   "execution_count": null,
   "metadata": {},
   "outputs": [],
   "source": []
  }
 ],
 "metadata": {
  "kernelspec": {
   "display_name": "R",
   "language": "R",
   "name": "ir"
  },
  "language_info": {
   "codemirror_mode": "r",
   "file_extension": ".r",
   "mimetype": "text/x-r-source",
   "name": "R",
   "pygments_lexer": "r",
   "version": "3.5.2"
  }
 },
 "nbformat": 4,
 "nbformat_minor": 2
}
