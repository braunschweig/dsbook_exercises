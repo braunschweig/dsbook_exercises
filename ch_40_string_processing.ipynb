{
 "cells": [
  {
   "cell_type": "markdown",
   "metadata": {},
   "source": [
    "## Summary Ch. 40 string processing"
   ]
  },
  {
   "cell_type": "code",
   "execution_count": 9,
   "metadata": {},
   "outputs": [
    {
     "name": "stderr",
     "output_type": "stream",
     "text": [
      "── Attaching packages ─────────────────────────────────────── tidyverse 1.2.1 ──\n",
      "✔ ggplot2 2.2.1     ✔ purrr   0.2.5\n",
      "✔ tibble  1.4.2     ✔ dplyr   0.7.6\n",
      "✔ tidyr   0.8.1     ✔ stringr 1.3.1\n",
      "✔ readr   1.1.1     ✔ forcats 0.3.0\n",
      "── Conflicts ────────────────────────────────────────── tidyverse_conflicts() ──\n",
      "✖ dplyr::filter() masks stats::filter()\n",
      "✖ dplyr::lag()    masks stats::lag()\n"
     ]
    }
   ],
   "source": [
    "library(tidyverse)"
   ]
  },
  {
   "cell_type": "code",
   "execution_count": 16,
   "metadata": {},
   "outputs": [],
   "source": [
    "library(dslabs)"
   ]
  },
  {
   "cell_type": "code",
   "execution_count": 17,
   "metadata": {},
   "outputs": [],
   "source": [
    "convert_format <- function(s){\n",
    "  s %>%\n",
    "    str_replace(\"feet|foot|ft\", \"'\") %>% #convert feet symbols to '\n",
    "    str_replace_all(\"inches|in|''|\\\"|cm|and\", \"\") %>%  #remove inches and other symbols\n",
    "    str_replace(\"^([4-7])\\\\s*[,\\\\.\\\\s+]\\\\s*(\\\\d*)$\", \"\\\\1'\\\\2\") %>% #change x.y, x,y x y\n",
    "    str_replace(\"^([56])'?$\", \"\\\\1'0\") %>% #add 0 when to 5 or 6\n",
    "    str_replace(\"^([12])\\\\s*,\\\\s*(\\\\d*)$\", \"\\\\1\\\\.\\\\2\") %>% #change european decimal\n",
    "    str_trim() #remove extra space\n",
    "}"
   ]
  },
  {
   "cell_type": "code",
   "execution_count": 18,
   "metadata": {},
   "outputs": [],
   "source": [
    "words_to_numbers <- function(s){\n",
    "  str_to_lower(s) %>%  \n",
    "    str_replace_all(\"zero\", \"0\") %>%\n",
    "    str_replace_all(\"one\", \"1\") %>%\n",
    "    str_replace_all(\"two\", \"2\") %>%\n",
    "    str_replace_all(\"three\", \"3\") %>%\n",
    "    str_replace_all(\"four\", \"4\") %>%\n",
    "    str_replace_all(\"five\", \"5\") %>%\n",
    "    str_replace_all(\"six\", \"6\") %>%\n",
    "    str_replace_all(\"seven\", \"7\") %>%\n",
    "    str_replace_all(\"eight\", \"8\") %>%\n",
    "    str_replace_all(\"nine\", \"9\") %>%\n",
    "    str_replace_all(\"ten\", \"10\") %>%\n",
    "    str_replace_all(\"eleven\", \"11\")\n",
    "}"
   ]
  },
  {
   "cell_type": "code",
   "execution_count": 19,
   "metadata": {},
   "outputs": [],
   "source": [
    "not_inches <- function(x, smallest = 50, tallest = 84){\n",
    "  inches <- suppressWarnings(as.numeric(x))\n",
    "  ind <- is.na(inches) | inches < smallest | inches > tallest\n",
    "  ind\n",
    "}"
   ]
  },
  {
   "cell_type": "code",
   "execution_count": 20,
   "metadata": {},
   "outputs": [],
   "source": [
    "not_inches <- function(x, smallest = 50, tallest = 84){\n",
    "inches <- suppressWarnings(as.numeric(x))\n",
    "  ind <- !is.na(inches) & \n",
    "    ((inches >= smallest & inches <= tallest) |\n",
    "       (inches/2.54 >= smallest & inches/2.54 <= tallest))\n",
    "  !ind\n",
    "}"
   ]
  },
  {
   "cell_type": "code",
   "execution_count": 21,
   "metadata": {},
   "outputs": [
    {
     "name": "stderr",
     "output_type": "stream",
     "text": [
      "Warning message in evalq(as.numeric(height), <environment>):\n",
      "“NAs introduced by coercion”"
     ]
    }
   ],
   "source": [
    "pattern <- \"^([4-7])\\\\s*'\\\\s*(\\\\d+\\\\.?\\\\d*)$\"\n",
    "\n",
    "smallest <- 50\n",
    "tallest <- 84\n",
    "new_heights <- reported_heights %>% \n",
    "  mutate(original = height, \n",
    "  height = words_to_numbers(height) %>% convert_format()) %>%\n",
    "  extract(height, c(\"feet\", \"inches\"), regex = pattern, remove = FALSE) %>% \n",
    "  mutate_at(c(\"height\", \"feet\", \"inches\"), as.numeric) %>%\n",
    "  mutate(guess = 12*feet + inches) %>%\n",
    "  mutate(height = case_when(\n",
    "    !is.na(height) & between(height, smallest, tallest) ~ height, #inches \n",
    "    !is.na(height) & between(height/2.54, smallest, tallest) ~ height/2.54, #centimeters\n",
    "    !is.na(height) & between(height*100/2.54, smallest, tallest) ~ height*100/2.54, #meters\n",
    "    !is.na(guess) & inches < 12 & between(guess, smallest, tallest) ~ guess, #feet'inches\n",
    "    TRUE ~ as.numeric(NA))) %>%\n",
    "  select(-guess)"
   ]
  },
  {
   "cell_type": "code",
   "execution_count": 22,
   "metadata": {},
   "outputs": [
    {
     "data": {
      "text/html": [
       "<table>\n",
       "<thead><tr><th scope=col>time_stamp</th><th scope=col>sex</th><th scope=col>height</th><th scope=col>feet</th><th scope=col>inches</th><th scope=col>original</th></tr></thead>\n",
       "<tbody>\n",
       "\t<tr><td>2017-07-04 01:30:25</td><td>Male               </td><td>50.00              </td><td>NA                 </td><td>NA                 </td><td>50                 </td></tr>\n",
       "\t<tr><td>2017-09-07 10:40:35</td><td>Male               </td><td>50.00              </td><td>NA                 </td><td>NA                 </td><td>50                 </td></tr>\n",
       "\t<tr><td>2014-09-02 15:18:30</td><td>Female             </td><td>51.00              </td><td>NA                 </td><td>NA                 </td><td>51                 </td></tr>\n",
       "\t<tr><td>2016-06-05 14:07:20</td><td>Female             </td><td>52.00              </td><td>NA                 </td><td>NA                 </td><td>52                 </td></tr>\n",
       "\t<tr><td>2016-06-05 14:07:38</td><td>Female             </td><td>52.00              </td><td>NA                 </td><td>NA                 </td><td>52                 </td></tr>\n",
       "\t<tr><td>2014-09-23 03:39:56</td><td>Female             </td><td>53.00              </td><td>NA                 </td><td>NA                 </td><td>53                 </td></tr>\n",
       "\t<tr><td>2015-01-07 08:57:29</td><td>Male               </td><td>53.77              </td><td>NA                 </td><td>NA                 </td><td>53.77              </td></tr>\n",
       "</tbody>\n",
       "</table>\n"
      ],
      "text/latex": [
       "\\begin{tabular}{r|llllll}\n",
       " time\\_stamp & sex & height & feet & inches & original\\\\\n",
       "\\hline\n",
       "\t 2017-07-04 01:30:25 & Male                & 50.00               & NA                  & NA                  & 50                 \\\\\n",
       "\t 2017-09-07 10:40:35 & Male                & 50.00               & NA                  & NA                  & 50                 \\\\\n",
       "\t 2014-09-02 15:18:30 & Female              & 51.00               & NA                  & NA                  & 51                 \\\\\n",
       "\t 2016-06-05 14:07:20 & Female              & 52.00               & NA                  & NA                  & 52                 \\\\\n",
       "\t 2016-06-05 14:07:38 & Female              & 52.00               & NA                  & NA                  & 52                 \\\\\n",
       "\t 2014-09-23 03:39:56 & Female              & 53.00               & NA                  & NA                  & 53                 \\\\\n",
       "\t 2015-01-07 08:57:29 & Male                & 53.77               & NA                  & NA                  & 53.77              \\\\\n",
       "\\end{tabular}\n"
      ],
      "text/markdown": [
       "\n",
       "| time_stamp | sex | height | feet | inches | original |\n",
       "|---|---|---|---|---|---|\n",
       "| 2017-07-04 01:30:25 | Male                | 50.00               | NA                  | NA                  | 50                  |\n",
       "| 2017-09-07 10:40:35 | Male                | 50.00               | NA                  | NA                  | 50                  |\n",
       "| 2014-09-02 15:18:30 | Female              | 51.00               | NA                  | NA                  | 51                  |\n",
       "| 2016-06-05 14:07:20 | Female              | 52.00               | NA                  | NA                  | 52                  |\n",
       "| 2016-06-05 14:07:38 | Female              | 52.00               | NA                  | NA                  | 52                  |\n",
       "| 2014-09-23 03:39:56 | Female              | 53.00               | NA                  | NA                  | 53                  |\n",
       "| 2015-01-07 08:57:29 | Male                | 53.77               | NA                  | NA                  | 53.77               |\n",
       "\n"
      ],
      "text/plain": [
       "  time_stamp          sex    height feet inches original\n",
       "1 2017-07-04 01:30:25 Male   50.00  NA   NA     50      \n",
       "2 2017-09-07 10:40:35 Male   50.00  NA   NA     50      \n",
       "3 2014-09-02 15:18:30 Female 51.00  NA   NA     51      \n",
       "4 2016-06-05 14:07:20 Female 52.00  NA   NA     52      \n",
       "5 2016-06-05 14:07:38 Female 52.00  NA   NA     52      \n",
       "6 2014-09-23 03:39:56 Female 53.00  NA   NA     53      \n",
       "7 2015-01-07 08:57:29 Male   53.77  NA   NA     53.77   "
      ]
     },
     "metadata": {},
     "output_type": "display_data"
    }
   ],
   "source": [
    "new_heights %>% arrange(height) %>% head(n=7) "
   ]
  }
 ],
 "metadata": {
  "kernelspec": {
   "display_name": "R",
   "language": "R",
   "name": "ir"
  },
  "language_info": {
   "codemirror_mode": "r",
   "file_extension": ".r",
   "mimetype": "text/x-r-source",
   "name": "R",
   "pygments_lexer": "r",
   "version": "3.5.2"
  }
 },
 "nbformat": 4,
 "nbformat_minor": 2
}
