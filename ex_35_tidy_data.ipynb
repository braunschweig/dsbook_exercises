{
 "cells": [
  {
   "cell_type": "markdown",
   "metadata": {},
   "source": [
    "## Exercises"
   ]
  },
  {
   "cell_type": "markdown",
   "metadata": {},
   "source": [
    ">1. Examine the dataset `co2`. Which of the following is true:\n",
    "\n",
    ">    A. `co2` is tidy data: it has one year for each row.\n",
    "\n",
    ">    B. `co2` is not tidy: we need at least one column with a character vector.\n",
    "\n",
    ">    C. `co2` is not tidy:  it is a matrix not a data frame.\n",
    "\n",
    ">    __D__. `co2` is not tidy: to be tidy we would have to wrangle it to have three columns: year, month and value; then each co2 observation has a row."
   ]
  },
  {
   "cell_type": "markdown",
   "metadata": {},
   "source": [
    "Definition of `tidy data` from this chapter is as follows: *each row represents one observation and the columns represent the different variables available for each of these observations* "
   ]
  },
  {
   "cell_type": "markdown",
   "metadata": {},
   "source": [
    "According to this defintion the time-series object does not define a tidy data set, because it is not defined wich observation belongs to which point in time. Therefore, answer **D** is the most likely one. The calculations below show that the object `Time-Series` contains 468 data points for each month for 39 years between 1959 and 1998, which are 468 points total."
   ]
  },
  {
   "cell_type": "code",
   "execution_count": 28,
   "metadata": {},
   "outputs": [
    {
     "name": "stderr",
     "output_type": "stream",
     "text": [
      "── Attaching packages ─────────────────────────────────────── tidyverse 1.2.1 ──\n",
      "✔ ggplot2 2.2.1     ✔ purrr   0.2.5\n",
      "✔ tibble  1.4.2     ✔ dplyr   0.7.6\n",
      "✔ tidyr   0.8.1     ✔ stringr 1.3.1\n",
      "✔ readr   1.1.1     ✔ forcats 0.3.0\n",
      "── Conflicts ────────────────────────────────────────── tidyverse_conflicts() ──\n",
      "✖ dplyr::filter() masks stats::filter()\n",
      "✖ dplyr::lag()    masks stats::lag()\n"
     ]
    }
   ],
   "source": [
    "library(tidyverse)"
   ]
  },
  {
   "cell_type": "code",
   "execution_count": 34,
   "metadata": {},
   "outputs": [],
   "source": [
    "library(dslabs)"
   ]
  },
  {
   "cell_type": "code",
   "execution_count": 35,
   "metadata": {},
   "outputs": [],
   "source": [
    "data(\"co2\")"
   ]
  },
  {
   "cell_type": "code",
   "execution_count": 36,
   "metadata": {},
   "outputs": [
    {
     "name": "stdout",
     "output_type": "stream",
     "text": [
      " Time-Series [1:468] from 1959 to 1998: 315 316 316 318 318 ...\n"
     ]
    }
   ],
   "source": [
    "str(co2)"
   ]
  },
  {
   "cell_type": "code",
   "execution_count": 37,
   "metadata": {},
   "outputs": [
    {
     "data": {
      "text/html": [
       "468"
      ],
      "text/latex": [
       "468"
      ],
      "text/markdown": [
       "468"
      ],
      "text/plain": [
       "[1] 468"
      ]
     },
     "metadata": {},
     "output_type": "display_data"
    }
   ],
   "source": [
    "length(co2)"
   ]
  },
  {
   "cell_type": "code",
   "execution_count": 58,
   "metadata": {},
   "outputs": [
    {
     "data": {
      "text/html": [
       "468"
      ],
      "text/latex": [
       "468"
      ],
      "text/markdown": [
       "468"
      ],
      "text/plain": [
       "[1] 468"
      ]
     },
     "metadata": {},
     "output_type": "display_data"
    }
   ],
   "source": [
    "(1998-1959)*12"
   ]
  },
  {
   "cell_type": "code",
   "execution_count": 1,
   "metadata": {},
   "outputs": [],
   "source": [
    "months <- rep(1:12,39)"
   ]
  },
  {
   "cell_type": "code",
   "execution_count": 41,
   "metadata": {},
   "outputs": [],
   "source": [
    "years <- rep(1960:1998,12)"
   ]
  },
  {
   "cell_type": "code",
   "execution_count": 45,
   "metadata": {},
   "outputs": [],
   "source": [
    "years <- sort(years)"
   ]
  },
  {
   "cell_type": "code",
   "execution_count": 47,
   "metadata": {},
   "outputs": [
    {
     "data": {
      "text/html": [
       "<table>\n",
       "<thead><tr><th scope=col>years</th><th scope=col>months</th><th scope=col>co2</th></tr></thead>\n",
       "<tbody>\n",
       "\t<tr><td>1960  </td><td> 1    </td><td>315.42</td></tr>\n",
       "\t<tr><td>1960  </td><td> 2    </td><td>316.31</td></tr>\n",
       "\t<tr><td>1960  </td><td> 3    </td><td>316.50</td></tr>\n",
       "\t<tr><td>1960  </td><td> 4    </td><td>317.56</td></tr>\n",
       "\t<tr><td>1960  </td><td> 5    </td><td>318.13</td></tr>\n",
       "\t<tr><td>1960  </td><td> 6    </td><td>318.00</td></tr>\n",
       "\t<tr><td>1960  </td><td> 7    </td><td>316.39</td></tr>\n",
       "\t<tr><td>1960  </td><td> 8    </td><td>314.65</td></tr>\n",
       "\t<tr><td>1960  </td><td> 9    </td><td>313.68</td></tr>\n",
       "\t<tr><td>1960  </td><td>10    </td><td>313.18</td></tr>\n",
       "\t<tr><td>1960  </td><td>11    </td><td>314.66</td></tr>\n",
       "\t<tr><td>1960  </td><td>12    </td><td>315.43</td></tr>\n",
       "\t<tr><td>1961  </td><td> 1    </td><td>316.27</td></tr>\n",
       "\t<tr><td>1961  </td><td> 2    </td><td>316.81</td></tr>\n",
       "\t<tr><td>1961  </td><td> 3    </td><td>317.42</td></tr>\n",
       "\t<tr><td>1961  </td><td> 4    </td><td>318.87</td></tr>\n",
       "\t<tr><td>1961  </td><td> 5    </td><td>319.87</td></tr>\n",
       "\t<tr><td>1961  </td><td> 6    </td><td>319.43</td></tr>\n",
       "\t<tr><td>1961  </td><td> 7    </td><td>318.01</td></tr>\n",
       "\t<tr><td>1961  </td><td> 8    </td><td>315.74</td></tr>\n",
       "\t<tr><td>1961  </td><td> 9    </td><td>314.00</td></tr>\n",
       "\t<tr><td>1961  </td><td>10    </td><td>313.68</td></tr>\n",
       "\t<tr><td>1961  </td><td>11    </td><td>314.84</td></tr>\n",
       "\t<tr><td>1961  </td><td>12    </td><td>316.03</td></tr>\n",
       "\t<tr><td>1962  </td><td> 1    </td><td>316.73</td></tr>\n",
       "\t<tr><td>1962  </td><td> 2    </td><td>317.54</td></tr>\n",
       "\t<tr><td>1962  </td><td> 3    </td><td>318.38</td></tr>\n",
       "\t<tr><td>1962  </td><td> 4    </td><td>319.31</td></tr>\n",
       "\t<tr><td>1962  </td><td> 5    </td><td>320.42</td></tr>\n",
       "\t<tr><td>1962  </td><td> 6    </td><td>319.61</td></tr>\n",
       "\t<tr><td>⋮</td><td>⋮</td><td>⋮</td></tr>\n",
       "\t<tr><td>1996  </td><td> 7    </td><td>361.94</td></tr>\n",
       "\t<tr><td>1996  </td><td> 8    </td><td>359.50</td></tr>\n",
       "\t<tr><td>1996  </td><td> 9    </td><td>358.11</td></tr>\n",
       "\t<tr><td>1996  </td><td>10    </td><td>357.80</td></tr>\n",
       "\t<tr><td>1996  </td><td>11    </td><td>359.61</td></tr>\n",
       "\t<tr><td>1996  </td><td>12    </td><td>360.74</td></tr>\n",
       "\t<tr><td>1997  </td><td> 1    </td><td>362.09</td></tr>\n",
       "\t<tr><td>1997  </td><td> 2    </td><td>363.29</td></tr>\n",
       "\t<tr><td>1997  </td><td> 3    </td><td>364.06</td></tr>\n",
       "\t<tr><td>1997  </td><td> 4    </td><td>364.76</td></tr>\n",
       "\t<tr><td>1997  </td><td> 5    </td><td>365.45</td></tr>\n",
       "\t<tr><td>1997  </td><td> 6    </td><td>365.01</td></tr>\n",
       "\t<tr><td>1997  </td><td> 7    </td><td>363.70</td></tr>\n",
       "\t<tr><td>1997  </td><td> 8    </td><td>361.54</td></tr>\n",
       "\t<tr><td>1997  </td><td> 9    </td><td>359.51</td></tr>\n",
       "\t<tr><td>1997  </td><td>10    </td><td>359.65</td></tr>\n",
       "\t<tr><td>1997  </td><td>11    </td><td>360.80</td></tr>\n",
       "\t<tr><td>1997  </td><td>12    </td><td>362.38</td></tr>\n",
       "\t<tr><td>1998  </td><td> 1    </td><td>363.23</td></tr>\n",
       "\t<tr><td>1998  </td><td> 2    </td><td>364.06</td></tr>\n",
       "\t<tr><td>1998  </td><td> 3    </td><td>364.61</td></tr>\n",
       "\t<tr><td>1998  </td><td> 4    </td><td>366.40</td></tr>\n",
       "\t<tr><td>1998  </td><td> 5    </td><td>366.84</td></tr>\n",
       "\t<tr><td>1998  </td><td> 6    </td><td>365.68</td></tr>\n",
       "\t<tr><td>1998  </td><td> 7    </td><td>364.52</td></tr>\n",
       "\t<tr><td>1998  </td><td> 8    </td><td>362.57</td></tr>\n",
       "\t<tr><td>1998  </td><td> 9    </td><td>360.24</td></tr>\n",
       "\t<tr><td>1998  </td><td>10    </td><td>360.83</td></tr>\n",
       "\t<tr><td>1998  </td><td>11    </td><td>362.49</td></tr>\n",
       "\t<tr><td>1998  </td><td>12    </td><td>364.34</td></tr>\n",
       "</tbody>\n",
       "</table>\n"
      ],
      "text/latex": [
       "\\begin{tabular}{r|lll}\n",
       " years & months & co2\\\\\n",
       "\\hline\n",
       "\t 1960   &  1     & 315.42\\\\\n",
       "\t 1960   &  2     & 316.31\\\\\n",
       "\t 1960   &  3     & 316.50\\\\\n",
       "\t 1960   &  4     & 317.56\\\\\n",
       "\t 1960   &  5     & 318.13\\\\\n",
       "\t 1960   &  6     & 318.00\\\\\n",
       "\t 1960   &  7     & 316.39\\\\\n",
       "\t 1960   &  8     & 314.65\\\\\n",
       "\t 1960   &  9     & 313.68\\\\\n",
       "\t 1960   & 10     & 313.18\\\\\n",
       "\t 1960   & 11     & 314.66\\\\\n",
       "\t 1960   & 12     & 315.43\\\\\n",
       "\t 1961   &  1     & 316.27\\\\\n",
       "\t 1961   &  2     & 316.81\\\\\n",
       "\t 1961   &  3     & 317.42\\\\\n",
       "\t 1961   &  4     & 318.87\\\\\n",
       "\t 1961   &  5     & 319.87\\\\\n",
       "\t 1961   &  6     & 319.43\\\\\n",
       "\t 1961   &  7     & 318.01\\\\\n",
       "\t 1961   &  8     & 315.74\\\\\n",
       "\t 1961   &  9     & 314.00\\\\\n",
       "\t 1961   & 10     & 313.68\\\\\n",
       "\t 1961   & 11     & 314.84\\\\\n",
       "\t 1961   & 12     & 316.03\\\\\n",
       "\t 1962   &  1     & 316.73\\\\\n",
       "\t 1962   &  2     & 317.54\\\\\n",
       "\t 1962   &  3     & 318.38\\\\\n",
       "\t 1962   &  4     & 319.31\\\\\n",
       "\t 1962   &  5     & 320.42\\\\\n",
       "\t 1962   &  6     & 319.61\\\\\n",
       "\t ⋮ & ⋮ & ⋮\\\\\n",
       "\t 1996   &  7     & 361.94\\\\\n",
       "\t 1996   &  8     & 359.50\\\\\n",
       "\t 1996   &  9     & 358.11\\\\\n",
       "\t 1996   & 10     & 357.80\\\\\n",
       "\t 1996   & 11     & 359.61\\\\\n",
       "\t 1996   & 12     & 360.74\\\\\n",
       "\t 1997   &  1     & 362.09\\\\\n",
       "\t 1997   &  2     & 363.29\\\\\n",
       "\t 1997   &  3     & 364.06\\\\\n",
       "\t 1997   &  4     & 364.76\\\\\n",
       "\t 1997   &  5     & 365.45\\\\\n",
       "\t 1997   &  6     & 365.01\\\\\n",
       "\t 1997   &  7     & 363.70\\\\\n",
       "\t 1997   &  8     & 361.54\\\\\n",
       "\t 1997   &  9     & 359.51\\\\\n",
       "\t 1997   & 10     & 359.65\\\\\n",
       "\t 1997   & 11     & 360.80\\\\\n",
       "\t 1997   & 12     & 362.38\\\\\n",
       "\t 1998   &  1     & 363.23\\\\\n",
       "\t 1998   &  2     & 364.06\\\\\n",
       "\t 1998   &  3     & 364.61\\\\\n",
       "\t 1998   &  4     & 366.40\\\\\n",
       "\t 1998   &  5     & 366.84\\\\\n",
       "\t 1998   &  6     & 365.68\\\\\n",
       "\t 1998   &  7     & 364.52\\\\\n",
       "\t 1998   &  8     & 362.57\\\\\n",
       "\t 1998   &  9     & 360.24\\\\\n",
       "\t 1998   & 10     & 360.83\\\\\n",
       "\t 1998   & 11     & 362.49\\\\\n",
       "\t 1998   & 12     & 364.34\\\\\n",
       "\\end{tabular}\n"
      ],
      "text/markdown": [
       "\n",
       "| years | months | co2 |\n",
       "|---|---|---|\n",
       "| 1960   |  1     | 315.42 |\n",
       "| 1960   |  2     | 316.31 |\n",
       "| 1960   |  3     | 316.50 |\n",
       "| 1960   |  4     | 317.56 |\n",
       "| 1960   |  5     | 318.13 |\n",
       "| 1960   |  6     | 318.00 |\n",
       "| 1960   |  7     | 316.39 |\n",
       "| 1960   |  8     | 314.65 |\n",
       "| 1960   |  9     | 313.68 |\n",
       "| 1960   | 10     | 313.18 |\n",
       "| 1960   | 11     | 314.66 |\n",
       "| 1960   | 12     | 315.43 |\n",
       "| 1961   |  1     | 316.27 |\n",
       "| 1961   |  2     | 316.81 |\n",
       "| 1961   |  3     | 317.42 |\n",
       "| 1961   |  4     | 318.87 |\n",
       "| 1961   |  5     | 319.87 |\n",
       "| 1961   |  6     | 319.43 |\n",
       "| 1961   |  7     | 318.01 |\n",
       "| 1961   |  8     | 315.74 |\n",
       "| 1961   |  9     | 314.00 |\n",
       "| 1961   | 10     | 313.68 |\n",
       "| 1961   | 11     | 314.84 |\n",
       "| 1961   | 12     | 316.03 |\n",
       "| 1962   |  1     | 316.73 |\n",
       "| 1962   |  2     | 317.54 |\n",
       "| 1962   |  3     | 318.38 |\n",
       "| 1962   |  4     | 319.31 |\n",
       "| 1962   |  5     | 320.42 |\n",
       "| 1962   |  6     | 319.61 |\n",
       "| ⋮ | ⋮ | ⋮ |\n",
       "| 1996   |  7     | 361.94 |\n",
       "| 1996   |  8     | 359.50 |\n",
       "| 1996   |  9     | 358.11 |\n",
       "| 1996   | 10     | 357.80 |\n",
       "| 1996   | 11     | 359.61 |\n",
       "| 1996   | 12     | 360.74 |\n",
       "| 1997   |  1     | 362.09 |\n",
       "| 1997   |  2     | 363.29 |\n",
       "| 1997   |  3     | 364.06 |\n",
       "| 1997   |  4     | 364.76 |\n",
       "| 1997   |  5     | 365.45 |\n",
       "| 1997   |  6     | 365.01 |\n",
       "| 1997   |  7     | 363.70 |\n",
       "| 1997   |  8     | 361.54 |\n",
       "| 1997   |  9     | 359.51 |\n",
       "| 1997   | 10     | 359.65 |\n",
       "| 1997   | 11     | 360.80 |\n",
       "| 1997   | 12     | 362.38 |\n",
       "| 1998   |  1     | 363.23 |\n",
       "| 1998   |  2     | 364.06 |\n",
       "| 1998   |  3     | 364.61 |\n",
       "| 1998   |  4     | 366.40 |\n",
       "| 1998   |  5     | 366.84 |\n",
       "| 1998   |  6     | 365.68 |\n",
       "| 1998   |  7     | 364.52 |\n",
       "| 1998   |  8     | 362.57 |\n",
       "| 1998   |  9     | 360.24 |\n",
       "| 1998   | 10     | 360.83 |\n",
       "| 1998   | 11     | 362.49 |\n",
       "| 1998   | 12     | 364.34 |\n",
       "\n"
      ],
      "text/plain": [
       "    years months co2   \n",
       "1   1960   1     315.42\n",
       "2   1960   2     316.31\n",
       "3   1960   3     316.50\n",
       "4   1960   4     317.56\n",
       "5   1960   5     318.13\n",
       "6   1960   6     318.00\n",
       "7   1960   7     316.39\n",
       "8   1960   8     314.65\n",
       "9   1960   9     313.68\n",
       "10  1960  10     313.18\n",
       "11  1960  11     314.66\n",
       "12  1960  12     315.43\n",
       "13  1961   1     316.27\n",
       "14  1961   2     316.81\n",
       "15  1961   3     317.42\n",
       "16  1961   4     318.87\n",
       "17  1961   5     319.87\n",
       "18  1961   6     319.43\n",
       "19  1961   7     318.01\n",
       "20  1961   8     315.74\n",
       "21  1961   9     314.00\n",
       "22  1961  10     313.68\n",
       "23  1961  11     314.84\n",
       "24  1961  12     316.03\n",
       "25  1962   1     316.73\n",
       "26  1962   2     317.54\n",
       "27  1962   3     318.38\n",
       "28  1962   4     319.31\n",
       "29  1962   5     320.42\n",
       "30  1962   6     319.61\n",
       "⋮   ⋮     ⋮      ⋮     \n",
       "439 1996   7     361.94\n",
       "440 1996   8     359.50\n",
       "441 1996   9     358.11\n",
       "442 1996  10     357.80\n",
       "443 1996  11     359.61\n",
       "444 1996  12     360.74\n",
       "445 1997   1     362.09\n",
       "446 1997   2     363.29\n",
       "447 1997   3     364.06\n",
       "448 1997   4     364.76\n",
       "449 1997   5     365.45\n",
       "450 1997   6     365.01\n",
       "451 1997   7     363.70\n",
       "452 1997   8     361.54\n",
       "453 1997   9     359.51\n",
       "454 1997  10     359.65\n",
       "455 1997  11     360.80\n",
       "456 1997  12     362.38\n",
       "457 1998   1     363.23\n",
       "458 1998   2     364.06\n",
       "459 1998   3     364.61\n",
       "460 1998   4     366.40\n",
       "461 1998   5     366.84\n",
       "462 1998   6     365.68\n",
       "463 1998   7     364.52\n",
       "464 1998   8     362.57\n",
       "465 1998   9     360.24\n",
       "466 1998  10     360.83\n",
       "467 1998  11     362.49\n",
       "468 1998  12     364.34"
      ]
     },
     "metadata": {},
     "output_type": "display_data"
    }
   ],
   "source": [
    "as.tibble(cbind(years,months,co2)) %>% arrange(years,months)"
   ]
  },
  {
   "cell_type": "markdown",
   "metadata": {},
   "source": [
    ">2. Examine the dataset  `ChickWeight`. Which of the following is true:\n",
    "\n",
    ">    A.  `ChickWeight` is not tidy: each chick has more than one row. \n",
    "\n",
    ">    B.  `ChickWeight` is tidy: each observation, here a weight, is represented by one row. The chick from which this measurement came from is one the variables.\n",
    "\n",
    ">    C.  `ChickWeight` is not a tidy: we are missing the year column.\n",
    "\n",
    ">    D.  `ChickWeight` is tidy: it is stored in a data frame."
   ]
  },
  {
   "cell_type": "code",
   "execution_count": 25,
   "metadata": {},
   "outputs": [],
   "source": [
    "data(ChickWeight)"
   ]
  },
  {
   "cell_type": "code",
   "execution_count": 26,
   "metadata": {},
   "outputs": [
    {
     "data": {
      "text/html": [
       "<table>\n",
       "<thead><tr><th scope=col>weight</th><th scope=col>Time</th><th scope=col>Chick</th><th scope=col>Diet</th></tr></thead>\n",
       "<tbody>\n",
       "\t<tr><td> 42</td><td> 0 </td><td>1  </td><td>1  </td></tr>\n",
       "\t<tr><td> 51</td><td> 2 </td><td>1  </td><td>1  </td></tr>\n",
       "\t<tr><td> 59</td><td> 4 </td><td>1  </td><td>1  </td></tr>\n",
       "\t<tr><td> 64</td><td> 6 </td><td>1  </td><td>1  </td></tr>\n",
       "\t<tr><td> 76</td><td> 8 </td><td>1  </td><td>1  </td></tr>\n",
       "\t<tr><td> 93</td><td>10 </td><td>1  </td><td>1  </td></tr>\n",
       "\t<tr><td>106</td><td>12 </td><td>1  </td><td>1  </td></tr>\n",
       "\t<tr><td>125</td><td>14 </td><td>1  </td><td>1  </td></tr>\n",
       "\t<tr><td>149</td><td>16 </td><td>1  </td><td>1  </td></tr>\n",
       "\t<tr><td>171</td><td>18 </td><td>1  </td><td>1  </td></tr>\n",
       "\t<tr><td>199</td><td>20 </td><td>1  </td><td>1  </td></tr>\n",
       "\t<tr><td>205</td><td>21 </td><td>1  </td><td>1  </td></tr>\n",
       "\t<tr><td> 40</td><td> 0 </td><td>2  </td><td>1  </td></tr>\n",
       "\t<tr><td> 49</td><td> 2 </td><td>2  </td><td>1  </td></tr>\n",
       "\t<tr><td> 58</td><td> 4 </td><td>2  </td><td>1  </td></tr>\n",
       "\t<tr><td> 72</td><td> 6 </td><td>2  </td><td>1  </td></tr>\n",
       "\t<tr><td> 84</td><td> 8 </td><td>2  </td><td>1  </td></tr>\n",
       "\t<tr><td>103</td><td>10 </td><td>2  </td><td>1  </td></tr>\n",
       "\t<tr><td>122</td><td>12 </td><td>2  </td><td>1  </td></tr>\n",
       "\t<tr><td>138</td><td>14 </td><td>2  </td><td>1  </td></tr>\n",
       "\t<tr><td>162</td><td>16 </td><td>2  </td><td>1  </td></tr>\n",
       "\t<tr><td>187</td><td>18 </td><td>2  </td><td>1  </td></tr>\n",
       "\t<tr><td>209</td><td>20 </td><td>2  </td><td>1  </td></tr>\n",
       "\t<tr><td>215</td><td>21 </td><td>2  </td><td>1  </td></tr>\n",
       "\t<tr><td> 43</td><td> 0 </td><td>3  </td><td>1  </td></tr>\n",
       "\t<tr><td> 39</td><td> 2 </td><td>3  </td><td>1  </td></tr>\n",
       "\t<tr><td> 55</td><td> 4 </td><td>3  </td><td>1  </td></tr>\n",
       "\t<tr><td> 67</td><td> 6 </td><td>3  </td><td>1  </td></tr>\n",
       "\t<tr><td> 84</td><td> 8 </td><td>3  </td><td>1  </td></tr>\n",
       "\t<tr><td> 99</td><td>10 </td><td>3  </td><td>1  </td></tr>\n",
       "\t<tr><td>⋮</td><td>⋮</td><td>⋮</td><td>⋮</td></tr>\n",
       "\t<tr><td>154</td><td>12 </td><td>48 </td><td>4  </td></tr>\n",
       "\t<tr><td>170</td><td>14 </td><td>48 </td><td>4  </td></tr>\n",
       "\t<tr><td>222</td><td>16 </td><td>48 </td><td>4  </td></tr>\n",
       "\t<tr><td>261</td><td>18 </td><td>48 </td><td>4  </td></tr>\n",
       "\t<tr><td>303</td><td>20 </td><td>48 </td><td>4  </td></tr>\n",
       "\t<tr><td>322</td><td>21 </td><td>48 </td><td>4  </td></tr>\n",
       "\t<tr><td> 40</td><td> 0 </td><td>49 </td><td>4  </td></tr>\n",
       "\t<tr><td> 53</td><td> 2 </td><td>49 </td><td>4  </td></tr>\n",
       "\t<tr><td> 64</td><td> 4 </td><td>49 </td><td>4  </td></tr>\n",
       "\t<tr><td> 85</td><td> 6 </td><td>49 </td><td>4  </td></tr>\n",
       "\t<tr><td>108</td><td> 8 </td><td>49 </td><td>4  </td></tr>\n",
       "\t<tr><td>128</td><td>10 </td><td>49 </td><td>4  </td></tr>\n",
       "\t<tr><td>152</td><td>12 </td><td>49 </td><td>4  </td></tr>\n",
       "\t<tr><td>166</td><td>14 </td><td>49 </td><td>4  </td></tr>\n",
       "\t<tr><td>184</td><td>16 </td><td>49 </td><td>4  </td></tr>\n",
       "\t<tr><td>203</td><td>18 </td><td>49 </td><td>4  </td></tr>\n",
       "\t<tr><td>233</td><td>20 </td><td>49 </td><td>4  </td></tr>\n",
       "\t<tr><td>237</td><td>21 </td><td>49 </td><td>4  </td></tr>\n",
       "\t<tr><td> 41</td><td> 0 </td><td>50 </td><td>4  </td></tr>\n",
       "\t<tr><td> 54</td><td> 2 </td><td>50 </td><td>4  </td></tr>\n",
       "\t<tr><td> 67</td><td> 4 </td><td>50 </td><td>4  </td></tr>\n",
       "\t<tr><td> 84</td><td> 6 </td><td>50 </td><td>4  </td></tr>\n",
       "\t<tr><td>105</td><td> 8 </td><td>50 </td><td>4  </td></tr>\n",
       "\t<tr><td>122</td><td>10 </td><td>50 </td><td>4  </td></tr>\n",
       "\t<tr><td>155</td><td>12 </td><td>50 </td><td>4  </td></tr>\n",
       "\t<tr><td>175</td><td>14 </td><td>50 </td><td>4  </td></tr>\n",
       "\t<tr><td>205</td><td>16 </td><td>50 </td><td>4  </td></tr>\n",
       "\t<tr><td>234</td><td>18 </td><td>50 </td><td>4  </td></tr>\n",
       "\t<tr><td>264</td><td>20 </td><td>50 </td><td>4  </td></tr>\n",
       "\t<tr><td>264</td><td>21 </td><td>50 </td><td>4  </td></tr>\n",
       "</tbody>\n",
       "</table>\n"
      ],
      "text/latex": [
       "\\begin{tabular}{r|llll}\n",
       " weight & Time & Chick & Diet\\\\\n",
       "\\hline\n",
       "\t  42 &  0  & 1   & 1  \\\\\n",
       "\t  51 &  2  & 1   & 1  \\\\\n",
       "\t  59 &  4  & 1   & 1  \\\\\n",
       "\t  64 &  6  & 1   & 1  \\\\\n",
       "\t  76 &  8  & 1   & 1  \\\\\n",
       "\t  93 & 10  & 1   & 1  \\\\\n",
       "\t 106 & 12  & 1   & 1  \\\\\n",
       "\t 125 & 14  & 1   & 1  \\\\\n",
       "\t 149 & 16  & 1   & 1  \\\\\n",
       "\t 171 & 18  & 1   & 1  \\\\\n",
       "\t 199 & 20  & 1   & 1  \\\\\n",
       "\t 205 & 21  & 1   & 1  \\\\\n",
       "\t  40 &  0  & 2   & 1  \\\\\n",
       "\t  49 &  2  & 2   & 1  \\\\\n",
       "\t  58 &  4  & 2   & 1  \\\\\n",
       "\t  72 &  6  & 2   & 1  \\\\\n",
       "\t  84 &  8  & 2   & 1  \\\\\n",
       "\t 103 & 10  & 2   & 1  \\\\\n",
       "\t 122 & 12  & 2   & 1  \\\\\n",
       "\t 138 & 14  & 2   & 1  \\\\\n",
       "\t 162 & 16  & 2   & 1  \\\\\n",
       "\t 187 & 18  & 2   & 1  \\\\\n",
       "\t 209 & 20  & 2   & 1  \\\\\n",
       "\t 215 & 21  & 2   & 1  \\\\\n",
       "\t  43 &  0  & 3   & 1  \\\\\n",
       "\t  39 &  2  & 3   & 1  \\\\\n",
       "\t  55 &  4  & 3   & 1  \\\\\n",
       "\t  67 &  6  & 3   & 1  \\\\\n",
       "\t  84 &  8  & 3   & 1  \\\\\n",
       "\t  99 & 10  & 3   & 1  \\\\\n",
       "\t ⋮ & ⋮ & ⋮ & ⋮\\\\\n",
       "\t 154 & 12  & 48  & 4  \\\\\n",
       "\t 170 & 14  & 48  & 4  \\\\\n",
       "\t 222 & 16  & 48  & 4  \\\\\n",
       "\t 261 & 18  & 48  & 4  \\\\\n",
       "\t 303 & 20  & 48  & 4  \\\\\n",
       "\t 322 & 21  & 48  & 4  \\\\\n",
       "\t  40 &  0  & 49  & 4  \\\\\n",
       "\t  53 &  2  & 49  & 4  \\\\\n",
       "\t  64 &  4  & 49  & 4  \\\\\n",
       "\t  85 &  6  & 49  & 4  \\\\\n",
       "\t 108 &  8  & 49  & 4  \\\\\n",
       "\t 128 & 10  & 49  & 4  \\\\\n",
       "\t 152 & 12  & 49  & 4  \\\\\n",
       "\t 166 & 14  & 49  & 4  \\\\\n",
       "\t 184 & 16  & 49  & 4  \\\\\n",
       "\t 203 & 18  & 49  & 4  \\\\\n",
       "\t 233 & 20  & 49  & 4  \\\\\n",
       "\t 237 & 21  & 49  & 4  \\\\\n",
       "\t  41 &  0  & 50  & 4  \\\\\n",
       "\t  54 &  2  & 50  & 4  \\\\\n",
       "\t  67 &  4  & 50  & 4  \\\\\n",
       "\t  84 &  6  & 50  & 4  \\\\\n",
       "\t 105 &  8  & 50  & 4  \\\\\n",
       "\t 122 & 10  & 50  & 4  \\\\\n",
       "\t 155 & 12  & 50  & 4  \\\\\n",
       "\t 175 & 14  & 50  & 4  \\\\\n",
       "\t 205 & 16  & 50  & 4  \\\\\n",
       "\t 234 & 18  & 50  & 4  \\\\\n",
       "\t 264 & 20  & 50  & 4  \\\\\n",
       "\t 264 & 21  & 50  & 4  \\\\\n",
       "\\end{tabular}\n"
      ],
      "text/markdown": [
       "\n",
       "| weight | Time | Chick | Diet |\n",
       "|---|---|---|---|\n",
       "|  42 |  0  | 1   | 1   |\n",
       "|  51 |  2  | 1   | 1   |\n",
       "|  59 |  4  | 1   | 1   |\n",
       "|  64 |  6  | 1   | 1   |\n",
       "|  76 |  8  | 1   | 1   |\n",
       "|  93 | 10  | 1   | 1   |\n",
       "| 106 | 12  | 1   | 1   |\n",
       "| 125 | 14  | 1   | 1   |\n",
       "| 149 | 16  | 1   | 1   |\n",
       "| 171 | 18  | 1   | 1   |\n",
       "| 199 | 20  | 1   | 1   |\n",
       "| 205 | 21  | 1   | 1   |\n",
       "|  40 |  0  | 2   | 1   |\n",
       "|  49 |  2  | 2   | 1   |\n",
       "|  58 |  4  | 2   | 1   |\n",
       "|  72 |  6  | 2   | 1   |\n",
       "|  84 |  8  | 2   | 1   |\n",
       "| 103 | 10  | 2   | 1   |\n",
       "| 122 | 12  | 2   | 1   |\n",
       "| 138 | 14  | 2   | 1   |\n",
       "| 162 | 16  | 2   | 1   |\n",
       "| 187 | 18  | 2   | 1   |\n",
       "| 209 | 20  | 2   | 1   |\n",
       "| 215 | 21  | 2   | 1   |\n",
       "|  43 |  0  | 3   | 1   |\n",
       "|  39 |  2  | 3   | 1   |\n",
       "|  55 |  4  | 3   | 1   |\n",
       "|  67 |  6  | 3   | 1   |\n",
       "|  84 |  8  | 3   | 1   |\n",
       "|  99 | 10  | 3   | 1   |\n",
       "| ⋮ | ⋮ | ⋮ | ⋮ |\n",
       "| 154 | 12  | 48  | 4   |\n",
       "| 170 | 14  | 48  | 4   |\n",
       "| 222 | 16  | 48  | 4   |\n",
       "| 261 | 18  | 48  | 4   |\n",
       "| 303 | 20  | 48  | 4   |\n",
       "| 322 | 21  | 48  | 4   |\n",
       "|  40 |  0  | 49  | 4   |\n",
       "|  53 |  2  | 49  | 4   |\n",
       "|  64 |  4  | 49  | 4   |\n",
       "|  85 |  6  | 49  | 4   |\n",
       "| 108 |  8  | 49  | 4   |\n",
       "| 128 | 10  | 49  | 4   |\n",
       "| 152 | 12  | 49  | 4   |\n",
       "| 166 | 14  | 49  | 4   |\n",
       "| 184 | 16  | 49  | 4   |\n",
       "| 203 | 18  | 49  | 4   |\n",
       "| 233 | 20  | 49  | 4   |\n",
       "| 237 | 21  | 49  | 4   |\n",
       "|  41 |  0  | 50  | 4   |\n",
       "|  54 |  2  | 50  | 4   |\n",
       "|  67 |  4  | 50  | 4   |\n",
       "|  84 |  6  | 50  | 4   |\n",
       "| 105 |  8  | 50  | 4   |\n",
       "| 122 | 10  | 50  | 4   |\n",
       "| 155 | 12  | 50  | 4   |\n",
       "| 175 | 14  | 50  | 4   |\n",
       "| 205 | 16  | 50  | 4   |\n",
       "| 234 | 18  | 50  | 4   |\n",
       "| 264 | 20  | 50  | 4   |\n",
       "| 264 | 21  | 50  | 4   |\n",
       "\n"
      ],
      "text/plain": [
       "    weight Time Chick Diet\n",
       "1    42     0   1     1   \n",
       "2    51     2   1     1   \n",
       "3    59     4   1     1   \n",
       "4    64     6   1     1   \n",
       "5    76     8   1     1   \n",
       "6    93    10   1     1   \n",
       "7   106    12   1     1   \n",
       "8   125    14   1     1   \n",
       "9   149    16   1     1   \n",
       "10  171    18   1     1   \n",
       "11  199    20   1     1   \n",
       "12  205    21   1     1   \n",
       "13   40     0   2     1   \n",
       "14   49     2   2     1   \n",
       "15   58     4   2     1   \n",
       "16   72     6   2     1   \n",
       "17   84     8   2     1   \n",
       "18  103    10   2     1   \n",
       "19  122    12   2     1   \n",
       "20  138    14   2     1   \n",
       "21  162    16   2     1   \n",
       "22  187    18   2     1   \n",
       "23  209    20   2     1   \n",
       "24  215    21   2     1   \n",
       "25   43     0   3     1   \n",
       "26   39     2   3     1   \n",
       "27   55     4   3     1   \n",
       "28   67     6   3     1   \n",
       "29   84     8   3     1   \n",
       "30   99    10   3     1   \n",
       "⋮   ⋮      ⋮    ⋮     ⋮   \n",
       "549 154    12   48    4   \n",
       "550 170    14   48    4   \n",
       "551 222    16   48    4   \n",
       "552 261    18   48    4   \n",
       "553 303    20   48    4   \n",
       "554 322    21   48    4   \n",
       "555  40     0   49    4   \n",
       "556  53     2   49    4   \n",
       "557  64     4   49    4   \n",
       "558  85     6   49    4   \n",
       "559 108     8   49    4   \n",
       "560 128    10   49    4   \n",
       "561 152    12   49    4   \n",
       "562 166    14   49    4   \n",
       "563 184    16   49    4   \n",
       "564 203    18   49    4   \n",
       "565 233    20   49    4   \n",
       "566 237    21   49    4   \n",
       "567  41     0   50    4   \n",
       "568  54     2   50    4   \n",
       "569  67     4   50    4   \n",
       "570  84     6   50    4   \n",
       "571 105     8   50    4   \n",
       "572 122    10   50    4   \n",
       "573 155    12   50    4   \n",
       "574 175    14   50    4   \n",
       "575 205    16   50    4   \n",
       "576 234    18   50    4   \n",
       "577 264    20   50    4   \n",
       "578 264    21   50    4   "
      ]
     },
     "metadata": {},
     "output_type": "display_data"
    }
   ],
   "source": [
    "ChickWeight"
   ]
  },
  {
   "cell_type": "code",
   "execution_count": 23,
   "metadata": {},
   "outputs": [
    {
     "name": "stdout",
     "output_type": "stream",
     "text": [
      "Classes ‘nfnGroupedData’, ‘nfGroupedData’, ‘groupedData’ and 'data.frame':\t578 obs. of  4 variables:\n",
      " $ weight: num  42 51 59 64 76 93 106 125 149 171 ...\n",
      " $ Time  : num  0 2 4 6 8 10 12 14 16 18 ...\n",
      " $ Chick : Ord.factor w/ 50 levels \"18\"<\"16\"<\"15\"<..: 15 15 15 15 15 15 15 15 15 15 ...\n",
      " $ Diet  : Factor w/ 4 levels \"1\",\"2\",\"3\",\"4\": 1 1 1 1 1 1 1 1 1 1 ...\n",
      " - attr(*, \"formula\")=Class 'formula'  language weight ~ Time | Chick\n",
      "  .. ..- attr(*, \".Environment\")=<environment: R_EmptyEnv> \n",
      " - attr(*, \"outer\")=Class 'formula'  language ~Diet\n",
      "  .. ..- attr(*, \".Environment\")=<environment: R_EmptyEnv> \n",
      " - attr(*, \"labels\")=List of 2\n",
      "  ..$ x: chr \"Time\"\n",
      "  ..$ y: chr \"Body weight\"\n",
      " - attr(*, \"units\")=List of 2\n",
      "  ..$ x: chr \"(days)\"\n",
      "  ..$ y: chr \"(gm)\"\n"
     ]
    }
   ],
   "source": [
    "str(ChickWeight)"
   ]
  },
  {
   "cell_type": "code",
   "execution_count": 24,
   "metadata": {},
   "outputs": [
    {
     "data": {
      "text/html": [
       "<ol class=list-inline>\n",
       "\t<li>'nfnGroupedData'</li>\n",
       "\t<li>'nfGroupedData'</li>\n",
       "\t<li>'groupedData'</li>\n",
       "\t<li>'data.frame'</li>\n",
       "</ol>\n"
      ],
      "text/latex": [
       "\\begin{enumerate*}\n",
       "\\item 'nfnGroupedData'\n",
       "\\item 'nfGroupedData'\n",
       "\\item 'groupedData'\n",
       "\\item 'data.frame'\n",
       "\\end{enumerate*}\n"
      ],
      "text/markdown": [
       "1. 'nfnGroupedData'\n",
       "2. 'nfGroupedData'\n",
       "3. 'groupedData'\n",
       "4. 'data.frame'\n",
       "\n",
       "\n"
      ],
      "text/plain": [
       "[1] \"nfnGroupedData\" \"nfGroupedData\"  \"groupedData\"    \"data.frame\"    "
      ]
     },
     "metadata": {},
     "output_type": "display_data"
    }
   ],
   "source": [
    "class(ChickWeight)"
   ]
  },
  {
   "cell_type": "markdown",
   "metadata": {},
   "source": [
    ">3. Examine the dataset `BOD`. Which of the following is true:\n",
    "\n",
    ">    A. `BOD` is not tidy: it only has six rows.\n",
    "\n",
    ">    B. `BOD` is not tidy: the first column is just an index.\n",
    "\n",
    ">    C. `BOD` is tidy: each row is an observation with two values, time and demand.\n",
    "\n",
    ">    D. `BOD` is tidy: all small datasets are tidy by definition."
   ]
  },
  {
   "cell_type": "markdown",
   "metadata": {},
   "source": [
    ">4. Which of the following datasets is tidy (you can pick more than one):\n",
    "\n",
    ">    A. `BJsales`\n",
    "\n",
    ">    B. `EuStockMarkets`\n",
    "\n",
    ">    C. `DNase`\n",
    "\n",
    ">    D. `Formaldehyde`\n",
    "\n",
    ">    E. `Orange`\n",
    "\n",
    ">    F. `UCBAdmissions`"
   ]
  },
  {
   "cell_type": "code",
   "execution_count": null,
   "metadata": {},
   "outputs": [],
   "source": []
  }
 ],
 "metadata": {
  "kernelspec": {
   "display_name": "R",
   "language": "R",
   "name": "ir"
  },
  "language_info": {
   "codemirror_mode": "r",
   "file_extension": ".r",
   "mimetype": "text/x-r-source",
   "name": "R",
   "pygments_lexer": "r",
   "version": "3.5.2"
  }
 },
 "nbformat": 4,
 "nbformat_minor": 2
}
